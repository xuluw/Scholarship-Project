{
 "cells": [
  {
   "attachments": {},
   "cell_type": "markdown",
   "metadata": {},
   "source": [
    "---\n",
    "title: \"Opening positions related to data science\"\n",
    "format:\n",
    "  html:\n",
    "    toc: true\n",
    "    toc-title: Contents\n",
    "    embed-resources: true\n",
    "    self-contained: true\n",
    "    plotly: true\n",
    "    css: styles.css\n",
    "\n",
    "execute:\n",
    "  echo: false\n",
    "  output: false\n",
    "jupyter: python3\n",
    "---"
   ]
  },
  {
   "cell_type": "code",
   "execution_count": 1,
   "metadata": {},
   "outputs": [],
   "source": [
    "import numpy as np\n",
    "import pandas as pd\n",
    "import plotly.graph_objs as go\n",
    "import plotly.express as px\n",
    "import plotly.io as pio\n",
    "pio.renderers.default = \"plotly_mimetype+notebook_connected\"\n",
    "\n",
    "import matplotlib.pyplot as plt\n",
    "import matplotlib as mpl\n",
    "from wordcloud import WordCloud, STOPWORDS, ImageColorGenerator\n",
    "from PIL import Image"
   ]
  },
  {
   "cell_type": "code",
   "execution_count": 2,
   "metadata": {},
   "outputs": [
    {
     "data": {
      "text/html": [
       "<div>\n",
       "<style scoped>\n",
       "    .dataframe tbody tr th:only-of-type {\n",
       "        vertical-align: middle;\n",
       "    }\n",
       "\n",
       "    .dataframe tbody tr th {\n",
       "        vertical-align: top;\n",
       "    }\n",
       "\n",
       "    .dataframe thead th {\n",
       "        text-align: right;\n",
       "    }\n",
       "</style>\n",
       "<table border=\"1\" class=\"dataframe\">\n",
       "  <thead>\n",
       "    <tr style=\"text-align: right;\">\n",
       "      <th></th>\n",
       "      <th>title</th>\n",
       "      <th>company_name</th>\n",
       "      <th>schedule_type</th>\n",
       "      <th>work_from_home</th>\n",
       "      <th>search_query</th>\n",
       "      <th>platform</th>\n",
       "      <th>Qualifications</th>\n",
       "      <th>Responsibilities</th>\n",
       "      <th>salary_lower_bound</th>\n",
       "      <th>salary_upper_bound</th>\n",
       "      <th>city</th>\n",
       "      <th>state</th>\n",
       "    </tr>\n",
       "  </thead>\n",
       "  <tbody>\n",
       "    <tr>\n",
       "      <th>0</th>\n",
       "      <td>Cloud Consultant, Big Data and Analytics, Goog...</td>\n",
       "      <td>Google</td>\n",
       "      <td>Full-time</td>\n",
       "      <td>NaN</td>\n",
       "      <td>big data and cloud computing</td>\n",
       "      <td>Karkidi</td>\n",
       "      <td>Bachelor’s degree in Computer Science, Enginee...</td>\n",
       "      <td>big data analytics cloud consultant work direc...</td>\n",
       "      <td>120000.000000</td>\n",
       "      <td>190000.000000</td>\n",
       "      <td>Reston</td>\n",
       "      <td>VA</td>\n",
       "    </tr>\n",
       "    <tr>\n",
       "      <th>1</th>\n",
       "      <td>Big Data Architect</td>\n",
       "      <td>Johnson Technology Systems Inc.</td>\n",
       "      <td>Full-time</td>\n",
       "      <td>NaN</td>\n",
       "      <td>big data and cloud computing</td>\n",
       "      <td>Ladders</td>\n",
       "      <td>Minimum 8-12 years of experience in Data Model...</td>\n",
       "      <td>big data architect responsible designing imple...</td>\n",
       "      <td>176890.555556</td>\n",
       "      <td>275471.086957</td>\n",
       "      <td>Washington</td>\n",
       "      <td>DC</td>\n",
       "    </tr>\n",
       "  </tbody>\n",
       "</table>\n",
       "</div>"
      ],
      "text/plain": [
       "                                               title  \\\n",
       "0  Cloud Consultant, Big Data and Analytics, Goog...   \n",
       "1                                 Big Data Architect   \n",
       "\n",
       "                      company_name schedule_type work_from_home  \\\n",
       "0                           Google     Full-time            NaN   \n",
       "1  Johnson Technology Systems Inc.     Full-time            NaN   \n",
       "\n",
       "                   search_query platform  \\\n",
       "0  big data and cloud computing  Karkidi   \n",
       "1  big data and cloud computing  Ladders   \n",
       "\n",
       "                                      Qualifications  \\\n",
       "0  Bachelor’s degree in Computer Science, Enginee...   \n",
       "1  Minimum 8-12 years of experience in Data Model...   \n",
       "\n",
       "                                    Responsibilities  salary_lower_bound  \\\n",
       "0  big data analytics cloud consultant work direc...       120000.000000   \n",
       "1  big data architect responsible designing imple...       176890.555556   \n",
       "\n",
       "   salary_upper_bound        city state  \n",
       "0       190000.000000      Reston    VA  \n",
       "1       275471.086957  Washington    DC  "
      ]
     },
     "execution_count": 2,
     "metadata": {},
     "output_type": "execute_result"
    }
   ],
   "source": [
    "df = pd.read_csv(\"./Dataset/cleaned/all.csv\")\n",
    "df.head(2)"
   ]
  },
  {
   "cell_type": "code",
   "execution_count": 3,
   "metadata": {},
   "outputs": [
    {
     "data": {
      "text/plain": [
       "title                   0\n",
       "company_name            0\n",
       "schedule_type           1\n",
       "work_from_home        646\n",
       "search_query            0\n",
       "platform                0\n",
       "Qualifications        405\n",
       "Responsibilities      418\n",
       "salary_lower_bound      6\n",
       "salary_upper_bound      0\n",
       "city                    0\n",
       "state                   0\n",
       "dtype: int64"
      ]
     },
     "execution_count": 3,
     "metadata": {},
     "output_type": "execute_result"
    }
   ],
   "source": [
    "df.isna().sum()"
   ]
  },
  {
   "attachments": {},
   "cell_type": "markdown",
   "metadata": {},
   "source": [
    "## Introduction"
   ]
  },
  {
   "attachments": {},
   "cell_type": "markdown",
   "metadata": {},
   "source": [
    "As the second year of graduate studies is around the corner, it is never too early to start learning about the current status of the job market in terms of our major -- Data Science. Understanding the characteristics and trends in the job market will help us to prepare for our job search more efficiently."
   ]
  },
  {
   "attachments": {},
   "cell_type": "markdown",
   "metadata": {},
   "source": [
    "## Data overview"
   ]
  },
  {
   "attachments": {},
   "cell_type": "markdown",
   "metadata": {},
   "source": [
    "The given data is collected by searching some keywords, including \"data scientist\", \"data analyst\", \"neural networks\", \"big data and cloud\n",
    "computing\", \"machine learning\", 'reinforcement learning', 'deep learning', \"time series\", \"block chain\", and \"natural language processing\".\n",
    "\n",
    "Among a bunch of features after cleaning, features \"state\", \"salary\", \"company_name\", and \"platform\" are mainly used."
   ]
  },
  {
   "attachments": {},
   "cell_type": "markdown",
   "metadata": {},
   "source": [
    "## Are there significant differences in salaries by state?"
   ]
  },
  {
   "attachments": {},
   "cell_type": "markdown",
   "metadata": {},
   "source": [
    "Usually salaries in a region are influenced by many factors, such as the main types of industries in the area, the population, etc. Differences in salary levels from state to state are to be expected, so what is it like for DS-related professions?"
   ]
  },
  {
   "cell_type": "code",
   "execution_count": 4,
   "metadata": {},
   "outputs": [],
   "source": [
    "# group the data by state and calculate the average salary\n",
    "state_avg_min_salary = df.groupby('state')['salary_lower_bound'].mean().reset_index()\n",
    "state_avg_min_salary = state_avg_min_salary.loc[state_avg_min_salary[\"state\"]!=\"Anywhere\",]\n",
    "\n",
    "state_avg_max_salary = df.groupby('state')['salary_upper_bound'].mean().reset_index()\n",
    "state_avg_max_salary = state_avg_max_salary.loc[state_avg_max_salary[\"state\"]!=\"Anywhere\",]"
   ]
  },
  {
   "cell_type": "code",
   "execution_count": 5,
   "metadata": {},
   "outputs": [
    {
     "data": {
      "text/html": [
       "<div>\n",
       "<style scoped>\n",
       "    .dataframe tbody tr th:only-of-type {\n",
       "        vertical-align: middle;\n",
       "    }\n",
       "\n",
       "    .dataframe tbody tr th {\n",
       "        vertical-align: top;\n",
       "    }\n",
       "\n",
       "    .dataframe thead th {\n",
       "        text-align: right;\n",
       "    }\n",
       "</style>\n",
       "<table border=\"1\" class=\"dataframe\">\n",
       "  <thead>\n",
       "    <tr style=\"text-align: right;\">\n",
       "      <th></th>\n",
       "      <th>state</th>\n",
       "      <th>salary_lower_bound</th>\n",
       "      <th>salary_upper_bound</th>\n",
       "    </tr>\n",
       "  </thead>\n",
       "  <tbody>\n",
       "    <tr>\n",
       "      <th>0</th>\n",
       "      <td>AL</td>\n",
       "      <td>117782.750000</td>\n",
       "      <td>162891.519118</td>\n",
       "    </tr>\n",
       "    <tr>\n",
       "      <th>1</th>\n",
       "      <td>AR</td>\n",
       "      <td>87530.723195</td>\n",
       "      <td>142898.994495</td>\n",
       "    </tr>\n",
       "    <tr>\n",
       "      <th>2</th>\n",
       "      <td>AZ</td>\n",
       "      <td>95866.666667</td>\n",
       "      <td>311297.872340</td>\n",
       "    </tr>\n",
       "    <tr>\n",
       "      <th>3</th>\n",
       "      <td>CA</td>\n",
       "      <td>130131.303316</td>\n",
       "      <td>240672.728899</td>\n",
       "    </tr>\n",
       "    <tr>\n",
       "      <th>4</th>\n",
       "      <td>CO</td>\n",
       "      <td>110518.974805</td>\n",
       "      <td>195174.862500</td>\n",
       "    </tr>\n",
       "  </tbody>\n",
       "</table>\n",
       "</div>"
      ],
      "text/plain": [
       "  state  salary_lower_bound  salary_upper_bound\n",
       "0    AL       117782.750000       162891.519118\n",
       "1    AR        87530.723195       142898.994495\n",
       "2    AZ        95866.666667       311297.872340\n",
       "3    CA       130131.303316       240672.728899\n",
       "4    CO       110518.974805       195174.862500"
      ]
     },
     "execution_count": 5,
     "metadata": {},
     "output_type": "execute_result"
    }
   ],
   "source": [
    "state_avg_salary = pd.merge(state_avg_min_salary,state_avg_max_salary,on=\"state\" )\n",
    "state_avg_salary.head()"
   ]
  },
  {
   "cell_type": "code",
   "execution_count": 20,
   "metadata": {},
   "outputs": [
    {
     "data": {
      "text/html": [
       "<div>\n",
       "<style scoped>\n",
       "    .dataframe tbody tr th:only-of-type {\n",
       "        vertical-align: middle;\n",
       "    }\n",
       "\n",
       "    .dataframe tbody tr th {\n",
       "        vertical-align: top;\n",
       "    }\n",
       "\n",
       "    .dataframe thead th {\n",
       "        text-align: right;\n",
       "    }\n",
       "</style>\n",
       "<table border=\"1\" class=\"dataframe\">\n",
       "  <thead>\n",
       "    <tr style=\"text-align: right;\">\n",
       "      <th></th>\n",
       "      <th>title</th>\n",
       "      <th>company_name</th>\n",
       "      <th>schedule_type</th>\n",
       "      <th>work_from_home</th>\n",
       "      <th>search_query</th>\n",
       "      <th>platform</th>\n",
       "      <th>Qualifications</th>\n",
       "      <th>Responsibilities</th>\n",
       "      <th>salary_lower_bound</th>\n",
       "      <th>salary_upper_bound</th>\n",
       "      <th>city</th>\n",
       "      <th>state</th>\n",
       "    </tr>\n",
       "  </thead>\n",
       "  <tbody>\n",
       "    <tr>\n",
       "      <th>189</th>\n",
       "      <td>Deep Learning Compiler Engineer</td>\n",
       "      <td>Intel Corporation</td>\n",
       "      <td>Full-time</td>\n",
       "      <td>NaN</td>\n",
       "      <td>deep learning</td>\n",
       "      <td>LocalJobs.com</td>\n",
       "      <td>NaN</td>\n",
       "      <td>NaN</td>\n",
       "      <td>217350.0</td>\n",
       "      <td>347090.0</td>\n",
       "      <td>Honolulu</td>\n",
       "      <td>HI</td>\n",
       "    </tr>\n",
       "    <tr>\n",
       "      <th>193</th>\n",
       "      <td>Deep Learning Compiler Engineer</td>\n",
       "      <td>Intel Corporation</td>\n",
       "      <td>Full-time</td>\n",
       "      <td>NaN</td>\n",
       "      <td>deep learning</td>\n",
       "      <td>LocalJobs.com</td>\n",
       "      <td>NaN</td>\n",
       "      <td>NaN</td>\n",
       "      <td>217350.0</td>\n",
       "      <td>347090.0</td>\n",
       "      <td>Honolulu</td>\n",
       "      <td>HI</td>\n",
       "    </tr>\n",
       "  </tbody>\n",
       "</table>\n",
       "</div>"
      ],
      "text/plain": [
       "                               title       company_name schedule_type  \\\n",
       "189  Deep Learning Compiler Engineer  Intel Corporation     Full-time   \n",
       "193  Deep Learning Compiler Engineer  Intel Corporation     Full-time   \n",
       "\n",
       "    work_from_home   search_query       platform Qualifications  \\\n",
       "189            NaN  deep learning  LocalJobs.com            NaN   \n",
       "193            NaN  deep learning  LocalJobs.com            NaN   \n",
       "\n",
       "    Responsibilities  salary_lower_bound  salary_upper_bound      city state  \n",
       "189              NaN            217350.0            347090.0  Honolulu    HI  \n",
       "193              NaN            217350.0            347090.0  Honolulu    HI  "
      ]
     },
     "execution_count": 20,
     "metadata": {},
     "output_type": "execute_result"
    }
   ],
   "source": [
    "df.loc[df[\"state\"]==\"HI\",]"
   ]
  },
  {
   "cell_type": "code",
   "execution_count": 6,
   "metadata": {},
   "outputs": [
    {
     "data": {
      "text/html": [
       "        <script type=\"text/javascript\">\n",
       "        window.PlotlyConfig = {MathJaxConfig: 'local'};\n",
       "        if (window.MathJax && window.MathJax.Hub && window.MathJax.Hub.Config) {window.MathJax.Hub.Config({SVG: {font: \"STIX-Web\"}});}\n",
       "        if (typeof require !== 'undefined') {\n",
       "        require.undef(\"plotly\");\n",
       "        requirejs.config({\n",
       "            paths: {\n",
       "                'plotly': ['https://cdn.plot.ly/plotly-2.12.1.min']\n",
       "            }\n",
       "        });\n",
       "        require(['plotly'], function(Plotly) {\n",
       "            window._Plotly = Plotly;\n",
       "        });\n",
       "        }\n",
       "        </script>\n",
       "        "
      ]
     },
     "metadata": {},
     "output_type": "display_data"
    },
    {
     "data": {
      "application/vnd.plotly.v1+json": {
       "config": {
        "plotlyServerURL": "https://plot.ly"
       },
       "data": [
        {
         "autocolorscale": false,
         "colorbar": {
          "title": {
           "text": "Average salary"
          }
         },
         "colorscale": [
          [
           0,
           "rgb(211, 242, 163)"
          ],
          [
           0.16666666666666666,
           "rgb(151, 225, 150)"
          ],
          [
           0.3333333333333333,
           "rgb(108, 192, 139)"
          ],
          [
           0.5,
           "rgb(76, 155, 130)"
          ],
          [
           0.6666666666666666,
           "rgb(33, 122, 121)"
          ],
          [
           0.8333333333333334,
           "rgb(16, 89, 101)"
          ],
          [
           1,
           "rgb(7, 64, 80)"
          ]
         ],
         "locationmode": "USA-states",
         "locations": [
          "AL",
          "AR",
          "AZ",
          "CA",
          "CO",
          "DC",
          "DE",
          "FL",
          "GA",
          "HI",
          "IL",
          "IN",
          "KS",
          "KY",
          "LA",
          "MA",
          "MD",
          "MI",
          "MN",
          "MO",
          "NC",
          "NE",
          "NJ",
          "NV",
          "NY",
          "OH",
          "OK",
          "PA",
          "SC",
          "TN",
          "TX",
          "UT",
          "VA",
          "WA",
          "WI",
          "WV"
         ],
         "marker": {
          "line": {
           "color": "white"
          }
         },
         "type": "choropleth",
         "visible": true,
         "z": [
          117782.75,
          87530.7231950845,
          95866.66666666669,
          130131.30331639735,
          110518.9748050191,
          127785.49952101662,
          176890.55555555556,
          131952.63157894736,
          99196.7925925926,
          217350,
          164624.9744282811,
          95136.12903225806,
          93233.85481481483,
          95866.66666666669,
          95866.66666666669,
          123305.76593948748,
          141391.35790294164,
          147337.953125,
          111071.38191593353,
          96672.84761904762,
          128476.10366826155,
          81115.78666666668,
          150890.9025974026,
          82600,
          128933.14853828294,
          133480.12125,
          83452.51039426525,
          120576.31578947368,
          95866.66666666669,
          131286.50104166666,
          122466.37208184924,
          151630.1851851852,
          115584.17434497066,
          132087.65758024322,
          112567.64027370479,
          129999.15151515152
         ]
        },
        {
         "autocolorscale": false,
         "colorbar": {
          "title": {
           "text": "Average salary"
          }
         },
         "colorscale": [
          [
           0,
           "rgb(211, 242, 163)"
          ],
          [
           0.16666666666666666,
           "rgb(151, 225, 150)"
          ],
          [
           0.3333333333333333,
           "rgb(108, 192, 139)"
          ],
          [
           0.5,
           "rgb(76, 155, 130)"
          ],
          [
           0.6666666666666666,
           "rgb(33, 122, 121)"
          ],
          [
           0.8333333333333334,
           "rgb(16, 89, 101)"
          ],
          [
           1,
           "rgb(7, 64, 80)"
          ]
         ],
         "locationmode": "USA-states",
         "locations": [
          "AL",
          "AR",
          "AZ",
          "CA",
          "CO",
          "DC",
          "DE",
          "FL",
          "GA",
          "HI",
          "IL",
          "IN",
          "KS",
          "KY",
          "LA",
          "MA",
          "MD",
          "MI",
          "MN",
          "MO",
          "NC",
          "NE",
          "NJ",
          "NV",
          "NY",
          "OH",
          "OK",
          "PA",
          "SC",
          "TN",
          "TX",
          "UT",
          "VA",
          "WA",
          "WI",
          "WV"
         ],
         "marker": {
          "line": {
           "color": "white"
          }
         },
         "type": "choropleth",
         "visible": false,
         "z": [
          162891.51911764705,
          142898.99449456975,
          311297.8723404256,
          240672.7288987916,
          195174.8625,
          189002.4736422955,
          275471.0869565217,
          324467.8571428572,
          243765.1169814414,
          347090,
          299113.84222178056,
          170968.4877777778,
          151286.47940503433,
          311297.8723404256,
          311297.8723404256,
          226378.93403174783,
          224037.64016959944,
          266668.08684210526,
          191731.4313295985,
          148412.9357363998,
          282533.92857142864,
          127464.8947368421,
          241979.06313742886,
          153400,
          233788.3818020913,
          211063.9229864253,
          134715.49357699804,
          263633.92857142864,
          311297.8723404256,
          200060.47758990235,
          212332.29365726502,
          239066.66666666666,
          201547.5117338391,
          253003.4154128858,
          218812.81531746034,
          266657.14285714284
         ]
        }
       ],
       "layout": {
        "geo": {
         "scope": "usa"
        },
        "template": {
         "data": {
          "bar": [
           {
            "error_x": {
             "color": "#2a3f5f"
            },
            "error_y": {
             "color": "#2a3f5f"
            },
            "marker": {
             "line": {
              "color": "#E5ECF6",
              "width": 0.5
             },
             "pattern": {
              "fillmode": "overlay",
              "size": 10,
              "solidity": 0.2
             }
            },
            "type": "bar"
           }
          ],
          "barpolar": [
           {
            "marker": {
             "line": {
              "color": "#E5ECF6",
              "width": 0.5
             },
             "pattern": {
              "fillmode": "overlay",
              "size": 10,
              "solidity": 0.2
             }
            },
            "type": "barpolar"
           }
          ],
          "carpet": [
           {
            "aaxis": {
             "endlinecolor": "#2a3f5f",
             "gridcolor": "white",
             "linecolor": "white",
             "minorgridcolor": "white",
             "startlinecolor": "#2a3f5f"
            },
            "baxis": {
             "endlinecolor": "#2a3f5f",
             "gridcolor": "white",
             "linecolor": "white",
             "minorgridcolor": "white",
             "startlinecolor": "#2a3f5f"
            },
            "type": "carpet"
           }
          ],
          "choropleth": [
           {
            "colorbar": {
             "outlinewidth": 0,
             "ticks": ""
            },
            "type": "choropleth"
           }
          ],
          "contour": [
           {
            "colorbar": {
             "outlinewidth": 0,
             "ticks": ""
            },
            "colorscale": [
             [
              0,
              "#0d0887"
             ],
             [
              0.1111111111111111,
              "#46039f"
             ],
             [
              0.2222222222222222,
              "#7201a8"
             ],
             [
              0.3333333333333333,
              "#9c179e"
             ],
             [
              0.4444444444444444,
              "#bd3786"
             ],
             [
              0.5555555555555556,
              "#d8576b"
             ],
             [
              0.6666666666666666,
              "#ed7953"
             ],
             [
              0.7777777777777778,
              "#fb9f3a"
             ],
             [
              0.8888888888888888,
              "#fdca26"
             ],
             [
              1,
              "#f0f921"
             ]
            ],
            "type": "contour"
           }
          ],
          "contourcarpet": [
           {
            "colorbar": {
             "outlinewidth": 0,
             "ticks": ""
            },
            "type": "contourcarpet"
           }
          ],
          "heatmap": [
           {
            "colorbar": {
             "outlinewidth": 0,
             "ticks": ""
            },
            "colorscale": [
             [
              0,
              "#0d0887"
             ],
             [
              0.1111111111111111,
              "#46039f"
             ],
             [
              0.2222222222222222,
              "#7201a8"
             ],
             [
              0.3333333333333333,
              "#9c179e"
             ],
             [
              0.4444444444444444,
              "#bd3786"
             ],
             [
              0.5555555555555556,
              "#d8576b"
             ],
             [
              0.6666666666666666,
              "#ed7953"
             ],
             [
              0.7777777777777778,
              "#fb9f3a"
             ],
             [
              0.8888888888888888,
              "#fdca26"
             ],
             [
              1,
              "#f0f921"
             ]
            ],
            "type": "heatmap"
           }
          ],
          "heatmapgl": [
           {
            "colorbar": {
             "outlinewidth": 0,
             "ticks": ""
            },
            "colorscale": [
             [
              0,
              "#0d0887"
             ],
             [
              0.1111111111111111,
              "#46039f"
             ],
             [
              0.2222222222222222,
              "#7201a8"
             ],
             [
              0.3333333333333333,
              "#9c179e"
             ],
             [
              0.4444444444444444,
              "#bd3786"
             ],
             [
              0.5555555555555556,
              "#d8576b"
             ],
             [
              0.6666666666666666,
              "#ed7953"
             ],
             [
              0.7777777777777778,
              "#fb9f3a"
             ],
             [
              0.8888888888888888,
              "#fdca26"
             ],
             [
              1,
              "#f0f921"
             ]
            ],
            "type": "heatmapgl"
           }
          ],
          "histogram": [
           {
            "marker": {
             "pattern": {
              "fillmode": "overlay",
              "size": 10,
              "solidity": 0.2
             }
            },
            "type": "histogram"
           }
          ],
          "histogram2d": [
           {
            "colorbar": {
             "outlinewidth": 0,
             "ticks": ""
            },
            "colorscale": [
             [
              0,
              "#0d0887"
             ],
             [
              0.1111111111111111,
              "#46039f"
             ],
             [
              0.2222222222222222,
              "#7201a8"
             ],
             [
              0.3333333333333333,
              "#9c179e"
             ],
             [
              0.4444444444444444,
              "#bd3786"
             ],
             [
              0.5555555555555556,
              "#d8576b"
             ],
             [
              0.6666666666666666,
              "#ed7953"
             ],
             [
              0.7777777777777778,
              "#fb9f3a"
             ],
             [
              0.8888888888888888,
              "#fdca26"
             ],
             [
              1,
              "#f0f921"
             ]
            ],
            "type": "histogram2d"
           }
          ],
          "histogram2dcontour": [
           {
            "colorbar": {
             "outlinewidth": 0,
             "ticks": ""
            },
            "colorscale": [
             [
              0,
              "#0d0887"
             ],
             [
              0.1111111111111111,
              "#46039f"
             ],
             [
              0.2222222222222222,
              "#7201a8"
             ],
             [
              0.3333333333333333,
              "#9c179e"
             ],
             [
              0.4444444444444444,
              "#bd3786"
             ],
             [
              0.5555555555555556,
              "#d8576b"
             ],
             [
              0.6666666666666666,
              "#ed7953"
             ],
             [
              0.7777777777777778,
              "#fb9f3a"
             ],
             [
              0.8888888888888888,
              "#fdca26"
             ],
             [
              1,
              "#f0f921"
             ]
            ],
            "type": "histogram2dcontour"
           }
          ],
          "mesh3d": [
           {
            "colorbar": {
             "outlinewidth": 0,
             "ticks": ""
            },
            "type": "mesh3d"
           }
          ],
          "parcoords": [
           {
            "line": {
             "colorbar": {
              "outlinewidth": 0,
              "ticks": ""
             }
            },
            "type": "parcoords"
           }
          ],
          "pie": [
           {
            "automargin": true,
            "type": "pie"
           }
          ],
          "scatter": [
           {
            "fillpattern": {
             "fillmode": "overlay",
             "size": 10,
             "solidity": 0.2
            },
            "type": "scatter"
           }
          ],
          "scatter3d": [
           {
            "line": {
             "colorbar": {
              "outlinewidth": 0,
              "ticks": ""
             }
            },
            "marker": {
             "colorbar": {
              "outlinewidth": 0,
              "ticks": ""
             }
            },
            "type": "scatter3d"
           }
          ],
          "scattercarpet": [
           {
            "marker": {
             "colorbar": {
              "outlinewidth": 0,
              "ticks": ""
             }
            },
            "type": "scattercarpet"
           }
          ],
          "scattergeo": [
           {
            "marker": {
             "colorbar": {
              "outlinewidth": 0,
              "ticks": ""
             }
            },
            "type": "scattergeo"
           }
          ],
          "scattergl": [
           {
            "marker": {
             "colorbar": {
              "outlinewidth": 0,
              "ticks": ""
             }
            },
            "type": "scattergl"
           }
          ],
          "scattermapbox": [
           {
            "marker": {
             "colorbar": {
              "outlinewidth": 0,
              "ticks": ""
             }
            },
            "type": "scattermapbox"
           }
          ],
          "scatterpolar": [
           {
            "marker": {
             "colorbar": {
              "outlinewidth": 0,
              "ticks": ""
             }
            },
            "type": "scatterpolar"
           }
          ],
          "scatterpolargl": [
           {
            "marker": {
             "colorbar": {
              "outlinewidth": 0,
              "ticks": ""
             }
            },
            "type": "scatterpolargl"
           }
          ],
          "scatterternary": [
           {
            "marker": {
             "colorbar": {
              "outlinewidth": 0,
              "ticks": ""
             }
            },
            "type": "scatterternary"
           }
          ],
          "surface": [
           {
            "colorbar": {
             "outlinewidth": 0,
             "ticks": ""
            },
            "colorscale": [
             [
              0,
              "#0d0887"
             ],
             [
              0.1111111111111111,
              "#46039f"
             ],
             [
              0.2222222222222222,
              "#7201a8"
             ],
             [
              0.3333333333333333,
              "#9c179e"
             ],
             [
              0.4444444444444444,
              "#bd3786"
             ],
             [
              0.5555555555555556,
              "#d8576b"
             ],
             [
              0.6666666666666666,
              "#ed7953"
             ],
             [
              0.7777777777777778,
              "#fb9f3a"
             ],
             [
              0.8888888888888888,
              "#fdca26"
             ],
             [
              1,
              "#f0f921"
             ]
            ],
            "type": "surface"
           }
          ],
          "table": [
           {
            "cells": {
             "fill": {
              "color": "#EBF0F8"
             },
             "line": {
              "color": "white"
             }
            },
            "header": {
             "fill": {
              "color": "#C8D4E3"
             },
             "line": {
              "color": "white"
             }
            },
            "type": "table"
           }
          ]
         },
         "layout": {
          "annotationdefaults": {
           "arrowcolor": "#2a3f5f",
           "arrowhead": 0,
           "arrowwidth": 1
          },
          "autotypenumbers": "strict",
          "coloraxis": {
           "colorbar": {
            "outlinewidth": 0,
            "ticks": ""
           }
          },
          "colorscale": {
           "diverging": [
            [
             0,
             "#8e0152"
            ],
            [
             0.1,
             "#c51b7d"
            ],
            [
             0.2,
             "#de77ae"
            ],
            [
             0.3,
             "#f1b6da"
            ],
            [
             0.4,
             "#fde0ef"
            ],
            [
             0.5,
             "#f7f7f7"
            ],
            [
             0.6,
             "#e6f5d0"
            ],
            [
             0.7,
             "#b8e186"
            ],
            [
             0.8,
             "#7fbc41"
            ],
            [
             0.9,
             "#4d9221"
            ],
            [
             1,
             "#276419"
            ]
           ],
           "sequential": [
            [
             0,
             "#0d0887"
            ],
            [
             0.1111111111111111,
             "#46039f"
            ],
            [
             0.2222222222222222,
             "#7201a8"
            ],
            [
             0.3333333333333333,
             "#9c179e"
            ],
            [
             0.4444444444444444,
             "#bd3786"
            ],
            [
             0.5555555555555556,
             "#d8576b"
            ],
            [
             0.6666666666666666,
             "#ed7953"
            ],
            [
             0.7777777777777778,
             "#fb9f3a"
            ],
            [
             0.8888888888888888,
             "#fdca26"
            ],
            [
             1,
             "#f0f921"
            ]
           ],
           "sequentialminus": [
            [
             0,
             "#0d0887"
            ],
            [
             0.1111111111111111,
             "#46039f"
            ],
            [
             0.2222222222222222,
             "#7201a8"
            ],
            [
             0.3333333333333333,
             "#9c179e"
            ],
            [
             0.4444444444444444,
             "#bd3786"
            ],
            [
             0.5555555555555556,
             "#d8576b"
            ],
            [
             0.6666666666666666,
             "#ed7953"
            ],
            [
             0.7777777777777778,
             "#fb9f3a"
            ],
            [
             0.8888888888888888,
             "#fdca26"
            ],
            [
             1,
             "#f0f921"
            ]
           ]
          },
          "colorway": [
           "#636efa",
           "#EF553B",
           "#00cc96",
           "#ab63fa",
           "#FFA15A",
           "#19d3f3",
           "#FF6692",
           "#B6E880",
           "#FF97FF",
           "#FECB52"
          ],
          "font": {
           "color": "#2a3f5f"
          },
          "geo": {
           "bgcolor": "white",
           "lakecolor": "white",
           "landcolor": "#E5ECF6",
           "showlakes": true,
           "showland": true,
           "subunitcolor": "white"
          },
          "hoverlabel": {
           "align": "left"
          },
          "hovermode": "closest",
          "mapbox": {
           "style": "light"
          },
          "paper_bgcolor": "white",
          "plot_bgcolor": "#E5ECF6",
          "polar": {
           "angularaxis": {
            "gridcolor": "white",
            "linecolor": "white",
            "ticks": ""
           },
           "bgcolor": "#E5ECF6",
           "radialaxis": {
            "gridcolor": "white",
            "linecolor": "white",
            "ticks": ""
           }
          },
          "scene": {
           "xaxis": {
            "backgroundcolor": "#E5ECF6",
            "gridcolor": "white",
            "gridwidth": 2,
            "linecolor": "white",
            "showbackground": true,
            "ticks": "",
            "zerolinecolor": "white"
           },
           "yaxis": {
            "backgroundcolor": "#E5ECF6",
            "gridcolor": "white",
            "gridwidth": 2,
            "linecolor": "white",
            "showbackground": true,
            "ticks": "",
            "zerolinecolor": "white"
           },
           "zaxis": {
            "backgroundcolor": "#E5ECF6",
            "gridcolor": "white",
            "gridwidth": 2,
            "linecolor": "white",
            "showbackground": true,
            "ticks": "",
            "zerolinecolor": "white"
           }
          },
          "shapedefaults": {
           "line": {
            "color": "#2a3f5f"
           }
          },
          "ternary": {
           "aaxis": {
            "gridcolor": "white",
            "linecolor": "white",
            "ticks": ""
           },
           "baxis": {
            "gridcolor": "white",
            "linecolor": "white",
            "ticks": ""
           },
           "bgcolor": "#E5ECF6",
           "caxis": {
            "gridcolor": "white",
            "linecolor": "white",
            "ticks": ""
           }
          },
          "title": {
           "x": 0.05
          },
          "xaxis": {
           "automargin": true,
           "gridcolor": "white",
           "linecolor": "white",
           "ticks": "",
           "title": {
            "standoff": 15
           },
           "zerolinecolor": "white",
           "zerolinewidth": 2
          },
          "yaxis": {
           "automargin": true,
           "gridcolor": "white",
           "linecolor": "white",
           "ticks": "",
           "title": {
            "standoff": 15
           },
           "zerolinecolor": "white",
           "zerolinewidth": 2
          }
         }
        },
        "title": {
         "text": "Average annual salary"
        },
        "updatemenus": [
         {
          "buttons": [
           {
            "args": [
             {
              "visible": [
               true,
               false
              ]
             },
             {
              "colorbar": {
               "title": "Avg min salary"
              }
             }
            ],
            "label": "Average min salary",
            "method": "update"
           },
           {
            "args": [
             {
              "visible": [
               false,
               true
              ]
             },
             {
              "colorbar": {
               "title": "Avg max salary"
              }
             }
            ],
            "label": "Average max salary",
            "method": "update"
           }
          ],
          "direction": "down",
          "showactive": true,
          "x": 0.15,
          "y": 1
         }
        ]
       }
      },
      "text/html": [
       "<div>                            <div id=\"0fa8df3d-9291-48f0-b6cb-183b5d1ddbc5\" class=\"plotly-graph-div\" style=\"height:525px; width:100%;\"></div>            <script type=\"text/javascript\">                require([\"plotly\"], function(Plotly) {                    window.PLOTLYENV=window.PLOTLYENV || {};                                    if (document.getElementById(\"0fa8df3d-9291-48f0-b6cb-183b5d1ddbc5\")) {                    Plotly.newPlot(                        \"0fa8df3d-9291-48f0-b6cb-183b5d1ddbc5\",                        [{\"autocolorscale\":false,\"colorbar\":{\"title\":{\"text\":\"Average salary\"}},\"colorscale\":[[0.0,\"rgb(211, 242, 163)\"],[0.16666666666666666,\"rgb(151, 225, 150)\"],[0.3333333333333333,\"rgb(108, 192, 139)\"],[0.5,\"rgb(76, 155, 130)\"],[0.6666666666666666,\"rgb(33, 122, 121)\"],[0.8333333333333334,\"rgb(16, 89, 101)\"],[1.0,\"rgb(7, 64, 80)\"]],\"locationmode\":\"USA-states\",\"locations\":[\"AL\",\"AR\",\"AZ\",\"CA\",\"CO\",\"DC\",\"DE\",\"FL\",\"GA\",\"HI\",\"IL\",\"IN\",\"KS\",\"KY\",\"LA\",\"MA\",\"MD\",\"MI\",\"MN\",\"MO\",\"NC\",\"NE\",\"NJ\",\"NV\",\"NY\",\"OH\",\"OK\",\"PA\",\"SC\",\"TN\",\"TX\",\"UT\",\"VA\",\"WA\",\"WI\",\"WV\"],\"marker\":{\"line\":{\"color\":\"white\"}},\"visible\":true,\"z\":[117782.75,87530.7231950845,95866.66666666669,130131.30331639735,110518.9748050191,127785.49952101662,176890.55555555556,131952.63157894736,99196.7925925926,217350.0,164624.9744282811,95136.12903225806,93233.85481481483,95866.66666666669,95866.66666666669,123305.76593948748,141391.35790294164,147337.953125,111071.38191593353,96672.84761904762,128476.10366826155,81115.78666666668,150890.9025974026,82600.0,128933.14853828294,133480.12125,83452.51039426525,120576.31578947368,95866.66666666669,131286.50104166666,122466.37208184924,151630.1851851852,115584.17434497066,132087.65758024322,112567.64027370479,129999.15151515152],\"type\":\"choropleth\"},{\"autocolorscale\":false,\"colorbar\":{\"title\":{\"text\":\"Average salary\"}},\"colorscale\":[[0.0,\"rgb(211, 242, 163)\"],[0.16666666666666666,\"rgb(151, 225, 150)\"],[0.3333333333333333,\"rgb(108, 192, 139)\"],[0.5,\"rgb(76, 155, 130)\"],[0.6666666666666666,\"rgb(33, 122, 121)\"],[0.8333333333333334,\"rgb(16, 89, 101)\"],[1.0,\"rgb(7, 64, 80)\"]],\"locationmode\":\"USA-states\",\"locations\":[\"AL\",\"AR\",\"AZ\",\"CA\",\"CO\",\"DC\",\"DE\",\"FL\",\"GA\",\"HI\",\"IL\",\"IN\",\"KS\",\"KY\",\"LA\",\"MA\",\"MD\",\"MI\",\"MN\",\"MO\",\"NC\",\"NE\",\"NJ\",\"NV\",\"NY\",\"OH\",\"OK\",\"PA\",\"SC\",\"TN\",\"TX\",\"UT\",\"VA\",\"WA\",\"WI\",\"WV\"],\"marker\":{\"line\":{\"color\":\"white\"}},\"visible\":false,\"z\":[162891.51911764705,142898.99449456975,311297.8723404256,240672.7288987916,195174.8625,189002.4736422955,275471.0869565217,324467.8571428572,243765.1169814414,347090.0,299113.84222178056,170968.4877777778,151286.47940503433,311297.8723404256,311297.8723404256,226378.93403174783,224037.64016959944,266668.08684210526,191731.4313295985,148412.9357363998,282533.92857142864,127464.8947368421,241979.06313742886,153400.0,233788.3818020913,211063.9229864253,134715.49357699804,263633.92857142864,311297.8723404256,200060.47758990235,212332.29365726502,239066.66666666666,201547.5117338391,253003.4154128858,218812.81531746034,266657.14285714284],\"type\":\"choropleth\"}],                        {\"template\":{\"data\":{\"histogram2dcontour\":[{\"type\":\"histogram2dcontour\",\"colorbar\":{\"outlinewidth\":0,\"ticks\":\"\"},\"colorscale\":[[0.0,\"#0d0887\"],[0.1111111111111111,\"#46039f\"],[0.2222222222222222,\"#7201a8\"],[0.3333333333333333,\"#9c179e\"],[0.4444444444444444,\"#bd3786\"],[0.5555555555555556,\"#d8576b\"],[0.6666666666666666,\"#ed7953\"],[0.7777777777777778,\"#fb9f3a\"],[0.8888888888888888,\"#fdca26\"],[1.0,\"#f0f921\"]]}],\"choropleth\":[{\"type\":\"choropleth\",\"colorbar\":{\"outlinewidth\":0,\"ticks\":\"\"}}],\"histogram2d\":[{\"type\":\"histogram2d\",\"colorbar\":{\"outlinewidth\":0,\"ticks\":\"\"},\"colorscale\":[[0.0,\"#0d0887\"],[0.1111111111111111,\"#46039f\"],[0.2222222222222222,\"#7201a8\"],[0.3333333333333333,\"#9c179e\"],[0.4444444444444444,\"#bd3786\"],[0.5555555555555556,\"#d8576b\"],[0.6666666666666666,\"#ed7953\"],[0.7777777777777778,\"#fb9f3a\"],[0.8888888888888888,\"#fdca26\"],[1.0,\"#f0f921\"]]}],\"heatmap\":[{\"type\":\"heatmap\",\"colorbar\":{\"outlinewidth\":0,\"ticks\":\"\"},\"colorscale\":[[0.0,\"#0d0887\"],[0.1111111111111111,\"#46039f\"],[0.2222222222222222,\"#7201a8\"],[0.3333333333333333,\"#9c179e\"],[0.4444444444444444,\"#bd3786\"],[0.5555555555555556,\"#d8576b\"],[0.6666666666666666,\"#ed7953\"],[0.7777777777777778,\"#fb9f3a\"],[0.8888888888888888,\"#fdca26\"],[1.0,\"#f0f921\"]]}],\"heatmapgl\":[{\"type\":\"heatmapgl\",\"colorbar\":{\"outlinewidth\":0,\"ticks\":\"\"},\"colorscale\":[[0.0,\"#0d0887\"],[0.1111111111111111,\"#46039f\"],[0.2222222222222222,\"#7201a8\"],[0.3333333333333333,\"#9c179e\"],[0.4444444444444444,\"#bd3786\"],[0.5555555555555556,\"#d8576b\"],[0.6666666666666666,\"#ed7953\"],[0.7777777777777778,\"#fb9f3a\"],[0.8888888888888888,\"#fdca26\"],[1.0,\"#f0f921\"]]}],\"contourcarpet\":[{\"type\":\"contourcarpet\",\"colorbar\":{\"outlinewidth\":0,\"ticks\":\"\"}}],\"contour\":[{\"type\":\"contour\",\"colorbar\":{\"outlinewidth\":0,\"ticks\":\"\"},\"colorscale\":[[0.0,\"#0d0887\"],[0.1111111111111111,\"#46039f\"],[0.2222222222222222,\"#7201a8\"],[0.3333333333333333,\"#9c179e\"],[0.4444444444444444,\"#bd3786\"],[0.5555555555555556,\"#d8576b\"],[0.6666666666666666,\"#ed7953\"],[0.7777777777777778,\"#fb9f3a\"],[0.8888888888888888,\"#fdca26\"],[1.0,\"#f0f921\"]]}],\"surface\":[{\"type\":\"surface\",\"colorbar\":{\"outlinewidth\":0,\"ticks\":\"\"},\"colorscale\":[[0.0,\"#0d0887\"],[0.1111111111111111,\"#46039f\"],[0.2222222222222222,\"#7201a8\"],[0.3333333333333333,\"#9c179e\"],[0.4444444444444444,\"#bd3786\"],[0.5555555555555556,\"#d8576b\"],[0.6666666666666666,\"#ed7953\"],[0.7777777777777778,\"#fb9f3a\"],[0.8888888888888888,\"#fdca26\"],[1.0,\"#f0f921\"]]}],\"mesh3d\":[{\"type\":\"mesh3d\",\"colorbar\":{\"outlinewidth\":0,\"ticks\":\"\"}}],\"scatter\":[{\"fillpattern\":{\"fillmode\":\"overlay\",\"size\":10,\"solidity\":0.2},\"type\":\"scatter\"}],\"parcoords\":[{\"type\":\"parcoords\",\"line\":{\"colorbar\":{\"outlinewidth\":0,\"ticks\":\"\"}}}],\"scatterpolargl\":[{\"type\":\"scatterpolargl\",\"marker\":{\"colorbar\":{\"outlinewidth\":0,\"ticks\":\"\"}}}],\"bar\":[{\"error_x\":{\"color\":\"#2a3f5f\"},\"error_y\":{\"color\":\"#2a3f5f\"},\"marker\":{\"line\":{\"color\":\"#E5ECF6\",\"width\":0.5},\"pattern\":{\"fillmode\":\"overlay\",\"size\":10,\"solidity\":0.2}},\"type\":\"bar\"}],\"scattergeo\":[{\"type\":\"scattergeo\",\"marker\":{\"colorbar\":{\"outlinewidth\":0,\"ticks\":\"\"}}}],\"scatterpolar\":[{\"type\":\"scatterpolar\",\"marker\":{\"colorbar\":{\"outlinewidth\":0,\"ticks\":\"\"}}}],\"histogram\":[{\"marker\":{\"pattern\":{\"fillmode\":\"overlay\",\"size\":10,\"solidity\":0.2}},\"type\":\"histogram\"}],\"scattergl\":[{\"type\":\"scattergl\",\"marker\":{\"colorbar\":{\"outlinewidth\":0,\"ticks\":\"\"}}}],\"scatter3d\":[{\"type\":\"scatter3d\",\"line\":{\"colorbar\":{\"outlinewidth\":0,\"ticks\":\"\"}},\"marker\":{\"colorbar\":{\"outlinewidth\":0,\"ticks\":\"\"}}}],\"scattermapbox\":[{\"type\":\"scattermapbox\",\"marker\":{\"colorbar\":{\"outlinewidth\":0,\"ticks\":\"\"}}}],\"scatterternary\":[{\"type\":\"scatterternary\",\"marker\":{\"colorbar\":{\"outlinewidth\":0,\"ticks\":\"\"}}}],\"scattercarpet\":[{\"type\":\"scattercarpet\",\"marker\":{\"colorbar\":{\"outlinewidth\":0,\"ticks\":\"\"}}}],\"carpet\":[{\"aaxis\":{\"endlinecolor\":\"#2a3f5f\",\"gridcolor\":\"white\",\"linecolor\":\"white\",\"minorgridcolor\":\"white\",\"startlinecolor\":\"#2a3f5f\"},\"baxis\":{\"endlinecolor\":\"#2a3f5f\",\"gridcolor\":\"white\",\"linecolor\":\"white\",\"minorgridcolor\":\"white\",\"startlinecolor\":\"#2a3f5f\"},\"type\":\"carpet\"}],\"table\":[{\"cells\":{\"fill\":{\"color\":\"#EBF0F8\"},\"line\":{\"color\":\"white\"}},\"header\":{\"fill\":{\"color\":\"#C8D4E3\"},\"line\":{\"color\":\"white\"}},\"type\":\"table\"}],\"barpolar\":[{\"marker\":{\"line\":{\"color\":\"#E5ECF6\",\"width\":0.5},\"pattern\":{\"fillmode\":\"overlay\",\"size\":10,\"solidity\":0.2}},\"type\":\"barpolar\"}],\"pie\":[{\"automargin\":true,\"type\":\"pie\"}]},\"layout\":{\"autotypenumbers\":\"strict\",\"colorway\":[\"#636efa\",\"#EF553B\",\"#00cc96\",\"#ab63fa\",\"#FFA15A\",\"#19d3f3\",\"#FF6692\",\"#B6E880\",\"#FF97FF\",\"#FECB52\"],\"font\":{\"color\":\"#2a3f5f\"},\"hovermode\":\"closest\",\"hoverlabel\":{\"align\":\"left\"},\"paper_bgcolor\":\"white\",\"plot_bgcolor\":\"#E5ECF6\",\"polar\":{\"bgcolor\":\"#E5ECF6\",\"angularaxis\":{\"gridcolor\":\"white\",\"linecolor\":\"white\",\"ticks\":\"\"},\"radialaxis\":{\"gridcolor\":\"white\",\"linecolor\":\"white\",\"ticks\":\"\"}},\"ternary\":{\"bgcolor\":\"#E5ECF6\",\"aaxis\":{\"gridcolor\":\"white\",\"linecolor\":\"white\",\"ticks\":\"\"},\"baxis\":{\"gridcolor\":\"white\",\"linecolor\":\"white\",\"ticks\":\"\"},\"caxis\":{\"gridcolor\":\"white\",\"linecolor\":\"white\",\"ticks\":\"\"}},\"coloraxis\":{\"colorbar\":{\"outlinewidth\":0,\"ticks\":\"\"}},\"colorscale\":{\"sequential\":[[0.0,\"#0d0887\"],[0.1111111111111111,\"#46039f\"],[0.2222222222222222,\"#7201a8\"],[0.3333333333333333,\"#9c179e\"],[0.4444444444444444,\"#bd3786\"],[0.5555555555555556,\"#d8576b\"],[0.6666666666666666,\"#ed7953\"],[0.7777777777777778,\"#fb9f3a\"],[0.8888888888888888,\"#fdca26\"],[1.0,\"#f0f921\"]],\"sequentialminus\":[[0.0,\"#0d0887\"],[0.1111111111111111,\"#46039f\"],[0.2222222222222222,\"#7201a8\"],[0.3333333333333333,\"#9c179e\"],[0.4444444444444444,\"#bd3786\"],[0.5555555555555556,\"#d8576b\"],[0.6666666666666666,\"#ed7953\"],[0.7777777777777778,\"#fb9f3a\"],[0.8888888888888888,\"#fdca26\"],[1.0,\"#f0f921\"]],\"diverging\":[[0,\"#8e0152\"],[0.1,\"#c51b7d\"],[0.2,\"#de77ae\"],[0.3,\"#f1b6da\"],[0.4,\"#fde0ef\"],[0.5,\"#f7f7f7\"],[0.6,\"#e6f5d0\"],[0.7,\"#b8e186\"],[0.8,\"#7fbc41\"],[0.9,\"#4d9221\"],[1,\"#276419\"]]},\"xaxis\":{\"gridcolor\":\"white\",\"linecolor\":\"white\",\"ticks\":\"\",\"title\":{\"standoff\":15},\"zerolinecolor\":\"white\",\"automargin\":true,\"zerolinewidth\":2},\"yaxis\":{\"gridcolor\":\"white\",\"linecolor\":\"white\",\"ticks\":\"\",\"title\":{\"standoff\":15},\"zerolinecolor\":\"white\",\"automargin\":true,\"zerolinewidth\":2},\"scene\":{\"xaxis\":{\"backgroundcolor\":\"#E5ECF6\",\"gridcolor\":\"white\",\"linecolor\":\"white\",\"showbackground\":true,\"ticks\":\"\",\"zerolinecolor\":\"white\",\"gridwidth\":2},\"yaxis\":{\"backgroundcolor\":\"#E5ECF6\",\"gridcolor\":\"white\",\"linecolor\":\"white\",\"showbackground\":true,\"ticks\":\"\",\"zerolinecolor\":\"white\",\"gridwidth\":2},\"zaxis\":{\"backgroundcolor\":\"#E5ECF6\",\"gridcolor\":\"white\",\"linecolor\":\"white\",\"showbackground\":true,\"ticks\":\"\",\"zerolinecolor\":\"white\",\"gridwidth\":2}},\"shapedefaults\":{\"line\":{\"color\":\"#2a3f5f\"}},\"annotationdefaults\":{\"arrowcolor\":\"#2a3f5f\",\"arrowhead\":0,\"arrowwidth\":1},\"geo\":{\"bgcolor\":\"white\",\"landcolor\":\"#E5ECF6\",\"subunitcolor\":\"white\",\"showland\":true,\"showlakes\":true,\"lakecolor\":\"white\"},\"title\":{\"x\":0.05},\"mapbox\":{\"style\":\"light\"}}},\"updatemenus\":[{\"buttons\":[{\"args\":[{\"visible\":[true,false]},{\"colorbar\":{\"title\":\"Avg min salary\"}}],\"label\":\"Average min salary\",\"method\":\"update\"},{\"args\":[{\"visible\":[false,true]},{\"colorbar\":{\"title\":\"Avg max salary\"}}],\"label\":\"Average max salary\",\"method\":\"update\"}],\"direction\":\"down\",\"showactive\":true,\"x\":0.15,\"y\":1.0}],\"title\":{\"text\":\"Average annual salary\"},\"geo\":{\"scope\":\"usa\"}},                        {\"responsive\": true}                    ).then(function(){\n",
       "                            \n",
       "var gd = document.getElementById('0fa8df3d-9291-48f0-b6cb-183b5d1ddbc5');\n",
       "var x = new MutationObserver(function (mutations, observer) {{\n",
       "        var display = window.getComputedStyle(gd).display;\n",
       "        if (!display || display === 'none') {{\n",
       "            console.log([gd, 'removed!']);\n",
       "            Plotly.purge(gd);\n",
       "            observer.disconnect();\n",
       "        }}\n",
       "}});\n",
       "\n",
       "// Listen for the removal of the full notebook cells\n",
       "var notebookContainer = gd.closest('#notebook-container');\n",
       "if (notebookContainer) {{\n",
       "    x.observe(notebookContainer, {childList: true});\n",
       "}}\n",
       "\n",
       "// Listen for the clearing of the current output cell\n",
       "var outputEl = gd.closest('.output');\n",
       "if (outputEl) {{\n",
       "    x.observe(outputEl, {childList: true});\n",
       "}}\n",
       "\n",
       "                        })                };                });            </script>        </div>"
      ]
     },
     "metadata": {},
     "output_type": "display_data"
    }
   ],
   "source": [
    "#| output: true\n",
    "#| fig-cap: Figure 1. Choropleth maps for an annual salary of different states. <br> By choosing one of the labels of the dropdown menu, the lowest and the highest annual salary in different states are shown. The dark the color, the higher the annual salary. \n",
    "\n",
    "fig = go.Figure()\n",
    "\n",
    "fig.add_trace(\n",
    "    go.Choropleth(\n",
    "    locations=state_avg_salary['state'],  # Set the location to the state abbreviations\n",
    "    z=state_avg_salary[\"salary_lower_bound\"],  # Assign data to the data column\n",
    "    locationmode='USA-states',\n",
    "    colorscale='Emrld',\n",
    "    autocolorscale=False,\n",
    "    marker_line_color='white', # line markers between states\n",
    "    colorbar_title=\"Average salary\",\n",
    "    visible=True,\n",
    "))\n",
    "\n",
    "fig.add_trace(\n",
    "    go.Choropleth(\n",
    "    locations=state_avg_salary['state'],  # Set the location to the state abbreviations\n",
    "    z=state_avg_salary[\"salary_upper_bound\"],  # Assign data to the data column\n",
    "    locationmode='USA-states',\n",
    "    colorscale='Emrld',\n",
    "    autocolorscale=False,\n",
    "    marker_line_color='white', # line markers between states\n",
    "    colorbar_title=\"Average salary\",\n",
    "    visible=False,\n",
    "))\n",
    "\n",
    "# add the dropdown menu\n",
    "fig.update_layout(\n",
    "    updatemenus=[\n",
    "        dict(\n",
    "            buttons=list([\n",
    "                dict(\n",
    "                    args=[{\"visible\": [True, False]}, \n",
    "                          {'colorbar': {'title': 'Avg min salary'}}],\n",
    "                    label='Average min salary',\n",
    "                    method='update',\n",
    "                ),\n",
    "                dict(\n",
    "                    args=[{\"visible\": [False, True]}, \n",
    "                          {'colorbar': {'title': 'Avg max salary'}}],\n",
    "                    label='Average max salary',\n",
    "                    method='update',\n",
    "                )\n",
    "            ]),\n",
    "            direction='down',\n",
    "            showactive=True,\n",
    "            x=0.15,\n",
    "            y=1.0\n",
    "        )\n",
    "    ]\n",
    ")\n",
    "\n",
    "\n",
    "fig.update_layout(\n",
    "    title_text='Average annual salary',  # Set the title of the map\n",
    "    geo_scope='usa',  # Set the projection to US\n",
    ")\n",
    "\n",
    "fig.show()"
   ]
  },
  {
   "attachments": {},
   "cell_type": "markdown",
   "metadata": {},
   "source": [
    "<br>\n",
    "What is surprising once we see this picture is that the state HI is the darkest in both two maps. The reason for this is found to be that HI only has two open positions from `Intel Corporation` with high lower and upper salary bounds.\n",
    "\n",
    "Except for the HI, states DE, HI, and UT are the top 3 states with the highest average lower bound of annual salary for all positions. Florida is the state that has the highest average upper bound of annual salary."
   ]
  },
  {
   "attachments": {},
   "cell_type": "markdown",
   "metadata": {},
   "source": [
    "## Which job hunting platforms host more open positions?"
   ]
  },
  {
   "attachments": {},
   "cell_type": "markdown",
   "metadata": {},
   "source": [
    "Different job-hunting platforms have different characteristics. For example, LinkedIn focuses on professional networking and job listings, while Glassdoor provides company reviews, interview insight, etc. as well. Thus, it may vary on the types of work that are more frequently included for different platforms."
   ]
  },
  {
   "cell_type": "code",
   "execution_count": 7,
   "metadata": {},
   "outputs": [
    {
     "data": {
      "text/html": [
       "<div>\n",
       "<style scoped>\n",
       "    .dataframe tbody tr th:only-of-type {\n",
       "        vertical-align: middle;\n",
       "    }\n",
       "\n",
       "    .dataframe tbody tr th {\n",
       "        vertical-align: top;\n",
       "    }\n",
       "\n",
       "    .dataframe thead th {\n",
       "        text-align: right;\n",
       "    }\n",
       "</style>\n",
       "<table border=\"1\" class=\"dataframe\">\n",
       "  <thead>\n",
       "    <tr style=\"text-align: right;\">\n",
       "      <th></th>\n",
       "      <th>platform</th>\n",
       "    </tr>\n",
       "  </thead>\n",
       "  <tbody>\n",
       "    <tr>\n",
       "      <th>LinkedIn</th>\n",
       "      <td>66</td>\n",
       "    </tr>\n",
       "    <tr>\n",
       "      <th>ZipRecruiter</th>\n",
       "      <td>60</td>\n",
       "    </tr>\n",
       "    <tr>\n",
       "      <th>Upwork</th>\n",
       "      <td>56</td>\n",
       "    </tr>\n",
       "  </tbody>\n",
       "</table>\n",
       "</div>"
      ],
      "text/plain": [
       "              platform\n",
       "LinkedIn            66\n",
       "ZipRecruiter        60\n",
       "Upwork              56"
      ]
     },
     "execution_count": 7,
     "metadata": {},
     "output_type": "execute_result"
    }
   ],
   "source": [
    "platform_cnt = pd.DataFrame(df[\"platform\"].value_counts())\n",
    "platform_cnt.head(3)"
   ]
  },
  {
   "cell_type": "code",
   "execution_count": 8,
   "metadata": {},
   "outputs": [
    {
     "data": {
      "text/html": [
       "<div>\n",
       "<style scoped>\n",
       "    .dataframe tbody tr th:only-of-type {\n",
       "        vertical-align: middle;\n",
       "    }\n",
       "\n",
       "    .dataframe tbody tr th {\n",
       "        vertical-align: top;\n",
       "    }\n",
       "\n",
       "    .dataframe thead th {\n",
       "        text-align: right;\n",
       "    }\n",
       "</style>\n",
       "<table border=\"1\" class=\"dataframe\">\n",
       "  <thead>\n",
       "    <tr style=\"text-align: right;\">\n",
       "      <th></th>\n",
       "      <th>platform</th>\n",
       "      <th>count</th>\n",
       "    </tr>\n",
       "  </thead>\n",
       "  <tbody>\n",
       "    <tr>\n",
       "      <th>0</th>\n",
       "      <td>LinkedIn</td>\n",
       "      <td>66</td>\n",
       "    </tr>\n",
       "    <tr>\n",
       "      <th>1</th>\n",
       "      <td>ZipRecruiter</td>\n",
       "      <td>60</td>\n",
       "    </tr>\n",
       "    <tr>\n",
       "      <th>2</th>\n",
       "      <td>Upwork</td>\n",
       "      <td>56</td>\n",
       "    </tr>\n",
       "    <tr>\n",
       "      <th>3</th>\n",
       "      <td>AngelList</td>\n",
       "      <td>36</td>\n",
       "    </tr>\n",
       "    <tr>\n",
       "      <th>4</th>\n",
       "      <td>Geebo</td>\n",
       "      <td>32</td>\n",
       "    </tr>\n",
       "    <tr>\n",
       "      <th>5</th>\n",
       "      <td>Lever</td>\n",
       "      <td>23</td>\n",
       "    </tr>\n",
       "    <tr>\n",
       "      <th>6</th>\n",
       "      <td>Greenhouse</td>\n",
       "      <td>19</td>\n",
       "    </tr>\n",
       "    <tr>\n",
       "      <th>7</th>\n",
       "      <td>Clearance Jobs</td>\n",
       "      <td>19</td>\n",
       "    </tr>\n",
       "    <tr>\n",
       "      <th>8</th>\n",
       "      <td>Startup Jobs</td>\n",
       "      <td>16</td>\n",
       "    </tr>\n",
       "    <tr>\n",
       "      <th>9</th>\n",
       "      <td>Built In</td>\n",
       "      <td>15</td>\n",
       "    </tr>\n",
       "  </tbody>\n",
       "</table>\n",
       "</div>"
      ],
      "text/plain": [
       "         platform  count\n",
       "0        LinkedIn     66\n",
       "1    ZipRecruiter     60\n",
       "2          Upwork     56\n",
       "3       AngelList     36\n",
       "4           Geebo     32\n",
       "5           Lever     23\n",
       "6      Greenhouse     19\n",
       "7  Clearance Jobs     19\n",
       "8    Startup Jobs     16\n",
       "9        Built In     15"
      ]
     },
     "execution_count": 8,
     "metadata": {},
     "output_type": "execute_result"
    }
   ],
   "source": [
    "platform_cnt.reset_index(inplace=True)\n",
    "platform_cnt.rename(columns={\"index\":\"platform\", \"platform\":\"count\"},inplace=True)\n",
    "platform_cnt.head(10)"
   ]
  },
  {
   "cell_type": "code",
   "execution_count": 9,
   "metadata": {},
   "outputs": [
    {
     "data": {
      "text/html": [
       "<div>\n",
       "<style scoped>\n",
       "    .dataframe tbody tr th:only-of-type {\n",
       "        vertical-align: middle;\n",
       "    }\n",
       "\n",
       "    .dataframe tbody tr th {\n",
       "        vertical-align: top;\n",
       "    }\n",
       "\n",
       "    .dataframe thead th {\n",
       "        text-align: right;\n",
       "    }\n",
       "</style>\n",
       "<table border=\"1\" class=\"dataframe\">\n",
       "  <thead>\n",
       "    <tr style=\"text-align: right;\">\n",
       "      <th></th>\n",
       "      <th>platform</th>\n",
       "      <th>search_query</th>\n",
       "      <th>count</th>\n",
       "    </tr>\n",
       "  </thead>\n",
       "  <tbody>\n",
       "    <tr>\n",
       "      <th>0</th>\n",
       "      <td>ASK Consulting</td>\n",
       "      <td>data analyst</td>\n",
       "      <td>1</td>\n",
       "    </tr>\n",
       "    <tr>\n",
       "      <th>1</th>\n",
       "      <td>ASK Consulting</td>\n",
       "      <td>natural language processing</td>\n",
       "      <td>1</td>\n",
       "    </tr>\n",
       "    <tr>\n",
       "      <th>2</th>\n",
       "      <td>AbbVie Careers</td>\n",
       "      <td>data scientist</td>\n",
       "      <td>1</td>\n",
       "    </tr>\n",
       "    <tr>\n",
       "      <th>3</th>\n",
       "      <td>Abbott Jobs</td>\n",
       "      <td>data scientist</td>\n",
       "      <td>1</td>\n",
       "    </tr>\n",
       "    <tr>\n",
       "      <th>4</th>\n",
       "      <td>Adzuna</td>\n",
       "      <td>data analyst</td>\n",
       "      <td>1</td>\n",
       "    </tr>\n",
       "    <tr>\n",
       "      <th>...</th>\n",
       "      <td>...</td>\n",
       "      <td>...</td>\n",
       "      <td>...</td>\n",
       "    </tr>\n",
       "    <tr>\n",
       "      <th>360</th>\n",
       "      <td>ZipRecruiter</td>\n",
       "      <td>deep learning</td>\n",
       "      <td>4</td>\n",
       "    </tr>\n",
       "    <tr>\n",
       "      <th>361</th>\n",
       "      <td>ZipRecruiter</td>\n",
       "      <td>machine learning</td>\n",
       "      <td>4</td>\n",
       "    </tr>\n",
       "    <tr>\n",
       "      <th>362</th>\n",
       "      <td>ZipRecruiter</td>\n",
       "      <td>natural language processing</td>\n",
       "      <td>7</td>\n",
       "    </tr>\n",
       "    <tr>\n",
       "      <th>363</th>\n",
       "      <td>ZipRecruiter</td>\n",
       "      <td>neural networks</td>\n",
       "      <td>8</td>\n",
       "    </tr>\n",
       "    <tr>\n",
       "      <th>364</th>\n",
       "      <td>ZipRecruiter</td>\n",
       "      <td>reinforcement learning</td>\n",
       "      <td>7</td>\n",
       "    </tr>\n",
       "  </tbody>\n",
       "</table>\n",
       "<p>365 rows × 3 columns</p>\n",
       "</div>"
      ],
      "text/plain": [
       "           platform                 search_query  count\n",
       "0    ASK Consulting                 data analyst      1\n",
       "1    ASK Consulting  natural language processing      1\n",
       "2    AbbVie Careers               data scientist      1\n",
       "3       Abbott Jobs               data scientist      1\n",
       "4            Adzuna                 data analyst      1\n",
       "..              ...                          ...    ...\n",
       "360    ZipRecruiter                deep learning      4\n",
       "361    ZipRecruiter             machine learning      4\n",
       "362    ZipRecruiter  natural language processing      7\n",
       "363    ZipRecruiter              neural networks      8\n",
       "364    ZipRecruiter       reinforcement learning      7\n",
       "\n",
       "[365 rows x 3 columns]"
      ]
     },
     "execution_count": 9,
     "metadata": {},
     "output_type": "execute_result"
    }
   ],
   "source": [
    "platform_title_cnt = df.groupby([\"platform\",\"search_query\"]).size().reset_index(name='count')\n",
    "platform_title_cnt"
   ]
  },
  {
   "cell_type": "code",
   "execution_count": 10,
   "metadata": {},
   "outputs": [
    {
     "name": "stderr",
     "output_type": "stream",
     "text": [
      "C:\\Users\\wxl\\AppData\\Local\\Temp\\ipykernel_28632\\138710838.py:3: SettingWithCopyWarning:\n",
      "\n",
      "\n",
      "A value is trying to be set on a copy of a slice from a DataFrame\n",
      "\n",
      "See the caveats in the documentation: https://pandas.pydata.org/pandas-docs/stable/user_guide/indexing.html#returning-a-view-versus-a-copy\n",
      "\n"
     ]
    },
    {
     "data": {
      "text/html": [
       "<div>\n",
       "<style scoped>\n",
       "    .dataframe tbody tr th:only-of-type {\n",
       "        vertical-align: middle;\n",
       "    }\n",
       "\n",
       "    .dataframe tbody tr th {\n",
       "        vertical-align: top;\n",
       "    }\n",
       "\n",
       "    .dataframe thead th {\n",
       "        text-align: right;\n",
       "    }\n",
       "</style>\n",
       "<table border=\"1\" class=\"dataframe\">\n",
       "  <thead>\n",
       "    <tr style=\"text-align: right;\">\n",
       "      <th></th>\n",
       "      <th>platform</th>\n",
       "      <th>search_query</th>\n",
       "      <th>count</th>\n",
       "    </tr>\n",
       "  </thead>\n",
       "  <tbody>\n",
       "    <tr>\n",
       "      <th>0</th>\n",
       "      <td>AngelList</td>\n",
       "      <td>block chain</td>\n",
       "      <td>10</td>\n",
       "    </tr>\n",
       "    <tr>\n",
       "      <th>1</th>\n",
       "      <td>AngelList</td>\n",
       "      <td>deep learning</td>\n",
       "      <td>6</td>\n",
       "    </tr>\n",
       "    <tr>\n",
       "      <th>2</th>\n",
       "      <td>AngelList</td>\n",
       "      <td>machine learning</td>\n",
       "      <td>2</td>\n",
       "    </tr>\n",
       "    <tr>\n",
       "      <th>3</th>\n",
       "      <td>AngelList</td>\n",
       "      <td>natural language processing</td>\n",
       "      <td>3</td>\n",
       "    </tr>\n",
       "    <tr>\n",
       "      <th>4</th>\n",
       "      <td>AngelList</td>\n",
       "      <td>neural networks</td>\n",
       "      <td>8</td>\n",
       "    </tr>\n",
       "    <tr>\n",
       "      <th>...</th>\n",
       "      <td>...</td>\n",
       "      <td>...</td>\n",
       "      <td>...</td>\n",
       "    </tr>\n",
       "    <tr>\n",
       "      <th>68</th>\n",
       "      <td>ZipRecruiter</td>\n",
       "      <td>deep learning</td>\n",
       "      <td>4</td>\n",
       "    </tr>\n",
       "    <tr>\n",
       "      <th>69</th>\n",
       "      <td>ZipRecruiter</td>\n",
       "      <td>machine learning</td>\n",
       "      <td>4</td>\n",
       "    </tr>\n",
       "    <tr>\n",
       "      <th>70</th>\n",
       "      <td>ZipRecruiter</td>\n",
       "      <td>natural language processing</td>\n",
       "      <td>7</td>\n",
       "    </tr>\n",
       "    <tr>\n",
       "      <th>71</th>\n",
       "      <td>ZipRecruiter</td>\n",
       "      <td>neural networks</td>\n",
       "      <td>8</td>\n",
       "    </tr>\n",
       "    <tr>\n",
       "      <th>72</th>\n",
       "      <td>ZipRecruiter</td>\n",
       "      <td>reinforcement learning</td>\n",
       "      <td>7</td>\n",
       "    </tr>\n",
       "  </tbody>\n",
       "</table>\n",
       "<p>73 rows × 3 columns</p>\n",
       "</div>"
      ],
      "text/plain": [
       "        platform                 search_query  count\n",
       "0      AngelList                  block chain     10\n",
       "1      AngelList                deep learning      6\n",
       "2      AngelList             machine learning      2\n",
       "3      AngelList  natural language processing      3\n",
       "4      AngelList              neural networks      8\n",
       "..           ...                          ...    ...\n",
       "68  ZipRecruiter                deep learning      4\n",
       "69  ZipRecruiter             machine learning      4\n",
       "70  ZipRecruiter  natural language processing      7\n",
       "71  ZipRecruiter              neural networks      8\n",
       "72  ZipRecruiter       reinforcement learning      7\n",
       "\n",
       "[73 rows x 3 columns]"
      ]
     },
     "execution_count": 10,
     "metadata": {},
     "output_type": "execute_result"
    }
   ],
   "source": [
    "platform_title_cnt = platform_title_cnt.loc[platform_title_cnt[\"platform\"].isin(list(platform_cnt.loc[0:9,\"platform\"].values)), ]\n",
    "platform_title_cnt.reset_index(inplace=True)\n",
    "platform_title_cnt.drop(columns=\"index\",inplace=True)\n",
    "platform_title_cnt"
   ]
  },
  {
   "cell_type": "code",
   "execution_count": 11,
   "metadata": {},
   "outputs": [
    {
     "data": {
      "application/vnd.plotly.v1+json": {
       "config": {
        "plotlyServerURL": "https://plot.ly"
       },
       "data": [
        {
         "alignmentgroup": "True",
         "hovertemplate": "Search query=block chain<br>Job search platforms=%{x}<br>Number of searched results=%{y}<extra></extra>",
         "legendgroup": "block chain",
         "marker": {
          "color": "#4C78A8",
          "pattern": {
           "shape": ""
          }
         },
         "name": "block chain",
         "offsetgroup": "block chain",
         "orientation": "v",
         "showlegend": true,
         "textposition": "auto",
         "type": "bar",
         "x": [
          "AngelList",
          "Built In",
          "Geebo",
          "Greenhouse",
          "Lever",
          "LinkedIn",
          "Startup Jobs",
          "Upwork",
          "ZipRecruiter"
         ],
         "xaxis": "x",
         "y": [
          10,
          4,
          6,
          6,
          4,
          10,
          4,
          5,
          7
         ],
         "yaxis": "y"
        },
        {
         "alignmentgroup": "True",
         "hovertemplate": "Search query=deep learning<br>Job search platforms=%{x}<br>Number of searched results=%{y}<extra></extra>",
         "legendgroup": "deep learning",
         "marker": {
          "color": "#F58518",
          "pattern": {
           "shape": ""
          }
         },
         "name": "deep learning",
         "offsetgroup": "deep learning",
         "orientation": "v",
         "showlegend": true,
         "textposition": "auto",
         "type": "bar",
         "x": [
          "AngelList",
          "Clearance Jobs",
          "Geebo",
          "Greenhouse",
          "Lever",
          "LinkedIn",
          "Startup Jobs",
          "Upwork",
          "ZipRecruiter"
         ],
         "xaxis": "x",
         "y": [
          6,
          2,
          4,
          5,
          3,
          6,
          3,
          3,
          4
         ],
         "yaxis": "y"
        },
        {
         "alignmentgroup": "True",
         "hovertemplate": "Search query=machine learning<br>Job search platforms=%{x}<br>Number of searched results=%{y}<extra></extra>",
         "legendgroup": "machine learning",
         "marker": {
          "color": "#E45756",
          "pattern": {
           "shape": ""
          }
         },
         "name": "machine learning",
         "offsetgroup": "machine learning",
         "orientation": "v",
         "showlegend": true,
         "textposition": "auto",
         "type": "bar",
         "x": [
          "AngelList",
          "Built In",
          "Clearance Jobs",
          "Geebo",
          "Greenhouse",
          "Lever",
          "LinkedIn",
          "Upwork",
          "ZipRecruiter"
         ],
         "xaxis": "x",
         "y": [
          2,
          1,
          4,
          2,
          2,
          4,
          9,
          4,
          4
         ],
         "yaxis": "y"
        },
        {
         "alignmentgroup": "True",
         "hovertemplate": "Search query=natural language processing<br>Job search platforms=%{x}<br>Number of searched results=%{y}<extra></extra>",
         "legendgroup": "natural language processing",
         "marker": {
          "color": "#72B7B2",
          "pattern": {
           "shape": ""
          }
         },
         "name": "natural language processing",
         "offsetgroup": "natural language processing",
         "orientation": "v",
         "showlegend": true,
         "textposition": "auto",
         "type": "bar",
         "x": [
          "AngelList",
          "Geebo",
          "LinkedIn",
          "Upwork",
          "ZipRecruiter"
         ],
         "xaxis": "x",
         "y": [
          3,
          4,
          1,
          4,
          7
         ],
         "yaxis": "y"
        },
        {
         "alignmentgroup": "True",
         "hovertemplate": "Search query=neural networks<br>Job search platforms=%{x}<br>Number of searched results=%{y}<extra></extra>",
         "legendgroup": "neural networks",
         "marker": {
          "color": "#54A24B",
          "pattern": {
           "shape": ""
          }
         },
         "name": "neural networks",
         "offsetgroup": "neural networks",
         "orientation": "v",
         "showlegend": true,
         "textposition": "auto",
         "type": "bar",
         "x": [
          "AngelList",
          "Geebo",
          "LinkedIn",
          "Startup Jobs",
          "Upwork",
          "ZipRecruiter"
         ],
         "xaxis": "x",
         "y": [
          8,
          5,
          9,
          1,
          26,
          8
         ],
         "yaxis": "y"
        },
        {
         "alignmentgroup": "True",
         "hovertemplate": "Search query=reinforcement learning<br>Job search platforms=%{x}<br>Number of searched results=%{y}<extra></extra>",
         "legendgroup": "reinforcement learning",
         "marker": {
          "color": "#EECA3B",
          "pattern": {
           "shape": ""
          }
         },
         "name": "reinforcement learning",
         "offsetgroup": "reinforcement learning",
         "orientation": "v",
         "showlegend": true,
         "textposition": "auto",
         "type": "bar",
         "x": [
          "AngelList",
          "Built In",
          "Clearance Jobs",
          "Geebo",
          "Greenhouse",
          "Lever",
          "LinkedIn",
          "Startup Jobs",
          "Upwork",
          "ZipRecruiter"
         ],
         "xaxis": "x",
         "y": [
          7,
          2,
          3,
          1,
          5,
          2,
          8,
          2,
          6,
          7
         ],
         "yaxis": "y"
        },
        {
         "alignmentgroup": "True",
         "hovertemplate": "Search query=big data and cloud computing<br>Job search platforms=%{x}<br>Number of searched results=%{y}<extra></extra>",
         "legendgroup": "big data and cloud computing",
         "marker": {
          "color": "#B279A2",
          "pattern": {
           "shape": ""
          }
         },
         "name": "big data and cloud computing",
         "offsetgroup": "big data and cloud computing",
         "orientation": "v",
         "showlegend": true,
         "textposition": "auto",
         "type": "bar",
         "x": [
          "Built In",
          "Clearance Jobs",
          "Geebo",
          "Lever",
          "Startup Jobs",
          "ZipRecruiter"
         ],
         "xaxis": "x",
         "y": [
          4,
          3,
          5,
          3,
          5,
          9
         ],
         "yaxis": "y"
        },
        {
         "alignmentgroup": "True",
         "hovertemplate": "Search query=data analyst<br>Job search platforms=%{x}<br>Number of searched results=%{y}<extra></extra>",
         "legendgroup": "data analyst",
         "marker": {
          "color": "#FF9DA6",
          "pattern": {
           "shape": ""
          }
         },
         "name": "data analyst",
         "offsetgroup": "data analyst",
         "orientation": "v",
         "showlegend": true,
         "textposition": "auto",
         "type": "bar",
         "x": [
          "Built In",
          "Clearance Jobs",
          "Lever",
          "LinkedIn",
          "Startup Jobs",
          "Upwork",
          "ZipRecruiter"
         ],
         "xaxis": "x",
         "y": [
          1,
          2,
          6,
          14,
          1,
          2,
          8
         ],
         "yaxis": "y"
        },
        {
         "alignmentgroup": "True",
         "hovertemplate": "Search query=data scientist<br>Job search platforms=%{x}<br>Number of searched results=%{y}<extra></extra>",
         "legendgroup": "data scientist",
         "marker": {
          "color": "#9D755D",
          "pattern": {
           "shape": ""
          }
         },
         "name": "data scientist",
         "offsetgroup": "data scientist",
         "orientation": "v",
         "showlegend": true,
         "textposition": "auto",
         "type": "bar",
         "x": [
          "Built In",
          "Clearance Jobs",
          "Geebo",
          "Greenhouse",
          "Lever",
          "LinkedIn",
          "ZipRecruiter"
         ],
         "xaxis": "x",
         "y": [
          3,
          5,
          2,
          1,
          1,
          8,
          6
         ],
         "yaxis": "y"
        },
        {
         "alignmentgroup": "True",
         "hovertemplate": "Search query=time series<br>Job search platforms=%{x}<br>Number of searched results=%{y}<extra></extra>",
         "legendgroup": "time series",
         "marker": {
          "color": "#BAB0AC",
          "pattern": {
           "shape": ""
          }
         },
         "name": "time series",
         "offsetgroup": "time series",
         "orientation": "v",
         "showlegend": true,
         "textposition": "auto",
         "type": "bar",
         "x": [
          "Geebo",
          "Upwork"
         ],
         "xaxis": "x",
         "y": [
          1,
          3
         ],
         "yaxis": "y"
        },
        {
         "alignmentgroup": "True",
         "hovertemplate": "Search query=time series analysis<br>Job search platforms=%{x}<br>Number of searched results=%{y}<extra></extra>",
         "legendgroup": "time series analysis",
         "marker": {
          "color": "#4C78A8",
          "pattern": {
           "shape": ""
          }
         },
         "name": "time series analysis",
         "offsetgroup": "time series analysis",
         "orientation": "v",
         "showlegend": true,
         "textposition": "auto",
         "type": "bar",
         "x": [
          "Geebo",
          "LinkedIn",
          "Upwork"
         ],
         "xaxis": "x",
         "y": [
          2,
          1,
          3
         ],
         "yaxis": "y"
        }
       ],
       "layout": {
        "barmode": "stack",
        "legend": {
         "title": {
          "text": "Search query"
         },
         "tracegroupgap": 0
        },
        "template": {
         "data": {
          "bar": [
           {
            "error_x": {
             "color": "#2a3f5f"
            },
            "error_y": {
             "color": "#2a3f5f"
            },
            "marker": {
             "line": {
              "color": "#E5ECF6",
              "width": 0.5
             },
             "pattern": {
              "fillmode": "overlay",
              "size": 10,
              "solidity": 0.2
             }
            },
            "type": "bar"
           }
          ],
          "barpolar": [
           {
            "marker": {
             "line": {
              "color": "#E5ECF6",
              "width": 0.5
             },
             "pattern": {
              "fillmode": "overlay",
              "size": 10,
              "solidity": 0.2
             }
            },
            "type": "barpolar"
           }
          ],
          "carpet": [
           {
            "aaxis": {
             "endlinecolor": "#2a3f5f",
             "gridcolor": "white",
             "linecolor": "white",
             "minorgridcolor": "white",
             "startlinecolor": "#2a3f5f"
            },
            "baxis": {
             "endlinecolor": "#2a3f5f",
             "gridcolor": "white",
             "linecolor": "white",
             "minorgridcolor": "white",
             "startlinecolor": "#2a3f5f"
            },
            "type": "carpet"
           }
          ],
          "choropleth": [
           {
            "colorbar": {
             "outlinewidth": 0,
             "ticks": ""
            },
            "type": "choropleth"
           }
          ],
          "contour": [
           {
            "colorbar": {
             "outlinewidth": 0,
             "ticks": ""
            },
            "colorscale": [
             [
              0,
              "#0d0887"
             ],
             [
              0.1111111111111111,
              "#46039f"
             ],
             [
              0.2222222222222222,
              "#7201a8"
             ],
             [
              0.3333333333333333,
              "#9c179e"
             ],
             [
              0.4444444444444444,
              "#bd3786"
             ],
             [
              0.5555555555555556,
              "#d8576b"
             ],
             [
              0.6666666666666666,
              "#ed7953"
             ],
             [
              0.7777777777777778,
              "#fb9f3a"
             ],
             [
              0.8888888888888888,
              "#fdca26"
             ],
             [
              1,
              "#f0f921"
             ]
            ],
            "type": "contour"
           }
          ],
          "contourcarpet": [
           {
            "colorbar": {
             "outlinewidth": 0,
             "ticks": ""
            },
            "type": "contourcarpet"
           }
          ],
          "heatmap": [
           {
            "colorbar": {
             "outlinewidth": 0,
             "ticks": ""
            },
            "colorscale": [
             [
              0,
              "#0d0887"
             ],
             [
              0.1111111111111111,
              "#46039f"
             ],
             [
              0.2222222222222222,
              "#7201a8"
             ],
             [
              0.3333333333333333,
              "#9c179e"
             ],
             [
              0.4444444444444444,
              "#bd3786"
             ],
             [
              0.5555555555555556,
              "#d8576b"
             ],
             [
              0.6666666666666666,
              "#ed7953"
             ],
             [
              0.7777777777777778,
              "#fb9f3a"
             ],
             [
              0.8888888888888888,
              "#fdca26"
             ],
             [
              1,
              "#f0f921"
             ]
            ],
            "type": "heatmap"
           }
          ],
          "heatmapgl": [
           {
            "colorbar": {
             "outlinewidth": 0,
             "ticks": ""
            },
            "colorscale": [
             [
              0,
              "#0d0887"
             ],
             [
              0.1111111111111111,
              "#46039f"
             ],
             [
              0.2222222222222222,
              "#7201a8"
             ],
             [
              0.3333333333333333,
              "#9c179e"
             ],
             [
              0.4444444444444444,
              "#bd3786"
             ],
             [
              0.5555555555555556,
              "#d8576b"
             ],
             [
              0.6666666666666666,
              "#ed7953"
             ],
             [
              0.7777777777777778,
              "#fb9f3a"
             ],
             [
              0.8888888888888888,
              "#fdca26"
             ],
             [
              1,
              "#f0f921"
             ]
            ],
            "type": "heatmapgl"
           }
          ],
          "histogram": [
           {
            "marker": {
             "pattern": {
              "fillmode": "overlay",
              "size": 10,
              "solidity": 0.2
             }
            },
            "type": "histogram"
           }
          ],
          "histogram2d": [
           {
            "colorbar": {
             "outlinewidth": 0,
             "ticks": ""
            },
            "colorscale": [
             [
              0,
              "#0d0887"
             ],
             [
              0.1111111111111111,
              "#46039f"
             ],
             [
              0.2222222222222222,
              "#7201a8"
             ],
             [
              0.3333333333333333,
              "#9c179e"
             ],
             [
              0.4444444444444444,
              "#bd3786"
             ],
             [
              0.5555555555555556,
              "#d8576b"
             ],
             [
              0.6666666666666666,
              "#ed7953"
             ],
             [
              0.7777777777777778,
              "#fb9f3a"
             ],
             [
              0.8888888888888888,
              "#fdca26"
             ],
             [
              1,
              "#f0f921"
             ]
            ],
            "type": "histogram2d"
           }
          ],
          "histogram2dcontour": [
           {
            "colorbar": {
             "outlinewidth": 0,
             "ticks": ""
            },
            "colorscale": [
             [
              0,
              "#0d0887"
             ],
             [
              0.1111111111111111,
              "#46039f"
             ],
             [
              0.2222222222222222,
              "#7201a8"
             ],
             [
              0.3333333333333333,
              "#9c179e"
             ],
             [
              0.4444444444444444,
              "#bd3786"
             ],
             [
              0.5555555555555556,
              "#d8576b"
             ],
             [
              0.6666666666666666,
              "#ed7953"
             ],
             [
              0.7777777777777778,
              "#fb9f3a"
             ],
             [
              0.8888888888888888,
              "#fdca26"
             ],
             [
              1,
              "#f0f921"
             ]
            ],
            "type": "histogram2dcontour"
           }
          ],
          "mesh3d": [
           {
            "colorbar": {
             "outlinewidth": 0,
             "ticks": ""
            },
            "type": "mesh3d"
           }
          ],
          "parcoords": [
           {
            "line": {
             "colorbar": {
              "outlinewidth": 0,
              "ticks": ""
             }
            },
            "type": "parcoords"
           }
          ],
          "pie": [
           {
            "automargin": true,
            "type": "pie"
           }
          ],
          "scatter": [
           {
            "fillpattern": {
             "fillmode": "overlay",
             "size": 10,
             "solidity": 0.2
            },
            "type": "scatter"
           }
          ],
          "scatter3d": [
           {
            "line": {
             "colorbar": {
              "outlinewidth": 0,
              "ticks": ""
             }
            },
            "marker": {
             "colorbar": {
              "outlinewidth": 0,
              "ticks": ""
             }
            },
            "type": "scatter3d"
           }
          ],
          "scattercarpet": [
           {
            "marker": {
             "colorbar": {
              "outlinewidth": 0,
              "ticks": ""
             }
            },
            "type": "scattercarpet"
           }
          ],
          "scattergeo": [
           {
            "marker": {
             "colorbar": {
              "outlinewidth": 0,
              "ticks": ""
             }
            },
            "type": "scattergeo"
           }
          ],
          "scattergl": [
           {
            "marker": {
             "colorbar": {
              "outlinewidth": 0,
              "ticks": ""
             }
            },
            "type": "scattergl"
           }
          ],
          "scattermapbox": [
           {
            "marker": {
             "colorbar": {
              "outlinewidth": 0,
              "ticks": ""
             }
            },
            "type": "scattermapbox"
           }
          ],
          "scatterpolar": [
           {
            "marker": {
             "colorbar": {
              "outlinewidth": 0,
              "ticks": ""
             }
            },
            "type": "scatterpolar"
           }
          ],
          "scatterpolargl": [
           {
            "marker": {
             "colorbar": {
              "outlinewidth": 0,
              "ticks": ""
             }
            },
            "type": "scatterpolargl"
           }
          ],
          "scatterternary": [
           {
            "marker": {
             "colorbar": {
              "outlinewidth": 0,
              "ticks": ""
             }
            },
            "type": "scatterternary"
           }
          ],
          "surface": [
           {
            "colorbar": {
             "outlinewidth": 0,
             "ticks": ""
            },
            "colorscale": [
             [
              0,
              "#0d0887"
             ],
             [
              0.1111111111111111,
              "#46039f"
             ],
             [
              0.2222222222222222,
              "#7201a8"
             ],
             [
              0.3333333333333333,
              "#9c179e"
             ],
             [
              0.4444444444444444,
              "#bd3786"
             ],
             [
              0.5555555555555556,
              "#d8576b"
             ],
             [
              0.6666666666666666,
              "#ed7953"
             ],
             [
              0.7777777777777778,
              "#fb9f3a"
             ],
             [
              0.8888888888888888,
              "#fdca26"
             ],
             [
              1,
              "#f0f921"
             ]
            ],
            "type": "surface"
           }
          ],
          "table": [
           {
            "cells": {
             "fill": {
              "color": "#EBF0F8"
             },
             "line": {
              "color": "white"
             }
            },
            "header": {
             "fill": {
              "color": "#C8D4E3"
             },
             "line": {
              "color": "white"
             }
            },
            "type": "table"
           }
          ]
         },
         "layout": {
          "annotationdefaults": {
           "arrowcolor": "#2a3f5f",
           "arrowhead": 0,
           "arrowwidth": 1
          },
          "autotypenumbers": "strict",
          "coloraxis": {
           "colorbar": {
            "outlinewidth": 0,
            "ticks": ""
           }
          },
          "colorscale": {
           "diverging": [
            [
             0,
             "#8e0152"
            ],
            [
             0.1,
             "#c51b7d"
            ],
            [
             0.2,
             "#de77ae"
            ],
            [
             0.3,
             "#f1b6da"
            ],
            [
             0.4,
             "#fde0ef"
            ],
            [
             0.5,
             "#f7f7f7"
            ],
            [
             0.6,
             "#e6f5d0"
            ],
            [
             0.7,
             "#b8e186"
            ],
            [
             0.8,
             "#7fbc41"
            ],
            [
             0.9,
             "#4d9221"
            ],
            [
             1,
             "#276419"
            ]
           ],
           "sequential": [
            [
             0,
             "#0d0887"
            ],
            [
             0.1111111111111111,
             "#46039f"
            ],
            [
             0.2222222222222222,
             "#7201a8"
            ],
            [
             0.3333333333333333,
             "#9c179e"
            ],
            [
             0.4444444444444444,
             "#bd3786"
            ],
            [
             0.5555555555555556,
             "#d8576b"
            ],
            [
             0.6666666666666666,
             "#ed7953"
            ],
            [
             0.7777777777777778,
             "#fb9f3a"
            ],
            [
             0.8888888888888888,
             "#fdca26"
            ],
            [
             1,
             "#f0f921"
            ]
           ],
           "sequentialminus": [
            [
             0,
             "#0d0887"
            ],
            [
             0.1111111111111111,
             "#46039f"
            ],
            [
             0.2222222222222222,
             "#7201a8"
            ],
            [
             0.3333333333333333,
             "#9c179e"
            ],
            [
             0.4444444444444444,
             "#bd3786"
            ],
            [
             0.5555555555555556,
             "#d8576b"
            ],
            [
             0.6666666666666666,
             "#ed7953"
            ],
            [
             0.7777777777777778,
             "#fb9f3a"
            ],
            [
             0.8888888888888888,
             "#fdca26"
            ],
            [
             1,
             "#f0f921"
            ]
           ]
          },
          "colorway": [
           "#636efa",
           "#EF553B",
           "#00cc96",
           "#ab63fa",
           "#FFA15A",
           "#19d3f3",
           "#FF6692",
           "#B6E880",
           "#FF97FF",
           "#FECB52"
          ],
          "font": {
           "color": "#2a3f5f"
          },
          "geo": {
           "bgcolor": "white",
           "lakecolor": "white",
           "landcolor": "#E5ECF6",
           "showlakes": true,
           "showland": true,
           "subunitcolor": "white"
          },
          "hoverlabel": {
           "align": "left"
          },
          "hovermode": "closest",
          "mapbox": {
           "style": "light"
          },
          "paper_bgcolor": "white",
          "plot_bgcolor": "#E5ECF6",
          "polar": {
           "angularaxis": {
            "gridcolor": "white",
            "linecolor": "white",
            "ticks": ""
           },
           "bgcolor": "#E5ECF6",
           "radialaxis": {
            "gridcolor": "white",
            "linecolor": "white",
            "ticks": ""
           }
          },
          "scene": {
           "xaxis": {
            "backgroundcolor": "#E5ECF6",
            "gridcolor": "white",
            "gridwidth": 2,
            "linecolor": "white",
            "showbackground": true,
            "ticks": "",
            "zerolinecolor": "white"
           },
           "yaxis": {
            "backgroundcolor": "#E5ECF6",
            "gridcolor": "white",
            "gridwidth": 2,
            "linecolor": "white",
            "showbackground": true,
            "ticks": "",
            "zerolinecolor": "white"
           },
           "zaxis": {
            "backgroundcolor": "#E5ECF6",
            "gridcolor": "white",
            "gridwidth": 2,
            "linecolor": "white",
            "showbackground": true,
            "ticks": "",
            "zerolinecolor": "white"
           }
          },
          "shapedefaults": {
           "line": {
            "color": "#2a3f5f"
           }
          },
          "ternary": {
           "aaxis": {
            "gridcolor": "white",
            "linecolor": "white",
            "ticks": ""
           },
           "baxis": {
            "gridcolor": "white",
            "linecolor": "white",
            "ticks": ""
           },
           "bgcolor": "#E5ECF6",
           "caxis": {
            "gridcolor": "white",
            "linecolor": "white",
            "ticks": ""
           }
          },
          "title": {
           "x": 0.05
          },
          "xaxis": {
           "automargin": true,
           "gridcolor": "white",
           "linecolor": "white",
           "ticks": "",
           "title": {
            "standoff": 15
           },
           "zerolinecolor": "white",
           "zerolinewidth": 2
          },
          "yaxis": {
           "automargin": true,
           "gridcolor": "white",
           "linecolor": "white",
           "ticks": "",
           "title": {
            "standoff": 15
           },
           "zerolinecolor": "white",
           "zerolinewidth": 2
          }
         }
        },
        "title": {
         "text": "Number of searched opening positions on different platforms"
        },
        "xaxis": {
         "anchor": "y",
         "categoryarray": [
          "LinkedIn",
          "ZipRecruiter",
          "Upwork",
          "AngelList",
          "Geebo",
          "Lever",
          "Greenhouse",
          "Clearance Jobs",
          "Startup Jobs",
          "Built In"
         ],
         "categoryorder": "array",
         "domain": [
          0,
          1
         ],
         "title": {
          "text": "Job search platforms"
         }
        },
        "yaxis": {
         "anchor": "x",
         "domain": [
          0,
          1
         ],
         "title": {
          "text": "Number of searched results"
         }
        }
       }
      },
      "text/html": [
       "<div>                            <div id=\"edf26939-ed70-463f-992f-4124451a4e6d\" class=\"plotly-graph-div\" style=\"height:525px; width:100%;\"></div>            <script type=\"text/javascript\">                require([\"plotly\"], function(Plotly) {                    window.PLOTLYENV=window.PLOTLYENV || {};                                    if (document.getElementById(\"edf26939-ed70-463f-992f-4124451a4e6d\")) {                    Plotly.newPlot(                        \"edf26939-ed70-463f-992f-4124451a4e6d\",                        [{\"alignmentgroup\":\"True\",\"hovertemplate\":\"Search query=block chain<br>Job search platforms=%{x}<br>Number of searched results=%{y}<extra></extra>\",\"legendgroup\":\"block chain\",\"marker\":{\"color\":\"#4C78A8\",\"pattern\":{\"shape\":\"\"}},\"name\":\"block chain\",\"offsetgroup\":\"block chain\",\"orientation\":\"v\",\"showlegend\":true,\"textposition\":\"auto\",\"x\":[\"AngelList\",\"Built In\",\"Geebo\",\"Greenhouse\",\"Lever\",\"LinkedIn\",\"Startup Jobs\",\"Upwork\",\"ZipRecruiter\"],\"xaxis\":\"x\",\"y\":[10,4,6,6,4,10,4,5,7],\"yaxis\":\"y\",\"type\":\"bar\"},{\"alignmentgroup\":\"True\",\"hovertemplate\":\"Search query=deep learning<br>Job search platforms=%{x}<br>Number of searched results=%{y}<extra></extra>\",\"legendgroup\":\"deep learning\",\"marker\":{\"color\":\"#F58518\",\"pattern\":{\"shape\":\"\"}},\"name\":\"deep learning\",\"offsetgroup\":\"deep learning\",\"orientation\":\"v\",\"showlegend\":true,\"textposition\":\"auto\",\"x\":[\"AngelList\",\"Clearance Jobs\",\"Geebo\",\"Greenhouse\",\"Lever\",\"LinkedIn\",\"Startup Jobs\",\"Upwork\",\"ZipRecruiter\"],\"xaxis\":\"x\",\"y\":[6,2,4,5,3,6,3,3,4],\"yaxis\":\"y\",\"type\":\"bar\"},{\"alignmentgroup\":\"True\",\"hovertemplate\":\"Search query=machine learning<br>Job search platforms=%{x}<br>Number of searched results=%{y}<extra></extra>\",\"legendgroup\":\"machine learning\",\"marker\":{\"color\":\"#E45756\",\"pattern\":{\"shape\":\"\"}},\"name\":\"machine learning\",\"offsetgroup\":\"machine learning\",\"orientation\":\"v\",\"showlegend\":true,\"textposition\":\"auto\",\"x\":[\"AngelList\",\"Built In\",\"Clearance Jobs\",\"Geebo\",\"Greenhouse\",\"Lever\",\"LinkedIn\",\"Upwork\",\"ZipRecruiter\"],\"xaxis\":\"x\",\"y\":[2,1,4,2,2,4,9,4,4],\"yaxis\":\"y\",\"type\":\"bar\"},{\"alignmentgroup\":\"True\",\"hovertemplate\":\"Search query=natural language processing<br>Job search platforms=%{x}<br>Number of searched results=%{y}<extra></extra>\",\"legendgroup\":\"natural language processing\",\"marker\":{\"color\":\"#72B7B2\",\"pattern\":{\"shape\":\"\"}},\"name\":\"natural language processing\",\"offsetgroup\":\"natural language processing\",\"orientation\":\"v\",\"showlegend\":true,\"textposition\":\"auto\",\"x\":[\"AngelList\",\"Geebo\",\"LinkedIn\",\"Upwork\",\"ZipRecruiter\"],\"xaxis\":\"x\",\"y\":[3,4,1,4,7],\"yaxis\":\"y\",\"type\":\"bar\"},{\"alignmentgroup\":\"True\",\"hovertemplate\":\"Search query=neural networks<br>Job search platforms=%{x}<br>Number of searched results=%{y}<extra></extra>\",\"legendgroup\":\"neural networks\",\"marker\":{\"color\":\"#54A24B\",\"pattern\":{\"shape\":\"\"}},\"name\":\"neural networks\",\"offsetgroup\":\"neural networks\",\"orientation\":\"v\",\"showlegend\":true,\"textposition\":\"auto\",\"x\":[\"AngelList\",\"Geebo\",\"LinkedIn\",\"Startup Jobs\",\"Upwork\",\"ZipRecruiter\"],\"xaxis\":\"x\",\"y\":[8,5,9,1,26,8],\"yaxis\":\"y\",\"type\":\"bar\"},{\"alignmentgroup\":\"True\",\"hovertemplate\":\"Search query=reinforcement learning<br>Job search platforms=%{x}<br>Number of searched results=%{y}<extra></extra>\",\"legendgroup\":\"reinforcement learning\",\"marker\":{\"color\":\"#EECA3B\",\"pattern\":{\"shape\":\"\"}},\"name\":\"reinforcement learning\",\"offsetgroup\":\"reinforcement learning\",\"orientation\":\"v\",\"showlegend\":true,\"textposition\":\"auto\",\"x\":[\"AngelList\",\"Built In\",\"Clearance Jobs\",\"Geebo\",\"Greenhouse\",\"Lever\",\"LinkedIn\",\"Startup Jobs\",\"Upwork\",\"ZipRecruiter\"],\"xaxis\":\"x\",\"y\":[7,2,3,1,5,2,8,2,6,7],\"yaxis\":\"y\",\"type\":\"bar\"},{\"alignmentgroup\":\"True\",\"hovertemplate\":\"Search query=big data and cloud computing<br>Job search platforms=%{x}<br>Number of searched results=%{y}<extra></extra>\",\"legendgroup\":\"big data and cloud computing\",\"marker\":{\"color\":\"#B279A2\",\"pattern\":{\"shape\":\"\"}},\"name\":\"big data and cloud computing\",\"offsetgroup\":\"big data and cloud computing\",\"orientation\":\"v\",\"showlegend\":true,\"textposition\":\"auto\",\"x\":[\"Built In\",\"Clearance Jobs\",\"Geebo\",\"Lever\",\"Startup Jobs\",\"ZipRecruiter\"],\"xaxis\":\"x\",\"y\":[4,3,5,3,5,9],\"yaxis\":\"y\",\"type\":\"bar\"},{\"alignmentgroup\":\"True\",\"hovertemplate\":\"Search query=data analyst<br>Job search platforms=%{x}<br>Number of searched results=%{y}<extra></extra>\",\"legendgroup\":\"data analyst\",\"marker\":{\"color\":\"#FF9DA6\",\"pattern\":{\"shape\":\"\"}},\"name\":\"data analyst\",\"offsetgroup\":\"data analyst\",\"orientation\":\"v\",\"showlegend\":true,\"textposition\":\"auto\",\"x\":[\"Built In\",\"Clearance Jobs\",\"Lever\",\"LinkedIn\",\"Startup Jobs\",\"Upwork\",\"ZipRecruiter\"],\"xaxis\":\"x\",\"y\":[1,2,6,14,1,2,8],\"yaxis\":\"y\",\"type\":\"bar\"},{\"alignmentgroup\":\"True\",\"hovertemplate\":\"Search query=data scientist<br>Job search platforms=%{x}<br>Number of searched results=%{y}<extra></extra>\",\"legendgroup\":\"data scientist\",\"marker\":{\"color\":\"#9D755D\",\"pattern\":{\"shape\":\"\"}},\"name\":\"data scientist\",\"offsetgroup\":\"data scientist\",\"orientation\":\"v\",\"showlegend\":true,\"textposition\":\"auto\",\"x\":[\"Built In\",\"Clearance Jobs\",\"Geebo\",\"Greenhouse\",\"Lever\",\"LinkedIn\",\"ZipRecruiter\"],\"xaxis\":\"x\",\"y\":[3,5,2,1,1,8,6],\"yaxis\":\"y\",\"type\":\"bar\"},{\"alignmentgroup\":\"True\",\"hovertemplate\":\"Search query=time series<br>Job search platforms=%{x}<br>Number of searched results=%{y}<extra></extra>\",\"legendgroup\":\"time series\",\"marker\":{\"color\":\"#BAB0AC\",\"pattern\":{\"shape\":\"\"}},\"name\":\"time series\",\"offsetgroup\":\"time series\",\"orientation\":\"v\",\"showlegend\":true,\"textposition\":\"auto\",\"x\":[\"Geebo\",\"Upwork\"],\"xaxis\":\"x\",\"y\":[1,3],\"yaxis\":\"y\",\"type\":\"bar\"},{\"alignmentgroup\":\"True\",\"hovertemplate\":\"Search query=time series analysis<br>Job search platforms=%{x}<br>Number of searched results=%{y}<extra></extra>\",\"legendgroup\":\"time series analysis\",\"marker\":{\"color\":\"#4C78A8\",\"pattern\":{\"shape\":\"\"}},\"name\":\"time series analysis\",\"offsetgroup\":\"time series analysis\",\"orientation\":\"v\",\"showlegend\":true,\"textposition\":\"auto\",\"x\":[\"Geebo\",\"LinkedIn\",\"Upwork\"],\"xaxis\":\"x\",\"y\":[2,1,3],\"yaxis\":\"y\",\"type\":\"bar\"}],                        {\"template\":{\"data\":{\"histogram2dcontour\":[{\"type\":\"histogram2dcontour\",\"colorbar\":{\"outlinewidth\":0,\"ticks\":\"\"},\"colorscale\":[[0.0,\"#0d0887\"],[0.1111111111111111,\"#46039f\"],[0.2222222222222222,\"#7201a8\"],[0.3333333333333333,\"#9c179e\"],[0.4444444444444444,\"#bd3786\"],[0.5555555555555556,\"#d8576b\"],[0.6666666666666666,\"#ed7953\"],[0.7777777777777778,\"#fb9f3a\"],[0.8888888888888888,\"#fdca26\"],[1.0,\"#f0f921\"]]}],\"choropleth\":[{\"type\":\"choropleth\",\"colorbar\":{\"outlinewidth\":0,\"ticks\":\"\"}}],\"histogram2d\":[{\"type\":\"histogram2d\",\"colorbar\":{\"outlinewidth\":0,\"ticks\":\"\"},\"colorscale\":[[0.0,\"#0d0887\"],[0.1111111111111111,\"#46039f\"],[0.2222222222222222,\"#7201a8\"],[0.3333333333333333,\"#9c179e\"],[0.4444444444444444,\"#bd3786\"],[0.5555555555555556,\"#d8576b\"],[0.6666666666666666,\"#ed7953\"],[0.7777777777777778,\"#fb9f3a\"],[0.8888888888888888,\"#fdca26\"],[1.0,\"#f0f921\"]]}],\"heatmap\":[{\"type\":\"heatmap\",\"colorbar\":{\"outlinewidth\":0,\"ticks\":\"\"},\"colorscale\":[[0.0,\"#0d0887\"],[0.1111111111111111,\"#46039f\"],[0.2222222222222222,\"#7201a8\"],[0.3333333333333333,\"#9c179e\"],[0.4444444444444444,\"#bd3786\"],[0.5555555555555556,\"#d8576b\"],[0.6666666666666666,\"#ed7953\"],[0.7777777777777778,\"#fb9f3a\"],[0.8888888888888888,\"#fdca26\"],[1.0,\"#f0f921\"]]}],\"heatmapgl\":[{\"type\":\"heatmapgl\",\"colorbar\":{\"outlinewidth\":0,\"ticks\":\"\"},\"colorscale\":[[0.0,\"#0d0887\"],[0.1111111111111111,\"#46039f\"],[0.2222222222222222,\"#7201a8\"],[0.3333333333333333,\"#9c179e\"],[0.4444444444444444,\"#bd3786\"],[0.5555555555555556,\"#d8576b\"],[0.6666666666666666,\"#ed7953\"],[0.7777777777777778,\"#fb9f3a\"],[0.8888888888888888,\"#fdca26\"],[1.0,\"#f0f921\"]]}],\"contourcarpet\":[{\"type\":\"contourcarpet\",\"colorbar\":{\"outlinewidth\":0,\"ticks\":\"\"}}],\"contour\":[{\"type\":\"contour\",\"colorbar\":{\"outlinewidth\":0,\"ticks\":\"\"},\"colorscale\":[[0.0,\"#0d0887\"],[0.1111111111111111,\"#46039f\"],[0.2222222222222222,\"#7201a8\"],[0.3333333333333333,\"#9c179e\"],[0.4444444444444444,\"#bd3786\"],[0.5555555555555556,\"#d8576b\"],[0.6666666666666666,\"#ed7953\"],[0.7777777777777778,\"#fb9f3a\"],[0.8888888888888888,\"#fdca26\"],[1.0,\"#f0f921\"]]}],\"surface\":[{\"type\":\"surface\",\"colorbar\":{\"outlinewidth\":0,\"ticks\":\"\"},\"colorscale\":[[0.0,\"#0d0887\"],[0.1111111111111111,\"#46039f\"],[0.2222222222222222,\"#7201a8\"],[0.3333333333333333,\"#9c179e\"],[0.4444444444444444,\"#bd3786\"],[0.5555555555555556,\"#d8576b\"],[0.6666666666666666,\"#ed7953\"],[0.7777777777777778,\"#fb9f3a\"],[0.8888888888888888,\"#fdca26\"],[1.0,\"#f0f921\"]]}],\"mesh3d\":[{\"type\":\"mesh3d\",\"colorbar\":{\"outlinewidth\":0,\"ticks\":\"\"}}],\"scatter\":[{\"fillpattern\":{\"fillmode\":\"overlay\",\"size\":10,\"solidity\":0.2},\"type\":\"scatter\"}],\"parcoords\":[{\"type\":\"parcoords\",\"line\":{\"colorbar\":{\"outlinewidth\":0,\"ticks\":\"\"}}}],\"scatterpolargl\":[{\"type\":\"scatterpolargl\",\"marker\":{\"colorbar\":{\"outlinewidth\":0,\"ticks\":\"\"}}}],\"bar\":[{\"error_x\":{\"color\":\"#2a3f5f\"},\"error_y\":{\"color\":\"#2a3f5f\"},\"marker\":{\"line\":{\"color\":\"#E5ECF6\",\"width\":0.5},\"pattern\":{\"fillmode\":\"overlay\",\"size\":10,\"solidity\":0.2}},\"type\":\"bar\"}],\"scattergeo\":[{\"type\":\"scattergeo\",\"marker\":{\"colorbar\":{\"outlinewidth\":0,\"ticks\":\"\"}}}],\"scatterpolar\":[{\"type\":\"scatterpolar\",\"marker\":{\"colorbar\":{\"outlinewidth\":0,\"ticks\":\"\"}}}],\"histogram\":[{\"marker\":{\"pattern\":{\"fillmode\":\"overlay\",\"size\":10,\"solidity\":0.2}},\"type\":\"histogram\"}],\"scattergl\":[{\"type\":\"scattergl\",\"marker\":{\"colorbar\":{\"outlinewidth\":0,\"ticks\":\"\"}}}],\"scatter3d\":[{\"type\":\"scatter3d\",\"line\":{\"colorbar\":{\"outlinewidth\":0,\"ticks\":\"\"}},\"marker\":{\"colorbar\":{\"outlinewidth\":0,\"ticks\":\"\"}}}],\"scattermapbox\":[{\"type\":\"scattermapbox\",\"marker\":{\"colorbar\":{\"outlinewidth\":0,\"ticks\":\"\"}}}],\"scatterternary\":[{\"type\":\"scatterternary\",\"marker\":{\"colorbar\":{\"outlinewidth\":0,\"ticks\":\"\"}}}],\"scattercarpet\":[{\"type\":\"scattercarpet\",\"marker\":{\"colorbar\":{\"outlinewidth\":0,\"ticks\":\"\"}}}],\"carpet\":[{\"aaxis\":{\"endlinecolor\":\"#2a3f5f\",\"gridcolor\":\"white\",\"linecolor\":\"white\",\"minorgridcolor\":\"white\",\"startlinecolor\":\"#2a3f5f\"},\"baxis\":{\"endlinecolor\":\"#2a3f5f\",\"gridcolor\":\"white\",\"linecolor\":\"white\",\"minorgridcolor\":\"white\",\"startlinecolor\":\"#2a3f5f\"},\"type\":\"carpet\"}],\"table\":[{\"cells\":{\"fill\":{\"color\":\"#EBF0F8\"},\"line\":{\"color\":\"white\"}},\"header\":{\"fill\":{\"color\":\"#C8D4E3\"},\"line\":{\"color\":\"white\"}},\"type\":\"table\"}],\"barpolar\":[{\"marker\":{\"line\":{\"color\":\"#E5ECF6\",\"width\":0.5},\"pattern\":{\"fillmode\":\"overlay\",\"size\":10,\"solidity\":0.2}},\"type\":\"barpolar\"}],\"pie\":[{\"automargin\":true,\"type\":\"pie\"}]},\"layout\":{\"autotypenumbers\":\"strict\",\"colorway\":[\"#636efa\",\"#EF553B\",\"#00cc96\",\"#ab63fa\",\"#FFA15A\",\"#19d3f3\",\"#FF6692\",\"#B6E880\",\"#FF97FF\",\"#FECB52\"],\"font\":{\"color\":\"#2a3f5f\"},\"hovermode\":\"closest\",\"hoverlabel\":{\"align\":\"left\"},\"paper_bgcolor\":\"white\",\"plot_bgcolor\":\"#E5ECF6\",\"polar\":{\"bgcolor\":\"#E5ECF6\",\"angularaxis\":{\"gridcolor\":\"white\",\"linecolor\":\"white\",\"ticks\":\"\"},\"radialaxis\":{\"gridcolor\":\"white\",\"linecolor\":\"white\",\"ticks\":\"\"}},\"ternary\":{\"bgcolor\":\"#E5ECF6\",\"aaxis\":{\"gridcolor\":\"white\",\"linecolor\":\"white\",\"ticks\":\"\"},\"baxis\":{\"gridcolor\":\"white\",\"linecolor\":\"white\",\"ticks\":\"\"},\"caxis\":{\"gridcolor\":\"white\",\"linecolor\":\"white\",\"ticks\":\"\"}},\"coloraxis\":{\"colorbar\":{\"outlinewidth\":0,\"ticks\":\"\"}},\"colorscale\":{\"sequential\":[[0.0,\"#0d0887\"],[0.1111111111111111,\"#46039f\"],[0.2222222222222222,\"#7201a8\"],[0.3333333333333333,\"#9c179e\"],[0.4444444444444444,\"#bd3786\"],[0.5555555555555556,\"#d8576b\"],[0.6666666666666666,\"#ed7953\"],[0.7777777777777778,\"#fb9f3a\"],[0.8888888888888888,\"#fdca26\"],[1.0,\"#f0f921\"]],\"sequentialminus\":[[0.0,\"#0d0887\"],[0.1111111111111111,\"#46039f\"],[0.2222222222222222,\"#7201a8\"],[0.3333333333333333,\"#9c179e\"],[0.4444444444444444,\"#bd3786\"],[0.5555555555555556,\"#d8576b\"],[0.6666666666666666,\"#ed7953\"],[0.7777777777777778,\"#fb9f3a\"],[0.8888888888888888,\"#fdca26\"],[1.0,\"#f0f921\"]],\"diverging\":[[0,\"#8e0152\"],[0.1,\"#c51b7d\"],[0.2,\"#de77ae\"],[0.3,\"#f1b6da\"],[0.4,\"#fde0ef\"],[0.5,\"#f7f7f7\"],[0.6,\"#e6f5d0\"],[0.7,\"#b8e186\"],[0.8,\"#7fbc41\"],[0.9,\"#4d9221\"],[1,\"#276419\"]]},\"xaxis\":{\"gridcolor\":\"white\",\"linecolor\":\"white\",\"ticks\":\"\",\"title\":{\"standoff\":15},\"zerolinecolor\":\"white\",\"automargin\":true,\"zerolinewidth\":2},\"yaxis\":{\"gridcolor\":\"white\",\"linecolor\":\"white\",\"ticks\":\"\",\"title\":{\"standoff\":15},\"zerolinecolor\":\"white\",\"automargin\":true,\"zerolinewidth\":2},\"scene\":{\"xaxis\":{\"backgroundcolor\":\"#E5ECF6\",\"gridcolor\":\"white\",\"linecolor\":\"white\",\"showbackground\":true,\"ticks\":\"\",\"zerolinecolor\":\"white\",\"gridwidth\":2},\"yaxis\":{\"backgroundcolor\":\"#E5ECF6\",\"gridcolor\":\"white\",\"linecolor\":\"white\",\"showbackground\":true,\"ticks\":\"\",\"zerolinecolor\":\"white\",\"gridwidth\":2},\"zaxis\":{\"backgroundcolor\":\"#E5ECF6\",\"gridcolor\":\"white\",\"linecolor\":\"white\",\"showbackground\":true,\"ticks\":\"\",\"zerolinecolor\":\"white\",\"gridwidth\":2}},\"shapedefaults\":{\"line\":{\"color\":\"#2a3f5f\"}},\"annotationdefaults\":{\"arrowcolor\":\"#2a3f5f\",\"arrowhead\":0,\"arrowwidth\":1},\"geo\":{\"bgcolor\":\"white\",\"landcolor\":\"#E5ECF6\",\"subunitcolor\":\"white\",\"showland\":true,\"showlakes\":true,\"lakecolor\":\"white\"},\"title\":{\"x\":0.05},\"mapbox\":{\"style\":\"light\"}}},\"xaxis\":{\"anchor\":\"y\",\"domain\":[0.0,1.0],\"title\":{\"text\":\"Job search platforms\"},\"categoryorder\":\"array\",\"categoryarray\":[\"LinkedIn\",\"ZipRecruiter\",\"Upwork\",\"AngelList\",\"Geebo\",\"Lever\",\"Greenhouse\",\"Clearance Jobs\",\"Startup Jobs\",\"Built In\"]},\"yaxis\":{\"anchor\":\"x\",\"domain\":[0.0,1.0],\"title\":{\"text\":\"Number of searched results\"}},\"legend\":{\"title\":{\"text\":\"Search query\"},\"tracegroupgap\":0},\"title\":{\"text\":\"Number of searched opening positions on different platforms\"},\"barmode\":\"stack\"},                        {\"responsive\": true}                    ).then(function(){\n",
       "                            \n",
       "var gd = document.getElementById('edf26939-ed70-463f-992f-4124451a4e6d');\n",
       "var x = new MutationObserver(function (mutations, observer) {{\n",
       "        var display = window.getComputedStyle(gd).display;\n",
       "        if (!display || display === 'none') {{\n",
       "            console.log([gd, 'removed!']);\n",
       "            Plotly.purge(gd);\n",
       "            observer.disconnect();\n",
       "        }}\n",
       "}});\n",
       "\n",
       "// Listen for the removal of the full notebook cells\n",
       "var notebookContainer = gd.closest('#notebook-container');\n",
       "if (notebookContainer) {{\n",
       "    x.observe(notebookContainer, {childList: true});\n",
       "}}\n",
       "\n",
       "// Listen for the clearing of the current output cell\n",
       "var outputEl = gd.closest('.output');\n",
       "if (outputEl) {{\n",
       "    x.observe(outputEl, {childList: true});\n",
       "}}\n",
       "\n",
       "                        })                };                });            </script>        </div>"
      ]
     },
     "metadata": {},
     "output_type": "display_data"
    }
   ],
   "source": [
    "#| output: true\n",
    "#| fig-cap: Figure 2. The Number of Searched Opening Positions on Different Platforms. <br>The total height of a bar means the number of searched results on different platforms, and the color represents the keywords used for search.\n",
    "\n",
    "fig = px.bar(platform_title_cnt, \n",
    "             x=\"platform\", y=\"count\",\n",
    "             color=\"search_query\", barmode = 'stack',\n",
    "             category_orders={\"platform\":list(platform_cnt.loc[0:9,\"platform\"].values)},\n",
    "             color_discrete_sequence=px.colors.qualitative.T10,\n",
    "             labels={\n",
    "                     \"platform\": \"Job search platforms\",\n",
    "                     \"count\": \"Number of searched results\",\n",
    "                     \"search_query\": \"Search query\"\n",
    "                 },\n",
    "                title=\"The Number of Searched Opening Positions on Different Platforms\")\n",
    " \n",
    "fig.show()"
   ]
  },
  {
   "attachments": {},
   "cell_type": "markdown",
   "metadata": {},
   "source": [
    "<br>\n",
    "For DS-related jobs, LinkedIn has the most opening positions, followed by ZipRecruiter and Upwork. The number of opening positions of different titles, i.e. search query, in LinkedIn, are balanced except for NLP-related and time series analysis related jobs. Upwork has the most positions that are related to neural networks."
   ]
  },
  {
   "attachments": {},
   "cell_type": "markdown",
   "metadata": {},
   "source": [
    "## Which companies are posting more jobs and at what salaries?"
   ]
  },
  {
   "cell_type": "code",
   "execution_count": 22,
   "metadata": {},
   "outputs": [
    {
     "data": {
      "text/plain": [
       "Upwork                   56\n",
       "Booz Allen Hamilton      17\n",
       "Apple                    15\n",
       "Deloitte                 10\n",
       "Walmart                   9\n",
       "                         ..\n",
       "Snowflake Computing       1\n",
       "Base-2 Solutions, LLC     1\n",
       "Zortech Solutions         1\n",
       "HexaQuest Global          1\n",
       "Caterpillar, Inc          1\n",
       "Name: company_name, Length: 425, dtype: int64"
      ]
     },
     "execution_count": 22,
     "metadata": {},
     "output_type": "execute_result"
    }
   ],
   "source": [
    "df[\"company_name\"].value_counts()"
   ]
  },
  {
   "cell_type": "code",
   "execution_count": null,
   "metadata": {},
   "outputs": [
    {
     "data": {
      "text/html": [
       "<div>\n",
       "<style scoped>\n",
       "    .dataframe tbody tr th:only-of-type {\n",
       "        vertical-align: middle;\n",
       "    }\n",
       "\n",
       "    .dataframe tbody tr th {\n",
       "        vertical-align: top;\n",
       "    }\n",
       "\n",
       "    .dataframe thead th {\n",
       "        text-align: right;\n",
       "    }\n",
       "</style>\n",
       "<table border=\"1\" class=\"dataframe\">\n",
       "  <thead>\n",
       "    <tr style=\"text-align: right;\">\n",
       "      <th></th>\n",
       "      <th>company_name</th>\n",
       "      <th>count</th>\n",
       "    </tr>\n",
       "  </thead>\n",
       "  <tbody>\n",
       "    <tr>\n",
       "      <th>0</th>\n",
       "      <td>Upwork</td>\n",
       "      <td>56</td>\n",
       "    </tr>\n",
       "    <tr>\n",
       "      <th>1</th>\n",
       "      <td>Booz Allen Hamilton</td>\n",
       "      <td>17</td>\n",
       "    </tr>\n",
       "    <tr>\n",
       "      <th>2</th>\n",
       "      <td>Apple</td>\n",
       "      <td>15</td>\n",
       "    </tr>\n",
       "    <tr>\n",
       "      <th>3</th>\n",
       "      <td>Deloitte</td>\n",
       "      <td>10</td>\n",
       "    </tr>\n",
       "    <tr>\n",
       "      <th>4</th>\n",
       "      <td>Walmart</td>\n",
       "      <td>9</td>\n",
       "    </tr>\n",
       "    <tr>\n",
       "      <th>...</th>\n",
       "      <td>...</td>\n",
       "      <td>...</td>\n",
       "    </tr>\n",
       "    <tr>\n",
       "      <th>420</th>\n",
       "      <td>GXO Logistics</td>\n",
       "      <td>1</td>\n",
       "    </tr>\n",
       "    <tr>\n",
       "      <th>421</th>\n",
       "      <td>Fusemachines</td>\n",
       "      <td>1</td>\n",
       "    </tr>\n",
       "    <tr>\n",
       "      <th>422</th>\n",
       "      <td>Fox Corporation</td>\n",
       "      <td>1</td>\n",
       "    </tr>\n",
       "    <tr>\n",
       "      <th>423</th>\n",
       "      <td>Fortinet</td>\n",
       "      <td>1</td>\n",
       "    </tr>\n",
       "    <tr>\n",
       "      <th>424</th>\n",
       "      <td>mozee</td>\n",
       "      <td>1</td>\n",
       "    </tr>\n",
       "  </tbody>\n",
       "</table>\n",
       "<p>425 rows × 2 columns</p>\n",
       "</div>"
      ],
      "text/plain": [
       "            company_name  count\n",
       "0                 Upwork     56\n",
       "1    Booz Allen Hamilton     17\n",
       "2                  Apple     15\n",
       "3               Deloitte     10\n",
       "4                Walmart      9\n",
       "..                   ...    ...\n",
       "420        GXO Logistics      1\n",
       "421         Fusemachines      1\n",
       "422      Fox Corporation      1\n",
       "423             Fortinet      1\n",
       "424                mozee      1\n",
       "\n",
       "[425 rows x 2 columns]"
      ]
     },
     "metadata": {},
     "output_type": "display_data"
    }
   ],
   "source": [
    "comp_cnt = df.groupby([\"company_name\"]).size().reset_index(name='count')\n",
    "comp_cnt.sort_values(by=\"count\",ascending=False,inplace=True,ignore_index=True)\n",
    "comp_cnt"
   ]
  },
  {
   "cell_type": "code",
   "execution_count": null,
   "metadata": {},
   "outputs": [
    {
     "data": {
      "text/html": [
       "<div>\n",
       "<style scoped>\n",
       "    .dataframe tbody tr th:only-of-type {\n",
       "        vertical-align: middle;\n",
       "    }\n",
       "\n",
       "    .dataframe tbody tr th {\n",
       "        vertical-align: top;\n",
       "    }\n",
       "\n",
       "    .dataframe thead th {\n",
       "        text-align: right;\n",
       "    }\n",
       "</style>\n",
       "<table border=\"1\" class=\"dataframe\">\n",
       "  <thead>\n",
       "    <tr style=\"text-align: right;\">\n",
       "      <th></th>\n",
       "      <th>company_name</th>\n",
       "      <th>search_query</th>\n",
       "      <th>salary_lower_bound</th>\n",
       "      <th>salary_upper_bound</th>\n",
       "      <th>count</th>\n",
       "    </tr>\n",
       "  </thead>\n",
       "  <tbody>\n",
       "    <tr>\n",
       "      <th>0</th>\n",
       "      <td>Google</td>\n",
       "      <td>big data and cloud computing</td>\n",
       "      <td>120000.000000</td>\n",
       "      <td>190000.000000</td>\n",
       "      <td>7</td>\n",
       "    </tr>\n",
       "    <tr>\n",
       "      <th>1</th>\n",
       "      <td>Google</td>\n",
       "      <td>big data and cloud computing</td>\n",
       "      <td>118000.000000</td>\n",
       "      <td>177000.000000</td>\n",
       "      <td>7</td>\n",
       "    </tr>\n",
       "    <tr>\n",
       "      <th>2</th>\n",
       "      <td>Google</td>\n",
       "      <td>big data and cloud computing</td>\n",
       "      <td>139000.000000</td>\n",
       "      <td>213000.000000</td>\n",
       "      <td>7</td>\n",
       "    </tr>\n",
       "    <tr>\n",
       "      <th>3</th>\n",
       "      <td>Google</td>\n",
       "      <td>machine learning</td>\n",
       "      <td>208000.000000</td>\n",
       "      <td>306000.000000</td>\n",
       "      <td>7</td>\n",
       "    </tr>\n",
       "    <tr>\n",
       "      <th>4</th>\n",
       "      <td>Johnson Technology Systems Inc.</td>\n",
       "      <td>big data and cloud computing</td>\n",
       "      <td>176890.555556</td>\n",
       "      <td>275471.086957</td>\n",
       "      <td>2</td>\n",
       "    </tr>\n",
       "    <tr>\n",
       "      <th>...</th>\n",
       "      <td>...</td>\n",
       "      <td>...</td>\n",
       "      <td>...</td>\n",
       "      <td>...</td>\n",
       "      <td>...</td>\n",
       "    </tr>\n",
       "    <tr>\n",
       "      <th>543</th>\n",
       "      <td>HPE1US</td>\n",
       "      <td>reinforcement learning</td>\n",
       "      <td>95100.000000</td>\n",
       "      <td>218700.000000</td>\n",
       "      <td>1</td>\n",
       "    </tr>\n",
       "    <tr>\n",
       "      <th>544</th>\n",
       "      <td>Hewlett Packard Enterprise</td>\n",
       "      <td>reinforcement learning</td>\n",
       "      <td>120640.000000</td>\n",
       "      <td>149760.000000</td>\n",
       "      <td>1</td>\n",
       "    </tr>\n",
       "    <tr>\n",
       "      <th>545</th>\n",
       "      <td>Experfy</td>\n",
       "      <td>time series analysis</td>\n",
       "      <td>80000.000000</td>\n",
       "      <td>291200.000000</td>\n",
       "      <td>1</td>\n",
       "    </tr>\n",
       "    <tr>\n",
       "      <th>546</th>\n",
       "      <td>NASA Jet Propulsion Laboratory California Inst...</td>\n",
       "      <td>time series analysis</td>\n",
       "      <td>80000.000000</td>\n",
       "      <td>100000.000000</td>\n",
       "      <td>1</td>\n",
       "    </tr>\n",
       "    <tr>\n",
       "      <th>547</th>\n",
       "      <td>Caterpillar, Inc</td>\n",
       "      <td>time series analysis</td>\n",
       "      <td>80000.000000</td>\n",
       "      <td>291200.000000</td>\n",
       "      <td>1</td>\n",
       "    </tr>\n",
       "  </tbody>\n",
       "</table>\n",
       "<p>548 rows × 5 columns</p>\n",
       "</div>"
      ],
      "text/plain": [
       "                                          company_name  \\\n",
       "0                                               Google   \n",
       "1                                               Google   \n",
       "2                                               Google   \n",
       "3                                               Google   \n",
       "4                      Johnson Technology Systems Inc.   \n",
       "..                                                 ...   \n",
       "543                                             HPE1US   \n",
       "544                         Hewlett Packard Enterprise   \n",
       "545                                            Experfy   \n",
       "546  NASA Jet Propulsion Laboratory California Inst...   \n",
       "547                                   Caterpillar, Inc   \n",
       "\n",
       "                     search_query  salary_lower_bound  salary_upper_bound  \\\n",
       "0    big data and cloud computing       120000.000000       190000.000000   \n",
       "1    big data and cloud computing       118000.000000       177000.000000   \n",
       "2    big data and cloud computing       139000.000000       213000.000000   \n",
       "3                machine learning       208000.000000       306000.000000   \n",
       "4    big data and cloud computing       176890.555556       275471.086957   \n",
       "..                            ...                 ...                 ...   \n",
       "543        reinforcement learning        95100.000000       218700.000000   \n",
       "544        reinforcement learning       120640.000000       149760.000000   \n",
       "545          time series analysis        80000.000000       291200.000000   \n",
       "546          time series analysis        80000.000000       100000.000000   \n",
       "547          time series analysis        80000.000000       291200.000000   \n",
       "\n",
       "     count  \n",
       "0        7  \n",
       "1        7  \n",
       "2        7  \n",
       "3        7  \n",
       "4        2  \n",
       "..     ...  \n",
       "543      1  \n",
       "544      1  \n",
       "545      1  \n",
       "546      1  \n",
       "547      1  \n",
       "\n",
       "[548 rows x 5 columns]"
      ]
     },
     "metadata": {},
     "output_type": "display_data"
    }
   ],
   "source": [
    "comp_salary = pd.merge(df,comp_cnt,on=\"company_name\")\n",
    "comp_salary = comp_salary.loc[:,[\"company_name\",\"search_query\",\"salary_lower_bound\",\"salary_upper_bound\",\"count\"]]\n",
    "comp_salary.drop_duplicates(inplace=True,ignore_index=True)\n",
    "comp_salary"
   ]
  },
  {
   "cell_type": "code",
   "execution_count": null,
   "metadata": {},
   "outputs": [
    {
     "name": "stderr",
     "output_type": "stream",
     "text": [
      "C:\\Users\\wxl\\AppData\\Local\\Temp\\ipykernel_28632\\326739513.py:3: SettingWithCopyWarning:\n",
      "\n",
      "\n",
      "A value is trying to be set on a copy of a slice from a DataFrame\n",
      "\n",
      "See the caveats in the documentation: https://pandas.pydata.org/pandas-docs/stable/user_guide/indexing.html#returning-a-view-versus-a-copy\n",
      "\n"
     ]
    },
    {
     "data": {
      "text/html": [
       "<div>\n",
       "<style scoped>\n",
       "    .dataframe tbody tr th:only-of-type {\n",
       "        vertical-align: middle;\n",
       "    }\n",
       "\n",
       "    .dataframe tbody tr th {\n",
       "        vertical-align: top;\n",
       "    }\n",
       "\n",
       "    .dataframe thead th {\n",
       "        text-align: right;\n",
       "    }\n",
       "</style>\n",
       "<table border=\"1\" class=\"dataframe\">\n",
       "  <thead>\n",
       "    <tr style=\"text-align: right;\">\n",
       "      <th></th>\n",
       "      <th>company_name</th>\n",
       "      <th>search_query</th>\n",
       "      <th>salary_lower_bound</th>\n",
       "      <th>salary_upper_bound</th>\n",
       "      <th>count</th>\n",
       "    </tr>\n",
       "  </thead>\n",
       "  <tbody>\n",
       "    <tr>\n",
       "      <th>0</th>\n",
       "      <td>Google</td>\n",
       "      <td>big data and cloud computing</td>\n",
       "      <td>120000.000000</td>\n",
       "      <td>190000.000000</td>\n",
       "      <td>7</td>\n",
       "    </tr>\n",
       "    <tr>\n",
       "      <th>1</th>\n",
       "      <td>Google</td>\n",
       "      <td>big data and cloud computing</td>\n",
       "      <td>118000.000000</td>\n",
       "      <td>177000.000000</td>\n",
       "      <td>7</td>\n",
       "    </tr>\n",
       "    <tr>\n",
       "      <th>2</th>\n",
       "      <td>Google</td>\n",
       "      <td>big data and cloud computing</td>\n",
       "      <td>139000.000000</td>\n",
       "      <td>213000.000000</td>\n",
       "      <td>7</td>\n",
       "    </tr>\n",
       "    <tr>\n",
       "      <th>3</th>\n",
       "      <td>Google</td>\n",
       "      <td>machine learning</td>\n",
       "      <td>208000.000000</td>\n",
       "      <td>306000.000000</td>\n",
       "      <td>7</td>\n",
       "    </tr>\n",
       "    <tr>\n",
       "      <th>4</th>\n",
       "      <td>Booz Allen Hamilton</td>\n",
       "      <td>big data and cloud computing</td>\n",
       "      <td>81800.000000</td>\n",
       "      <td>186000.000000</td>\n",
       "      <td>17</td>\n",
       "    </tr>\n",
       "    <tr>\n",
       "      <th>...</th>\n",
       "      <td>...</td>\n",
       "      <td>...</td>\n",
       "      <td>...</td>\n",
       "      <td>...</td>\n",
       "      <td>...</td>\n",
       "    </tr>\n",
       "    <tr>\n",
       "      <th>92</th>\n",
       "      <td>STR</td>\n",
       "      <td>reinforcement learning</td>\n",
       "      <td>119159.200000</td>\n",
       "      <td>185553.538462</td>\n",
       "      <td>5</td>\n",
       "    </tr>\n",
       "    <tr>\n",
       "      <th>93</th>\n",
       "      <td>STR</td>\n",
       "      <td>machine learning</td>\n",
       "      <td>159110.406250</td>\n",
       "      <td>242136.173684</td>\n",
       "      <td>5</td>\n",
       "    </tr>\n",
       "    <tr>\n",
       "      <th>94</th>\n",
       "      <td>Walmart</td>\n",
       "      <td>data analyst</td>\n",
       "      <td>81115.786667</td>\n",
       "      <td>127464.894737</td>\n",
       "      <td>9</td>\n",
       "    </tr>\n",
       "    <tr>\n",
       "      <th>95</th>\n",
       "      <td>Walmart</td>\n",
       "      <td>data scientist</td>\n",
       "      <td>95136.129032</td>\n",
       "      <td>170968.487778</td>\n",
       "      <td>9</td>\n",
       "    </tr>\n",
       "    <tr>\n",
       "      <th>96</th>\n",
       "      <td>Walmart</td>\n",
       "      <td>machine learning</td>\n",
       "      <td>159110.406250</td>\n",
       "      <td>242136.173684</td>\n",
       "      <td>9</td>\n",
       "    </tr>\n",
       "  </tbody>\n",
       "</table>\n",
       "<p>97 rows × 5 columns</p>\n",
       "</div>"
      ],
      "text/plain": [
       "           company_name                  search_query  salary_lower_bound  \\\n",
       "0                Google  big data and cloud computing       120000.000000   \n",
       "1                Google  big data and cloud computing       118000.000000   \n",
       "2                Google  big data and cloud computing       139000.000000   \n",
       "3                Google              machine learning       208000.000000   \n",
       "4   Booz Allen Hamilton  big data and cloud computing        81800.000000   \n",
       "..                  ...                           ...                 ...   \n",
       "92                  STR        reinforcement learning       119159.200000   \n",
       "93                  STR              machine learning       159110.406250   \n",
       "94              Walmart                  data analyst        81115.786667   \n",
       "95              Walmart                data scientist        95136.129032   \n",
       "96              Walmart              machine learning       159110.406250   \n",
       "\n",
       "    salary_upper_bound  count  \n",
       "0        190000.000000      7  \n",
       "1        177000.000000      7  \n",
       "2        213000.000000      7  \n",
       "3        306000.000000      7  \n",
       "4        186000.000000     17  \n",
       "..                 ...    ...  \n",
       "92       185553.538462      5  \n",
       "93       242136.173684      5  \n",
       "94       127464.894737      9  \n",
       "95       170968.487778      9  \n",
       "96       242136.173684      9  \n",
       "\n",
       "[97 rows x 5 columns]"
      ]
     },
     "metadata": {},
     "output_type": "display_data"
    }
   ],
   "source": [
    "comp_salary = comp_salary.loc[comp_salary[\"company_name\"].isin(list(comp_cnt.loc[0:20,\"company_name\"].values)), ]\n",
    "comp_salary.reset_index(inplace=True)\n",
    "comp_salary.drop(columns=\"index\",inplace=True)\n",
    "comp_salary "
   ]
  },
  {
   "cell_type": "code",
   "execution_count": null,
   "metadata": {},
   "outputs": [
    {
     "name": "stdout",
     "output_type": "stream",
     "text": [
      "(97, 5)\n"
     ]
    }
   ],
   "source": [
    "print(comp_salary.shape)"
   ]
  },
  {
   "cell_type": "code",
   "execution_count": null,
   "metadata": {},
   "outputs": [
    {
     "data": {
      "application/vnd.plotly.v1+json": {
       "config": {
        "plotlyServerURL": "https://plot.ly"
       },
       "data": [
        {
         "hovertemplate": "Company=Google<br>Salary lower bound (USD)=%{x}<br>Salary upper bound (USD)=%{y}<br>count=%{marker.size}<extra></extra>",
         "legendgroup": "Google",
         "marker": {
          "color": "#636efa",
          "size": [
           7,
           7,
           7,
           7
          ],
          "sizemode": "area",
          "sizeref": 0.06222222222222222,
          "symbol": "circle"
         },
         "mode": "markers",
         "name": "Google",
         "orientation": "v",
         "showlegend": true,
         "type": "scatter",
         "x": [
          120000,
          118000,
          139000,
          208000
         ],
         "xaxis": "x",
         "y": [
          190000,
          177000,
          213000,
          306000
         ],
         "yaxis": "y"
        },
        {
         "hovertemplate": "Company=Booz Allen Hamilton<br>Salary lower bound (USD)=%{x}<br>Salary upper bound (USD)=%{y}<br>count=%{marker.size}<extra></extra>",
         "legendgroup": "Booz Allen Hamilton",
         "marker": {
          "color": "#EF553B",
          "size": [
           17,
           17,
           17,
           17,
           17,
           17,
           17,
           17
          ],
          "sizemode": "area",
          "sizeref": 0.06222222222222222,
          "symbol": "circle"
         },
         "mode": "markers",
         "name": "Booz Allen Hamilton",
         "orientation": "v",
         "showlegend": true,
         "type": "scatter",
         "x": [
          81800,
          58400,
          93300,
          73100,
          93300,
          159110.40625,
          93300,
          93300
         ],
         "xaxis": "x",
         "y": [
          186000,
          133000,
          212000,
          166000,
          212000,
          242136.1736842105,
          212000,
          212000
         ],
         "yaxis": "y"
        },
        {
         "hovertemplate": "Company=Raytheon Technologies<br>Salary lower bound (USD)=%{x}<br>Salary upper bound (USD)=%{y}<br>count=%{marker.size}<extra></extra>",
         "legendgroup": "Raytheon Technologies",
         "marker": {
          "color": "#00cc96",
          "size": [
           5
          ],
          "sizemode": "area",
          "sizeref": 0.06222222222222222,
          "symbol": "circle"
         },
         "mode": "markers",
         "name": "Raytheon Technologies",
         "orientation": "v",
         "showlegend": true,
         "type": "scatter",
         "x": [
          176890.55555555556
         ],
         "xaxis": "x",
         "y": [
          275471.0869565217
         ],
         "yaxis": "y"
        },
        {
         "hovertemplate": "Company=ManTech International<br>Salary lower bound (USD)=%{x}<br>Salary upper bound (USD)=%{y}<br>count=%{marker.size}<extra></extra>",
         "legendgroup": "ManTech International",
         "marker": {
          "color": "#ab63fa",
          "size": [
           5,
           5,
           5
          ],
          "sizemode": "area",
          "sizeref": 0.06222222222222222,
          "symbol": "circle"
         },
         "mode": "markers",
         "name": "ManTech International",
         "orientation": "v",
         "showlegend": true,
         "type": "scatter",
         "x": [
          176890.55555555556,
          137000,
          105900
         ],
         "xaxis": "x",
         "y": [
          275471.0869565217,
          190000,
          145000
         ],
         "yaxis": "y"
        },
        {
         "hovertemplate": "Company=Amazon Web Services, Inc.<br>Salary lower bound (USD)=%{x}<br>Salary upper bound (USD)=%{y}<br>count=%{marker.size}<extra></extra>",
         "legendgroup": "Amazon Web Services, Inc.",
         "marker": {
          "color": "#FFA15A",
          "size": [
           6,
           6,
           6
          ],
          "sizemode": "area",
          "sizeref": 0.06222222222222222,
          "symbol": "circle"
         },
         "mode": "markers",
         "name": "Amazon Web Services, Inc.",
         "orientation": "v",
         "showlegend": true,
         "type": "scatter",
         "x": [
          176890.55555555556,
          208000,
          129999.15151515152
         ],
         "xaxis": "x",
         "y": [
          291200,
          291200,
          291200
         ],
         "yaxis": "y"
        },
        {
         "hovertemplate": "Company=Deloitte<br>Salary lower bound (USD)=%{x}<br>Salary upper bound (USD)=%{y}<br>count=%{marker.size}<extra></extra>",
         "legendgroup": "Deloitte",
         "marker": {
          "color": "#19d3f3",
          "size": [
           10,
           10,
           10,
           10,
           10,
           10,
           10,
           10
          ],
          "sizemode": "area",
          "sizeref": 0.06222222222222222,
          "symbol": "circle"
         },
         "mode": "markers",
         "name": "Deloitte",
         "orientation": "v",
         "showlegend": true,
         "type": "scatter",
         "x": [
          146300,
          95136.12903225806,
          129999.15151515152,
          86425,
          86425,
          109200,
          82600,
          135565.5
         ],
         "xaxis": "x",
         "y": [
          271700,
          170968.4877777778,
          291200,
          159165,
          159165,
          202800,
          153400,
          200783.0382352941
         ],
         "yaxis": "y"
        },
        {
         "hovertemplate": "Company=Upwork<br>Salary lower bound (USD)=%{x}<br>Salary upper bound (USD)=%{y}<br>count=%{marker.size}<extra></extra>",
         "legendgroup": "Upwork",
         "marker": {
          "color": "#FF6692",
          "size": [
           56,
           56,
           56,
           56,
           56,
           56,
           56,
           56,
           56,
           56,
           56,
           56,
           56,
           56,
           56,
           56,
           56,
           56,
           56,
           56,
           56,
           56
          ],
          "sizemode": "area",
          "sizeref": 0.06222222222222222,
          "symbol": "circle"
         },
         "mode": "markers",
         "name": "Upwork",
         "orientation": "v",
         "showlegend": true,
         "type": "scatter",
         "x": [
          131952.63157894736,
          131952.63157894736,
          129999.15151515152,
          159110.40625,
          159110.40625,
          135565.5,
          95866.66666666669,
          95866.66666666669,
          95866.66666666669,
          95866.66666666669,
          95866.66666666669,
          119159.2,
          null,
          null,
          131952.63157894736,
          131952.63157894736,
          81115.78666666668,
          159110.40625,
          95866.66666666669,
          95866.66666666669,
          95866.66666666669,
          80000
         ],
         "xaxis": "x",
         "y": [
          312000,
          1248000,
          728000,
          728000,
          242136.1736842105,
          200783.0382352941,
          520000,
          832000,
          311297.8723404256,
          260000,
          208000,
          185553.53846153847,
          509600,
          728000,
          728000,
          324467.8571428572,
          127464.8947368421,
          312000,
          624000,
          1040000,
          416000,
          378600
         ],
         "yaxis": "y"
        },
        {
         "hovertemplate": "Company=Jobot<br>Salary lower bound (USD)=%{x}<br>Salary upper bound (USD)=%{y}<br>count=%{marker.size}<extra></extra>",
         "legendgroup": "Jobot",
         "marker": {
          "color": "#B6E880",
          "size": [
           8,
           8
          ],
          "sizemode": "area",
          "sizeref": 0.06222222222222222,
          "symbol": "circle"
         },
         "mode": "markers",
         "name": "Jobot",
         "orientation": "v",
         "showlegend": true,
         "type": "scatter",
         "x": [
          150000,
          14000
         ],
         "xaxis": "x",
         "y": [
          200000,
          300000
         ],
         "yaxis": "y"
        },
        {
         "hovertemplate": "Company=General Dynamics Information Technology<br>Salary lower bound (USD)=%{x}<br>Salary upper bound (USD)=%{y}<br>count=%{marker.size}<extra></extra>",
         "legendgroup": "General Dynamics Information Technology",
         "marker": {
          "color": "#FF97FF",
          "size": [
           5,
           5
          ],
          "sizemode": "area",
          "sizeref": 0.06222222222222222,
          "symbol": "circle"
         },
         "mode": "markers",
         "name": "General Dynamics Information Technology",
         "orientation": "v",
         "showlegend": true,
         "type": "scatter",
         "x": [
          81115.78666666668,
          95136.12903225806
         ],
         "xaxis": "x",
         "y": [
          127464.8947368421,
          170968.4877777778
         ],
         "yaxis": "y"
        },
        {
         "hovertemplate": "Company=Leidos<br>Salary lower bound (USD)=%{x}<br>Salary upper bound (USD)=%{y}<br>count=%{marker.size}<extra></extra>",
         "legendgroup": "Leidos",
         "marker": {
          "color": "#FECB52",
          "size": [
           7,
           7,
           7,
           7
          ],
          "sizemode": "area",
          "sizeref": 0.06222222222222222,
          "symbol": "circle"
         },
         "mode": "markers",
         "name": "Leidos",
         "orientation": "v",
         "showlegend": true,
         "type": "scatter",
         "x": [
          78000,
          118300,
          142350,
          135565.5
         ],
         "xaxis": "x",
         "y": [
          120000,
          182000,
          219000,
          53.3
         ],
         "yaxis": "y"
        },
        {
         "hovertemplate": "Company=SRI International<br>Salary lower bound (USD)=%{x}<br>Salary upper bound (USD)=%{y}<br>count=%{marker.size}<extra></extra>",
         "legendgroup": "SRI International",
         "marker": {
          "color": "#636efa",
          "size": [
           6,
           6
          ],
          "sizemode": "area",
          "sizeref": 0.06222222222222222,
          "symbol": "circle"
         },
         "mode": "markers",
         "name": "SRI International",
         "orientation": "v",
         "showlegend": true,
         "type": "scatter",
         "x": [
          99138,
          117545
         ],
         "xaxis": "x",
         "y": [
          127377,
          155744
         ],
         "yaxis": "y"
        },
        {
         "hovertemplate": "Company=Lockheed Martin<br>Salary lower bound (USD)=%{x}<br>Salary upper bound (USD)=%{y}<br>count=%{marker.size}<extra></extra>",
         "legendgroup": "Lockheed Martin",
         "marker": {
          "color": "#EF553B",
          "size": [
           7,
           7,
           7,
           7,
           7,
           7
          ],
          "sizemode": "area",
          "sizeref": 0.06222222222222222,
          "symbol": "circle"
         },
         "mode": "markers",
         "name": "Lockheed Martin",
         "orientation": "v",
         "showlegend": true,
         "type": "scatter",
         "x": [
          129999.15151515152,
          100900,
          159110.40625,
          119159.2,
          100900,
          82700
         ],
         "xaxis": "x",
         "y": [
          266657.14285714284,
          193300,
          242136.1736842105,
          185553.53846153847,
          193300,
          158500
         ],
         "yaxis": "y"
        },
        {
         "hovertemplate": "Company=Peraton<br>Salary lower bound (USD)=%{x}<br>Salary upper bound (USD)=%{y}<br>count=%{marker.size}<extra></extra>",
         "legendgroup": "Peraton",
         "marker": {
          "color": "#00cc96",
          "size": [
           6,
           6,
           6,
           6,
           6
          ],
          "sizemode": "area",
          "sizeref": 0.06222222222222222,
          "symbol": "circle"
         },
         "mode": "markers",
         "name": "Peraton",
         "orientation": "v",
         "showlegend": true,
         "type": "scatter",
         "x": [
          86000,
          112000,
          86000,
          86000,
          66000
         ],
         "xaxis": "x",
         "y": [
          138000,
          179000,
          138000,
          138000,
          106000
         ],
         "yaxis": "y"
        },
        {
         "hovertemplate": "Company=Microsoft<br>Salary lower bound (USD)=%{x}<br>Salary upper bound (USD)=%{y}<br>count=%{marker.size}<extra></extra>",
         "legendgroup": "Microsoft",
         "marker": {
          "color": "#ab63fa",
          "size": [
           7,
           7,
           7
          ],
          "sizemode": "area",
          "sizeref": 0.06222222222222222,
          "symbol": "circle"
         },
         "mode": "markers",
         "name": "Microsoft",
         "orientation": "v",
         "showlegend": true,
         "type": "scatter",
         "x": [
          129999.15151515152,
          119159.2,
          135565.5
         ],
         "xaxis": "x",
         "y": [
          266657.14285714284,
          185553.53846153847,
          200783.0382352941
         ],
         "yaxis": "y"
        },
        {
         "hovertemplate": "Company=Genentech<br>Salary lower bound (USD)=%{x}<br>Salary upper bound (USD)=%{y}<br>count=%{marker.size}<extra></extra>",
         "legendgroup": "Genentech",
         "marker": {
          "color": "#FFA15A",
          "size": [
           5,
           5
          ],
          "sizemode": "area",
          "sizeref": 0.06222222222222222,
          "symbol": "circle"
         },
         "mode": "markers",
         "name": "Genentech",
         "orientation": "v",
         "showlegend": true,
         "type": "scatter",
         "x": [
          137300,
          137300
         ],
         "xaxis": "x",
         "y": [
          255100,
          255100
         ],
         "yaxis": "y"
        },
        {
         "hovertemplate": "Company=Snap Inc.<br>Salary lower bound (USD)=%{x}<br>Salary upper bound (USD)=%{y}<br>count=%{marker.size}<extra></extra>",
         "legendgroup": "Snap Inc.",
         "marker": {
          "color": "#19d3f3",
          "size": [
           8,
           8,
           8,
           8
          ],
          "sizemode": "area",
          "sizeref": 0.06222222222222222,
          "symbol": "circle"
         },
         "mode": "markers",
         "name": "Snap Inc.",
         "orientation": "v",
         "showlegend": true,
         "type": "scatter",
         "x": [
          196000,
          159110.40625,
          196000,
          230000
         ],
         "xaxis": "x",
         "y": [
          28000,
          242136.1736842105,
          335000,
          335000
         ],
         "yaxis": "y"
        },
        {
         "hovertemplate": "Company=Apple<br>Salary lower bound (USD)=%{x}<br>Salary upper bound (USD)=%{y}<br>count=%{marker.size}<extra></extra>",
         "legendgroup": "Apple",
         "marker": {
          "color": "#FF6692",
          "size": [
           15,
           15,
           15,
           15,
           15,
           15,
           15,
           15,
           15
          ],
          "sizemode": "area",
          "sizeref": 0.06222222222222222,
          "symbol": "circle"
         },
         "mode": "markers",
         "name": "Apple",
         "orientation": "v",
         "showlegend": true,
         "type": "scatter",
         "x": [
          130000,
          130000,
          113500,
          161000,
          130000,
          229000,
          130000,
          95866.66666666669,
          130000
         ],
         "xaxis": "x",
         "y": [
          242000,
          242000,
          207000,
          278000,
          242000,
          343500,
          242000,
          291200,
          242000
         ],
         "yaxis": "y"
        },
        {
         "hovertemplate": "Company=Supportiv<br>Salary lower bound (USD)=%{x}<br>Salary upper bound (USD)=%{y}<br>count=%{marker.size}<extra></extra>",
         "legendgroup": "Supportiv",
         "marker": {
          "color": "#B6E880",
          "size": [
           6
          ],
          "sizemode": "area",
          "sizeref": 0.06222222222222222,
          "symbol": "circle"
         },
         "mode": "markers",
         "name": "Supportiv",
         "orientation": "v",
         "showlegend": true,
         "type": "scatter",
         "x": [
          135565.5
         ],
         "xaxis": "x",
         "y": [
          200783.0382352941
         ],
         "yaxis": "y"
        },
        {
         "hovertemplate": "Company=Oak Ridge National Laboratory<br>Salary lower bound (USD)=%{x}<br>Salary upper bound (USD)=%{y}<br>count=%{marker.size}<extra></extra>",
         "legendgroup": "Oak Ridge National Laboratory",
         "marker": {
          "color": "#FF97FF",
          "size": [
           6,
           6,
           6
          ],
          "sizemode": "area",
          "sizeref": 0.06222222222222222,
          "symbol": "circle"
         },
         "mode": "markers",
         "name": "Oak Ridge National Laboratory",
         "orientation": "v",
         "showlegend": true,
         "type": "scatter",
         "x": [
          135565.5,
          119159.2,
          159110.40625
         ],
         "xaxis": "x",
         "y": [
          200783.0382352941,
          185553.53846153847,
          242136.1736842105
         ],
         "yaxis": "y"
        },
        {
         "hovertemplate": "Company=STR<br>Salary lower bound (USD)=%{x}<br>Salary upper bound (USD)=%{y}<br>count=%{marker.size}<extra></extra>",
         "legendgroup": "STR",
         "marker": {
          "color": "#FECB52",
          "size": [
           5,
           5
          ],
          "sizemode": "area",
          "sizeref": 0.06222222222222222,
          "symbol": "circle"
         },
         "mode": "markers",
         "name": "STR",
         "orientation": "v",
         "showlegend": true,
         "type": "scatter",
         "x": [
          119159.2,
          159110.40625
         ],
         "xaxis": "x",
         "y": [
          185553.53846153847,
          242136.1736842105
         ],
         "yaxis": "y"
        },
        {
         "hovertemplate": "Company=Walmart<br>Salary lower bound (USD)=%{x}<br>Salary upper bound (USD)=%{y}<br>count=%{marker.size}<extra></extra>",
         "legendgroup": "Walmart",
         "marker": {
          "color": "#636efa",
          "size": [
           9,
           9,
           9
          ],
          "sizemode": "area",
          "sizeref": 0.06222222222222222,
          "symbol": "circle"
         },
         "mode": "markers",
         "name": "Walmart",
         "orientation": "v",
         "showlegend": true,
         "type": "scatter",
         "x": [
          81115.78666666668,
          95136.12903225806,
          159110.40625
         ],
         "xaxis": "x",
         "y": [
          127464.8947368421,
          170968.4877777778,
          242136.1736842105
         ],
         "yaxis": "y"
        }
       ],
       "layout": {
        "legend": {
         "itemsizing": "constant",
         "title": {
          "text": "Company"
         },
         "tracegroupgap": 0
        },
        "template": {
         "data": {
          "bar": [
           {
            "error_x": {
             "color": "#2a3f5f"
            },
            "error_y": {
             "color": "#2a3f5f"
            },
            "marker": {
             "line": {
              "color": "#E5ECF6",
              "width": 0.5
             },
             "pattern": {
              "fillmode": "overlay",
              "size": 10,
              "solidity": 0.2
             }
            },
            "type": "bar"
           }
          ],
          "barpolar": [
           {
            "marker": {
             "line": {
              "color": "#E5ECF6",
              "width": 0.5
             },
             "pattern": {
              "fillmode": "overlay",
              "size": 10,
              "solidity": 0.2
             }
            },
            "type": "barpolar"
           }
          ],
          "carpet": [
           {
            "aaxis": {
             "endlinecolor": "#2a3f5f",
             "gridcolor": "white",
             "linecolor": "white",
             "minorgridcolor": "white",
             "startlinecolor": "#2a3f5f"
            },
            "baxis": {
             "endlinecolor": "#2a3f5f",
             "gridcolor": "white",
             "linecolor": "white",
             "minorgridcolor": "white",
             "startlinecolor": "#2a3f5f"
            },
            "type": "carpet"
           }
          ],
          "choropleth": [
           {
            "colorbar": {
             "outlinewidth": 0,
             "ticks": ""
            },
            "type": "choropleth"
           }
          ],
          "contour": [
           {
            "colorbar": {
             "outlinewidth": 0,
             "ticks": ""
            },
            "colorscale": [
             [
              0,
              "#0d0887"
             ],
             [
              0.1111111111111111,
              "#46039f"
             ],
             [
              0.2222222222222222,
              "#7201a8"
             ],
             [
              0.3333333333333333,
              "#9c179e"
             ],
             [
              0.4444444444444444,
              "#bd3786"
             ],
             [
              0.5555555555555556,
              "#d8576b"
             ],
             [
              0.6666666666666666,
              "#ed7953"
             ],
             [
              0.7777777777777778,
              "#fb9f3a"
             ],
             [
              0.8888888888888888,
              "#fdca26"
             ],
             [
              1,
              "#f0f921"
             ]
            ],
            "type": "contour"
           }
          ],
          "contourcarpet": [
           {
            "colorbar": {
             "outlinewidth": 0,
             "ticks": ""
            },
            "type": "contourcarpet"
           }
          ],
          "heatmap": [
           {
            "colorbar": {
             "outlinewidth": 0,
             "ticks": ""
            },
            "colorscale": [
             [
              0,
              "#0d0887"
             ],
             [
              0.1111111111111111,
              "#46039f"
             ],
             [
              0.2222222222222222,
              "#7201a8"
             ],
             [
              0.3333333333333333,
              "#9c179e"
             ],
             [
              0.4444444444444444,
              "#bd3786"
             ],
             [
              0.5555555555555556,
              "#d8576b"
             ],
             [
              0.6666666666666666,
              "#ed7953"
             ],
             [
              0.7777777777777778,
              "#fb9f3a"
             ],
             [
              0.8888888888888888,
              "#fdca26"
             ],
             [
              1,
              "#f0f921"
             ]
            ],
            "type": "heatmap"
           }
          ],
          "heatmapgl": [
           {
            "colorbar": {
             "outlinewidth": 0,
             "ticks": ""
            },
            "colorscale": [
             [
              0,
              "#0d0887"
             ],
             [
              0.1111111111111111,
              "#46039f"
             ],
             [
              0.2222222222222222,
              "#7201a8"
             ],
             [
              0.3333333333333333,
              "#9c179e"
             ],
             [
              0.4444444444444444,
              "#bd3786"
             ],
             [
              0.5555555555555556,
              "#d8576b"
             ],
             [
              0.6666666666666666,
              "#ed7953"
             ],
             [
              0.7777777777777778,
              "#fb9f3a"
             ],
             [
              0.8888888888888888,
              "#fdca26"
             ],
             [
              1,
              "#f0f921"
             ]
            ],
            "type": "heatmapgl"
           }
          ],
          "histogram": [
           {
            "marker": {
             "pattern": {
              "fillmode": "overlay",
              "size": 10,
              "solidity": 0.2
             }
            },
            "type": "histogram"
           }
          ],
          "histogram2d": [
           {
            "colorbar": {
             "outlinewidth": 0,
             "ticks": ""
            },
            "colorscale": [
             [
              0,
              "#0d0887"
             ],
             [
              0.1111111111111111,
              "#46039f"
             ],
             [
              0.2222222222222222,
              "#7201a8"
             ],
             [
              0.3333333333333333,
              "#9c179e"
             ],
             [
              0.4444444444444444,
              "#bd3786"
             ],
             [
              0.5555555555555556,
              "#d8576b"
             ],
             [
              0.6666666666666666,
              "#ed7953"
             ],
             [
              0.7777777777777778,
              "#fb9f3a"
             ],
             [
              0.8888888888888888,
              "#fdca26"
             ],
             [
              1,
              "#f0f921"
             ]
            ],
            "type": "histogram2d"
           }
          ],
          "histogram2dcontour": [
           {
            "colorbar": {
             "outlinewidth": 0,
             "ticks": ""
            },
            "colorscale": [
             [
              0,
              "#0d0887"
             ],
             [
              0.1111111111111111,
              "#46039f"
             ],
             [
              0.2222222222222222,
              "#7201a8"
             ],
             [
              0.3333333333333333,
              "#9c179e"
             ],
             [
              0.4444444444444444,
              "#bd3786"
             ],
             [
              0.5555555555555556,
              "#d8576b"
             ],
             [
              0.6666666666666666,
              "#ed7953"
             ],
             [
              0.7777777777777778,
              "#fb9f3a"
             ],
             [
              0.8888888888888888,
              "#fdca26"
             ],
             [
              1,
              "#f0f921"
             ]
            ],
            "type": "histogram2dcontour"
           }
          ],
          "mesh3d": [
           {
            "colorbar": {
             "outlinewidth": 0,
             "ticks": ""
            },
            "type": "mesh3d"
           }
          ],
          "parcoords": [
           {
            "line": {
             "colorbar": {
              "outlinewidth": 0,
              "ticks": ""
             }
            },
            "type": "parcoords"
           }
          ],
          "pie": [
           {
            "automargin": true,
            "type": "pie"
           }
          ],
          "scatter": [
           {
            "fillpattern": {
             "fillmode": "overlay",
             "size": 10,
             "solidity": 0.2
            },
            "type": "scatter"
           }
          ],
          "scatter3d": [
           {
            "line": {
             "colorbar": {
              "outlinewidth": 0,
              "ticks": ""
             }
            },
            "marker": {
             "colorbar": {
              "outlinewidth": 0,
              "ticks": ""
             }
            },
            "type": "scatter3d"
           }
          ],
          "scattercarpet": [
           {
            "marker": {
             "colorbar": {
              "outlinewidth": 0,
              "ticks": ""
             }
            },
            "type": "scattercarpet"
           }
          ],
          "scattergeo": [
           {
            "marker": {
             "colorbar": {
              "outlinewidth": 0,
              "ticks": ""
             }
            },
            "type": "scattergeo"
           }
          ],
          "scattergl": [
           {
            "marker": {
             "colorbar": {
              "outlinewidth": 0,
              "ticks": ""
             }
            },
            "type": "scattergl"
           }
          ],
          "scattermapbox": [
           {
            "marker": {
             "colorbar": {
              "outlinewidth": 0,
              "ticks": ""
             }
            },
            "type": "scattermapbox"
           }
          ],
          "scatterpolar": [
           {
            "marker": {
             "colorbar": {
              "outlinewidth": 0,
              "ticks": ""
             }
            },
            "type": "scatterpolar"
           }
          ],
          "scatterpolargl": [
           {
            "marker": {
             "colorbar": {
              "outlinewidth": 0,
              "ticks": ""
             }
            },
            "type": "scatterpolargl"
           }
          ],
          "scatterternary": [
           {
            "marker": {
             "colorbar": {
              "outlinewidth": 0,
              "ticks": ""
             }
            },
            "type": "scatterternary"
           }
          ],
          "surface": [
           {
            "colorbar": {
             "outlinewidth": 0,
             "ticks": ""
            },
            "colorscale": [
             [
              0,
              "#0d0887"
             ],
             [
              0.1111111111111111,
              "#46039f"
             ],
             [
              0.2222222222222222,
              "#7201a8"
             ],
             [
              0.3333333333333333,
              "#9c179e"
             ],
             [
              0.4444444444444444,
              "#bd3786"
             ],
             [
              0.5555555555555556,
              "#d8576b"
             ],
             [
              0.6666666666666666,
              "#ed7953"
             ],
             [
              0.7777777777777778,
              "#fb9f3a"
             ],
             [
              0.8888888888888888,
              "#fdca26"
             ],
             [
              1,
              "#f0f921"
             ]
            ],
            "type": "surface"
           }
          ],
          "table": [
           {
            "cells": {
             "fill": {
              "color": "#EBF0F8"
             },
             "line": {
              "color": "white"
             }
            },
            "header": {
             "fill": {
              "color": "#C8D4E3"
             },
             "line": {
              "color": "white"
             }
            },
            "type": "table"
           }
          ]
         },
         "layout": {
          "annotationdefaults": {
           "arrowcolor": "#2a3f5f",
           "arrowhead": 0,
           "arrowwidth": 1
          },
          "autotypenumbers": "strict",
          "coloraxis": {
           "colorbar": {
            "outlinewidth": 0,
            "ticks": ""
           }
          },
          "colorscale": {
           "diverging": [
            [
             0,
             "#8e0152"
            ],
            [
             0.1,
             "#c51b7d"
            ],
            [
             0.2,
             "#de77ae"
            ],
            [
             0.3,
             "#f1b6da"
            ],
            [
             0.4,
             "#fde0ef"
            ],
            [
             0.5,
             "#f7f7f7"
            ],
            [
             0.6,
             "#e6f5d0"
            ],
            [
             0.7,
             "#b8e186"
            ],
            [
             0.8,
             "#7fbc41"
            ],
            [
             0.9,
             "#4d9221"
            ],
            [
             1,
             "#276419"
            ]
           ],
           "sequential": [
            [
             0,
             "#0d0887"
            ],
            [
             0.1111111111111111,
             "#46039f"
            ],
            [
             0.2222222222222222,
             "#7201a8"
            ],
            [
             0.3333333333333333,
             "#9c179e"
            ],
            [
             0.4444444444444444,
             "#bd3786"
            ],
            [
             0.5555555555555556,
             "#d8576b"
            ],
            [
             0.6666666666666666,
             "#ed7953"
            ],
            [
             0.7777777777777778,
             "#fb9f3a"
            ],
            [
             0.8888888888888888,
             "#fdca26"
            ],
            [
             1,
             "#f0f921"
            ]
           ],
           "sequentialminus": [
            [
             0,
             "#0d0887"
            ],
            [
             0.1111111111111111,
             "#46039f"
            ],
            [
             0.2222222222222222,
             "#7201a8"
            ],
            [
             0.3333333333333333,
             "#9c179e"
            ],
            [
             0.4444444444444444,
             "#bd3786"
            ],
            [
             0.5555555555555556,
             "#d8576b"
            ],
            [
             0.6666666666666666,
             "#ed7953"
            ],
            [
             0.7777777777777778,
             "#fb9f3a"
            ],
            [
             0.8888888888888888,
             "#fdca26"
            ],
            [
             1,
             "#f0f921"
            ]
           ]
          },
          "colorway": [
           "#636efa",
           "#EF553B",
           "#00cc96",
           "#ab63fa",
           "#FFA15A",
           "#19d3f3",
           "#FF6692",
           "#B6E880",
           "#FF97FF",
           "#FECB52"
          ],
          "font": {
           "color": "#2a3f5f"
          },
          "geo": {
           "bgcolor": "white",
           "lakecolor": "white",
           "landcolor": "#E5ECF6",
           "showlakes": true,
           "showland": true,
           "subunitcolor": "white"
          },
          "hoverlabel": {
           "align": "left"
          },
          "hovermode": "closest",
          "mapbox": {
           "style": "light"
          },
          "paper_bgcolor": "white",
          "plot_bgcolor": "#E5ECF6",
          "polar": {
           "angularaxis": {
            "gridcolor": "white",
            "linecolor": "white",
            "ticks": ""
           },
           "bgcolor": "#E5ECF6",
           "radialaxis": {
            "gridcolor": "white",
            "linecolor": "white",
            "ticks": ""
           }
          },
          "scene": {
           "xaxis": {
            "backgroundcolor": "#E5ECF6",
            "gridcolor": "white",
            "gridwidth": 2,
            "linecolor": "white",
            "showbackground": true,
            "ticks": "",
            "zerolinecolor": "white"
           },
           "yaxis": {
            "backgroundcolor": "#E5ECF6",
            "gridcolor": "white",
            "gridwidth": 2,
            "linecolor": "white",
            "showbackground": true,
            "ticks": "",
            "zerolinecolor": "white"
           },
           "zaxis": {
            "backgroundcolor": "#E5ECF6",
            "gridcolor": "white",
            "gridwidth": 2,
            "linecolor": "white",
            "showbackground": true,
            "ticks": "",
            "zerolinecolor": "white"
           }
          },
          "shapedefaults": {
           "line": {
            "color": "#2a3f5f"
           }
          },
          "ternary": {
           "aaxis": {
            "gridcolor": "white",
            "linecolor": "white",
            "ticks": ""
           },
           "baxis": {
            "gridcolor": "white",
            "linecolor": "white",
            "ticks": ""
           },
           "bgcolor": "#E5ECF6",
           "caxis": {
            "gridcolor": "white",
            "linecolor": "white",
            "ticks": ""
           }
          },
          "title": {
           "x": 0.05
          },
          "xaxis": {
           "automargin": true,
           "gridcolor": "white",
           "linecolor": "white",
           "ticks": "",
           "title": {
            "standoff": 15
           },
           "zerolinecolor": "white",
           "zerolinewidth": 2
          },
          "yaxis": {
           "automargin": true,
           "gridcolor": "white",
           "linecolor": "white",
           "ticks": "",
           "title": {
            "standoff": 15
           },
           "zerolinecolor": "white",
           "zerolinewidth": 2
          }
         }
        },
        "title": {
         "text": "Salary distribution and number of open positions in different companies"
        },
        "xaxis": {
         "anchor": "y",
         "domain": [
          0,
          1
         ],
         "title": {
          "text": "Salary lower bound (USD)"
         }
        },
        "yaxis": {
         "anchor": "x",
         "domain": [
          0,
          1
         ],
         "title": {
          "text": "Salary upper bound (USD)"
         }
        }
       }
      },
      "text/html": [
       "<div>                            <div id=\"bd1b5b22-40b6-43a1-ac18-d9697981b758\" class=\"plotly-graph-div\" style=\"height:525px; width:100%;\"></div>            <script type=\"text/javascript\">                require([\"plotly\"], function(Plotly) {                    window.PLOTLYENV=window.PLOTLYENV || {};                                    if (document.getElementById(\"bd1b5b22-40b6-43a1-ac18-d9697981b758\")) {                    Plotly.newPlot(                        \"bd1b5b22-40b6-43a1-ac18-d9697981b758\",                        [{\"hovertemplate\":\"Company=Google<br>Salary lower bound (USD)=%{x}<br>Salary upper bound (USD)=%{y}<br>count=%{marker.size}<extra></extra>\",\"legendgroup\":\"Google\",\"marker\":{\"color\":\"#636efa\",\"size\":[7,7,7,7],\"sizemode\":\"area\",\"sizeref\":0.06222222222222222,\"symbol\":\"circle\"},\"mode\":\"markers\",\"name\":\"Google\",\"orientation\":\"v\",\"showlegend\":true,\"x\":[120000.0,118000.0,139000.0,208000.0],\"xaxis\":\"x\",\"y\":[190000.0,177000.0,213000.0,306000.0],\"yaxis\":\"y\",\"type\":\"scatter\"},{\"hovertemplate\":\"Company=Booz Allen Hamilton<br>Salary lower bound (USD)=%{x}<br>Salary upper bound (USD)=%{y}<br>count=%{marker.size}<extra></extra>\",\"legendgroup\":\"Booz Allen Hamilton\",\"marker\":{\"color\":\"#EF553B\",\"size\":[17,17,17,17,17,17,17,17],\"sizemode\":\"area\",\"sizeref\":0.06222222222222222,\"symbol\":\"circle\"},\"mode\":\"markers\",\"name\":\"Booz Allen Hamilton\",\"orientation\":\"v\",\"showlegend\":true,\"x\":[81800.0,58400.0,93300.0,73100.0,93300.0,159110.40625,93300.0,93300.0],\"xaxis\":\"x\",\"y\":[186000.0,133000.0,212000.0,166000.0,212000.0,242136.1736842105,212000.0,212000.0],\"yaxis\":\"y\",\"type\":\"scatter\"},{\"hovertemplate\":\"Company=Raytheon Technologies<br>Salary lower bound (USD)=%{x}<br>Salary upper bound (USD)=%{y}<br>count=%{marker.size}<extra></extra>\",\"legendgroup\":\"Raytheon Technologies\",\"marker\":{\"color\":\"#00cc96\",\"size\":[5],\"sizemode\":\"area\",\"sizeref\":0.06222222222222222,\"symbol\":\"circle\"},\"mode\":\"markers\",\"name\":\"Raytheon Technologies\",\"orientation\":\"v\",\"showlegend\":true,\"x\":[176890.55555555556],\"xaxis\":\"x\",\"y\":[275471.0869565217],\"yaxis\":\"y\",\"type\":\"scatter\"},{\"hovertemplate\":\"Company=ManTech International<br>Salary lower bound (USD)=%{x}<br>Salary upper bound (USD)=%{y}<br>count=%{marker.size}<extra></extra>\",\"legendgroup\":\"ManTech International\",\"marker\":{\"color\":\"#ab63fa\",\"size\":[5,5,5],\"sizemode\":\"area\",\"sizeref\":0.06222222222222222,\"symbol\":\"circle\"},\"mode\":\"markers\",\"name\":\"ManTech International\",\"orientation\":\"v\",\"showlegend\":true,\"x\":[176890.55555555556,137000.0,105900.0],\"xaxis\":\"x\",\"y\":[275471.0869565217,190000.0,145000.0],\"yaxis\":\"y\",\"type\":\"scatter\"},{\"hovertemplate\":\"Company=Amazon Web Services, Inc.<br>Salary lower bound (USD)=%{x}<br>Salary upper bound (USD)=%{y}<br>count=%{marker.size}<extra></extra>\",\"legendgroup\":\"Amazon Web Services, Inc.\",\"marker\":{\"color\":\"#FFA15A\",\"size\":[6,6,6],\"sizemode\":\"area\",\"sizeref\":0.06222222222222222,\"symbol\":\"circle\"},\"mode\":\"markers\",\"name\":\"Amazon Web Services, Inc.\",\"orientation\":\"v\",\"showlegend\":true,\"x\":[176890.55555555556,208000.0,129999.15151515152],\"xaxis\":\"x\",\"y\":[291200.0,291200.0,291200.0],\"yaxis\":\"y\",\"type\":\"scatter\"},{\"hovertemplate\":\"Company=Deloitte<br>Salary lower bound (USD)=%{x}<br>Salary upper bound (USD)=%{y}<br>count=%{marker.size}<extra></extra>\",\"legendgroup\":\"Deloitte\",\"marker\":{\"color\":\"#19d3f3\",\"size\":[10,10,10,10,10,10,10,10],\"sizemode\":\"area\",\"sizeref\":0.06222222222222222,\"symbol\":\"circle\"},\"mode\":\"markers\",\"name\":\"Deloitte\",\"orientation\":\"v\",\"showlegend\":true,\"x\":[146300.0,95136.12903225806,129999.15151515152,86425.0,86425.0,109200.0,82600.0,135565.5],\"xaxis\":\"x\",\"y\":[271700.0,170968.4877777778,291200.0,159165.0,159165.0,202800.0,153400.0,200783.0382352941],\"yaxis\":\"y\",\"type\":\"scatter\"},{\"hovertemplate\":\"Company=Upwork<br>Salary lower bound (USD)=%{x}<br>Salary upper bound (USD)=%{y}<br>count=%{marker.size}<extra></extra>\",\"legendgroup\":\"Upwork\",\"marker\":{\"color\":\"#FF6692\",\"size\":[56,56,56,56,56,56,56,56,56,56,56,56,56,56,56,56,56,56,56,56,56,56],\"sizemode\":\"area\",\"sizeref\":0.06222222222222222,\"symbol\":\"circle\"},\"mode\":\"markers\",\"name\":\"Upwork\",\"orientation\":\"v\",\"showlegend\":true,\"x\":[131952.63157894736,131952.63157894736,129999.15151515152,159110.40625,159110.40625,135565.5,95866.66666666669,95866.66666666669,95866.66666666669,95866.66666666669,95866.66666666669,119159.2,null,null,131952.63157894736,131952.63157894736,81115.78666666668,159110.40625,95866.66666666669,95866.66666666669,95866.66666666669,80000.0],\"xaxis\":\"x\",\"y\":[312000.0,1248000.0,728000.0,728000.0,242136.1736842105,200783.0382352941,520000.0,832000.0,311297.8723404256,260000.0,208000.0,185553.53846153847,509600.0,728000.0,728000.0,324467.8571428572,127464.8947368421,312000.0,624000.0,1040000.0,416000.0,378600.0],\"yaxis\":\"y\",\"type\":\"scatter\"},{\"hovertemplate\":\"Company=Jobot<br>Salary lower bound (USD)=%{x}<br>Salary upper bound (USD)=%{y}<br>count=%{marker.size}<extra></extra>\",\"legendgroup\":\"Jobot\",\"marker\":{\"color\":\"#B6E880\",\"size\":[8,8],\"sizemode\":\"area\",\"sizeref\":0.06222222222222222,\"symbol\":\"circle\"},\"mode\":\"markers\",\"name\":\"Jobot\",\"orientation\":\"v\",\"showlegend\":true,\"x\":[150000.0,14000.0],\"xaxis\":\"x\",\"y\":[200000.0,300000.0],\"yaxis\":\"y\",\"type\":\"scatter\"},{\"hovertemplate\":\"Company=General Dynamics Information Technology<br>Salary lower bound (USD)=%{x}<br>Salary upper bound (USD)=%{y}<br>count=%{marker.size}<extra></extra>\",\"legendgroup\":\"General Dynamics Information Technology\",\"marker\":{\"color\":\"#FF97FF\",\"size\":[5,5],\"sizemode\":\"area\",\"sizeref\":0.06222222222222222,\"symbol\":\"circle\"},\"mode\":\"markers\",\"name\":\"General Dynamics Information Technology\",\"orientation\":\"v\",\"showlegend\":true,\"x\":[81115.78666666668,95136.12903225806],\"xaxis\":\"x\",\"y\":[127464.8947368421,170968.4877777778],\"yaxis\":\"y\",\"type\":\"scatter\"},{\"hovertemplate\":\"Company=Leidos<br>Salary lower bound (USD)=%{x}<br>Salary upper bound (USD)=%{y}<br>count=%{marker.size}<extra></extra>\",\"legendgroup\":\"Leidos\",\"marker\":{\"color\":\"#FECB52\",\"size\":[7,7,7,7],\"sizemode\":\"area\",\"sizeref\":0.06222222222222222,\"symbol\":\"circle\"},\"mode\":\"markers\",\"name\":\"Leidos\",\"orientation\":\"v\",\"showlegend\":true,\"x\":[78000.0,118300.0,142350.0,135565.5],\"xaxis\":\"x\",\"y\":[120000.0,182000.0,219000.0,53.3],\"yaxis\":\"y\",\"type\":\"scatter\"},{\"hovertemplate\":\"Company=SRI International<br>Salary lower bound (USD)=%{x}<br>Salary upper bound (USD)=%{y}<br>count=%{marker.size}<extra></extra>\",\"legendgroup\":\"SRI International\",\"marker\":{\"color\":\"#636efa\",\"size\":[6,6],\"sizemode\":\"area\",\"sizeref\":0.06222222222222222,\"symbol\":\"circle\"},\"mode\":\"markers\",\"name\":\"SRI International\",\"orientation\":\"v\",\"showlegend\":true,\"x\":[99138.0,117545.0],\"xaxis\":\"x\",\"y\":[127377.0,155744.0],\"yaxis\":\"y\",\"type\":\"scatter\"},{\"hovertemplate\":\"Company=Lockheed Martin<br>Salary lower bound (USD)=%{x}<br>Salary upper bound (USD)=%{y}<br>count=%{marker.size}<extra></extra>\",\"legendgroup\":\"Lockheed Martin\",\"marker\":{\"color\":\"#EF553B\",\"size\":[7,7,7,7,7,7],\"sizemode\":\"area\",\"sizeref\":0.06222222222222222,\"symbol\":\"circle\"},\"mode\":\"markers\",\"name\":\"Lockheed Martin\",\"orientation\":\"v\",\"showlegend\":true,\"x\":[129999.15151515152,100900.0,159110.40625,119159.2,100900.0,82700.0],\"xaxis\":\"x\",\"y\":[266657.14285714284,193300.0,242136.1736842105,185553.53846153847,193300.0,158500.0],\"yaxis\":\"y\",\"type\":\"scatter\"},{\"hovertemplate\":\"Company=Peraton<br>Salary lower bound (USD)=%{x}<br>Salary upper bound (USD)=%{y}<br>count=%{marker.size}<extra></extra>\",\"legendgroup\":\"Peraton\",\"marker\":{\"color\":\"#00cc96\",\"size\":[6,6,6,6,6],\"sizemode\":\"area\",\"sizeref\":0.06222222222222222,\"symbol\":\"circle\"},\"mode\":\"markers\",\"name\":\"Peraton\",\"orientation\":\"v\",\"showlegend\":true,\"x\":[86000.0,112000.0,86000.0,86000.0,66000.0],\"xaxis\":\"x\",\"y\":[138000.0,179000.0,138000.0,138000.0,106000.0],\"yaxis\":\"y\",\"type\":\"scatter\"},{\"hovertemplate\":\"Company=Microsoft<br>Salary lower bound (USD)=%{x}<br>Salary upper bound (USD)=%{y}<br>count=%{marker.size}<extra></extra>\",\"legendgroup\":\"Microsoft\",\"marker\":{\"color\":\"#ab63fa\",\"size\":[7,7,7],\"sizemode\":\"area\",\"sizeref\":0.06222222222222222,\"symbol\":\"circle\"},\"mode\":\"markers\",\"name\":\"Microsoft\",\"orientation\":\"v\",\"showlegend\":true,\"x\":[129999.15151515152,119159.2,135565.5],\"xaxis\":\"x\",\"y\":[266657.14285714284,185553.53846153847,200783.0382352941],\"yaxis\":\"y\",\"type\":\"scatter\"},{\"hovertemplate\":\"Company=Genentech<br>Salary lower bound (USD)=%{x}<br>Salary upper bound (USD)=%{y}<br>count=%{marker.size}<extra></extra>\",\"legendgroup\":\"Genentech\",\"marker\":{\"color\":\"#FFA15A\",\"size\":[5,5],\"sizemode\":\"area\",\"sizeref\":0.06222222222222222,\"symbol\":\"circle\"},\"mode\":\"markers\",\"name\":\"Genentech\",\"orientation\":\"v\",\"showlegend\":true,\"x\":[137300.0,137300.0],\"xaxis\":\"x\",\"y\":[255100.0,255100.0],\"yaxis\":\"y\",\"type\":\"scatter\"},{\"hovertemplate\":\"Company=Snap Inc.<br>Salary lower bound (USD)=%{x}<br>Salary upper bound (USD)=%{y}<br>count=%{marker.size}<extra></extra>\",\"legendgroup\":\"Snap Inc.\",\"marker\":{\"color\":\"#19d3f3\",\"size\":[8,8,8,8],\"sizemode\":\"area\",\"sizeref\":0.06222222222222222,\"symbol\":\"circle\"},\"mode\":\"markers\",\"name\":\"Snap Inc.\",\"orientation\":\"v\",\"showlegend\":true,\"x\":[196000.0,159110.40625,196000.0,230000.0],\"xaxis\":\"x\",\"y\":[28000.0,242136.1736842105,335000.0,335000.0],\"yaxis\":\"y\",\"type\":\"scatter\"},{\"hovertemplate\":\"Company=Apple<br>Salary lower bound (USD)=%{x}<br>Salary upper bound (USD)=%{y}<br>count=%{marker.size}<extra></extra>\",\"legendgroup\":\"Apple\",\"marker\":{\"color\":\"#FF6692\",\"size\":[15,15,15,15,15,15,15,15,15],\"sizemode\":\"area\",\"sizeref\":0.06222222222222222,\"symbol\":\"circle\"},\"mode\":\"markers\",\"name\":\"Apple\",\"orientation\":\"v\",\"showlegend\":true,\"x\":[130000.0,130000.0,113500.0,161000.0,130000.0,229000.0,130000.0,95866.66666666669,130000.0],\"xaxis\":\"x\",\"y\":[242000.0,242000.0,207000.0,278000.0,242000.0,343500.0,242000.0,291200.0,242000.0],\"yaxis\":\"y\",\"type\":\"scatter\"},{\"hovertemplate\":\"Company=Supportiv<br>Salary lower bound (USD)=%{x}<br>Salary upper bound (USD)=%{y}<br>count=%{marker.size}<extra></extra>\",\"legendgroup\":\"Supportiv\",\"marker\":{\"color\":\"#B6E880\",\"size\":[6],\"sizemode\":\"area\",\"sizeref\":0.06222222222222222,\"symbol\":\"circle\"},\"mode\":\"markers\",\"name\":\"Supportiv\",\"orientation\":\"v\",\"showlegend\":true,\"x\":[135565.5],\"xaxis\":\"x\",\"y\":[200783.0382352941],\"yaxis\":\"y\",\"type\":\"scatter\"},{\"hovertemplate\":\"Company=Oak Ridge National Laboratory<br>Salary lower bound (USD)=%{x}<br>Salary upper bound (USD)=%{y}<br>count=%{marker.size}<extra></extra>\",\"legendgroup\":\"Oak Ridge National Laboratory\",\"marker\":{\"color\":\"#FF97FF\",\"size\":[6,6,6],\"sizemode\":\"area\",\"sizeref\":0.06222222222222222,\"symbol\":\"circle\"},\"mode\":\"markers\",\"name\":\"Oak Ridge National Laboratory\",\"orientation\":\"v\",\"showlegend\":true,\"x\":[135565.5,119159.2,159110.40625],\"xaxis\":\"x\",\"y\":[200783.0382352941,185553.53846153847,242136.1736842105],\"yaxis\":\"y\",\"type\":\"scatter\"},{\"hovertemplate\":\"Company=STR<br>Salary lower bound (USD)=%{x}<br>Salary upper bound (USD)=%{y}<br>count=%{marker.size}<extra></extra>\",\"legendgroup\":\"STR\",\"marker\":{\"color\":\"#FECB52\",\"size\":[5,5],\"sizemode\":\"area\",\"sizeref\":0.06222222222222222,\"symbol\":\"circle\"},\"mode\":\"markers\",\"name\":\"STR\",\"orientation\":\"v\",\"showlegend\":true,\"x\":[119159.2,159110.40625],\"xaxis\":\"x\",\"y\":[185553.53846153847,242136.1736842105],\"yaxis\":\"y\",\"type\":\"scatter\"},{\"hovertemplate\":\"Company=Walmart<br>Salary lower bound (USD)=%{x}<br>Salary upper bound (USD)=%{y}<br>count=%{marker.size}<extra></extra>\",\"legendgroup\":\"Walmart\",\"marker\":{\"color\":\"#636efa\",\"size\":[9,9,9],\"sizemode\":\"area\",\"sizeref\":0.06222222222222222,\"symbol\":\"circle\"},\"mode\":\"markers\",\"name\":\"Walmart\",\"orientation\":\"v\",\"showlegend\":true,\"x\":[81115.78666666668,95136.12903225806,159110.40625],\"xaxis\":\"x\",\"y\":[127464.8947368421,170968.4877777778,242136.1736842105],\"yaxis\":\"y\",\"type\":\"scatter\"}],                        {\"template\":{\"data\":{\"histogram2dcontour\":[{\"type\":\"histogram2dcontour\",\"colorbar\":{\"outlinewidth\":0,\"ticks\":\"\"},\"colorscale\":[[0.0,\"#0d0887\"],[0.1111111111111111,\"#46039f\"],[0.2222222222222222,\"#7201a8\"],[0.3333333333333333,\"#9c179e\"],[0.4444444444444444,\"#bd3786\"],[0.5555555555555556,\"#d8576b\"],[0.6666666666666666,\"#ed7953\"],[0.7777777777777778,\"#fb9f3a\"],[0.8888888888888888,\"#fdca26\"],[1.0,\"#f0f921\"]]}],\"choropleth\":[{\"type\":\"choropleth\",\"colorbar\":{\"outlinewidth\":0,\"ticks\":\"\"}}],\"histogram2d\":[{\"type\":\"histogram2d\",\"colorbar\":{\"outlinewidth\":0,\"ticks\":\"\"},\"colorscale\":[[0.0,\"#0d0887\"],[0.1111111111111111,\"#46039f\"],[0.2222222222222222,\"#7201a8\"],[0.3333333333333333,\"#9c179e\"],[0.4444444444444444,\"#bd3786\"],[0.5555555555555556,\"#d8576b\"],[0.6666666666666666,\"#ed7953\"],[0.7777777777777778,\"#fb9f3a\"],[0.8888888888888888,\"#fdca26\"],[1.0,\"#f0f921\"]]}],\"heatmap\":[{\"type\":\"heatmap\",\"colorbar\":{\"outlinewidth\":0,\"ticks\":\"\"},\"colorscale\":[[0.0,\"#0d0887\"],[0.1111111111111111,\"#46039f\"],[0.2222222222222222,\"#7201a8\"],[0.3333333333333333,\"#9c179e\"],[0.4444444444444444,\"#bd3786\"],[0.5555555555555556,\"#d8576b\"],[0.6666666666666666,\"#ed7953\"],[0.7777777777777778,\"#fb9f3a\"],[0.8888888888888888,\"#fdca26\"],[1.0,\"#f0f921\"]]}],\"heatmapgl\":[{\"type\":\"heatmapgl\",\"colorbar\":{\"outlinewidth\":0,\"ticks\":\"\"},\"colorscale\":[[0.0,\"#0d0887\"],[0.1111111111111111,\"#46039f\"],[0.2222222222222222,\"#7201a8\"],[0.3333333333333333,\"#9c179e\"],[0.4444444444444444,\"#bd3786\"],[0.5555555555555556,\"#d8576b\"],[0.6666666666666666,\"#ed7953\"],[0.7777777777777778,\"#fb9f3a\"],[0.8888888888888888,\"#fdca26\"],[1.0,\"#f0f921\"]]}],\"contourcarpet\":[{\"type\":\"contourcarpet\",\"colorbar\":{\"outlinewidth\":0,\"ticks\":\"\"}}],\"contour\":[{\"type\":\"contour\",\"colorbar\":{\"outlinewidth\":0,\"ticks\":\"\"},\"colorscale\":[[0.0,\"#0d0887\"],[0.1111111111111111,\"#46039f\"],[0.2222222222222222,\"#7201a8\"],[0.3333333333333333,\"#9c179e\"],[0.4444444444444444,\"#bd3786\"],[0.5555555555555556,\"#d8576b\"],[0.6666666666666666,\"#ed7953\"],[0.7777777777777778,\"#fb9f3a\"],[0.8888888888888888,\"#fdca26\"],[1.0,\"#f0f921\"]]}],\"surface\":[{\"type\":\"surface\",\"colorbar\":{\"outlinewidth\":0,\"ticks\":\"\"},\"colorscale\":[[0.0,\"#0d0887\"],[0.1111111111111111,\"#46039f\"],[0.2222222222222222,\"#7201a8\"],[0.3333333333333333,\"#9c179e\"],[0.4444444444444444,\"#bd3786\"],[0.5555555555555556,\"#d8576b\"],[0.6666666666666666,\"#ed7953\"],[0.7777777777777778,\"#fb9f3a\"],[0.8888888888888888,\"#fdca26\"],[1.0,\"#f0f921\"]]}],\"mesh3d\":[{\"type\":\"mesh3d\",\"colorbar\":{\"outlinewidth\":0,\"ticks\":\"\"}}],\"scatter\":[{\"fillpattern\":{\"fillmode\":\"overlay\",\"size\":10,\"solidity\":0.2},\"type\":\"scatter\"}],\"parcoords\":[{\"type\":\"parcoords\",\"line\":{\"colorbar\":{\"outlinewidth\":0,\"ticks\":\"\"}}}],\"scatterpolargl\":[{\"type\":\"scatterpolargl\",\"marker\":{\"colorbar\":{\"outlinewidth\":0,\"ticks\":\"\"}}}],\"bar\":[{\"error_x\":{\"color\":\"#2a3f5f\"},\"error_y\":{\"color\":\"#2a3f5f\"},\"marker\":{\"line\":{\"color\":\"#E5ECF6\",\"width\":0.5},\"pattern\":{\"fillmode\":\"overlay\",\"size\":10,\"solidity\":0.2}},\"type\":\"bar\"}],\"scattergeo\":[{\"type\":\"scattergeo\",\"marker\":{\"colorbar\":{\"outlinewidth\":0,\"ticks\":\"\"}}}],\"scatterpolar\":[{\"type\":\"scatterpolar\",\"marker\":{\"colorbar\":{\"outlinewidth\":0,\"ticks\":\"\"}}}],\"histogram\":[{\"marker\":{\"pattern\":{\"fillmode\":\"overlay\",\"size\":10,\"solidity\":0.2}},\"type\":\"histogram\"}],\"scattergl\":[{\"type\":\"scattergl\",\"marker\":{\"colorbar\":{\"outlinewidth\":0,\"ticks\":\"\"}}}],\"scatter3d\":[{\"type\":\"scatter3d\",\"line\":{\"colorbar\":{\"outlinewidth\":0,\"ticks\":\"\"}},\"marker\":{\"colorbar\":{\"outlinewidth\":0,\"ticks\":\"\"}}}],\"scattermapbox\":[{\"type\":\"scattermapbox\",\"marker\":{\"colorbar\":{\"outlinewidth\":0,\"ticks\":\"\"}}}],\"scatterternary\":[{\"type\":\"scatterternary\",\"marker\":{\"colorbar\":{\"outlinewidth\":0,\"ticks\":\"\"}}}],\"scattercarpet\":[{\"type\":\"scattercarpet\",\"marker\":{\"colorbar\":{\"outlinewidth\":0,\"ticks\":\"\"}}}],\"carpet\":[{\"aaxis\":{\"endlinecolor\":\"#2a3f5f\",\"gridcolor\":\"white\",\"linecolor\":\"white\",\"minorgridcolor\":\"white\",\"startlinecolor\":\"#2a3f5f\"},\"baxis\":{\"endlinecolor\":\"#2a3f5f\",\"gridcolor\":\"white\",\"linecolor\":\"white\",\"minorgridcolor\":\"white\",\"startlinecolor\":\"#2a3f5f\"},\"type\":\"carpet\"}],\"table\":[{\"cells\":{\"fill\":{\"color\":\"#EBF0F8\"},\"line\":{\"color\":\"white\"}},\"header\":{\"fill\":{\"color\":\"#C8D4E3\"},\"line\":{\"color\":\"white\"}},\"type\":\"table\"}],\"barpolar\":[{\"marker\":{\"line\":{\"color\":\"#E5ECF6\",\"width\":0.5},\"pattern\":{\"fillmode\":\"overlay\",\"size\":10,\"solidity\":0.2}},\"type\":\"barpolar\"}],\"pie\":[{\"automargin\":true,\"type\":\"pie\"}]},\"layout\":{\"autotypenumbers\":\"strict\",\"colorway\":[\"#636efa\",\"#EF553B\",\"#00cc96\",\"#ab63fa\",\"#FFA15A\",\"#19d3f3\",\"#FF6692\",\"#B6E880\",\"#FF97FF\",\"#FECB52\"],\"font\":{\"color\":\"#2a3f5f\"},\"hovermode\":\"closest\",\"hoverlabel\":{\"align\":\"left\"},\"paper_bgcolor\":\"white\",\"plot_bgcolor\":\"#E5ECF6\",\"polar\":{\"bgcolor\":\"#E5ECF6\",\"angularaxis\":{\"gridcolor\":\"white\",\"linecolor\":\"white\",\"ticks\":\"\"},\"radialaxis\":{\"gridcolor\":\"white\",\"linecolor\":\"white\",\"ticks\":\"\"}},\"ternary\":{\"bgcolor\":\"#E5ECF6\",\"aaxis\":{\"gridcolor\":\"white\",\"linecolor\":\"white\",\"ticks\":\"\"},\"baxis\":{\"gridcolor\":\"white\",\"linecolor\":\"white\",\"ticks\":\"\"},\"caxis\":{\"gridcolor\":\"white\",\"linecolor\":\"white\",\"ticks\":\"\"}},\"coloraxis\":{\"colorbar\":{\"outlinewidth\":0,\"ticks\":\"\"}},\"colorscale\":{\"sequential\":[[0.0,\"#0d0887\"],[0.1111111111111111,\"#46039f\"],[0.2222222222222222,\"#7201a8\"],[0.3333333333333333,\"#9c179e\"],[0.4444444444444444,\"#bd3786\"],[0.5555555555555556,\"#d8576b\"],[0.6666666666666666,\"#ed7953\"],[0.7777777777777778,\"#fb9f3a\"],[0.8888888888888888,\"#fdca26\"],[1.0,\"#f0f921\"]],\"sequentialminus\":[[0.0,\"#0d0887\"],[0.1111111111111111,\"#46039f\"],[0.2222222222222222,\"#7201a8\"],[0.3333333333333333,\"#9c179e\"],[0.4444444444444444,\"#bd3786\"],[0.5555555555555556,\"#d8576b\"],[0.6666666666666666,\"#ed7953\"],[0.7777777777777778,\"#fb9f3a\"],[0.8888888888888888,\"#fdca26\"],[1.0,\"#f0f921\"]],\"diverging\":[[0,\"#8e0152\"],[0.1,\"#c51b7d\"],[0.2,\"#de77ae\"],[0.3,\"#f1b6da\"],[0.4,\"#fde0ef\"],[0.5,\"#f7f7f7\"],[0.6,\"#e6f5d0\"],[0.7,\"#b8e186\"],[0.8,\"#7fbc41\"],[0.9,\"#4d9221\"],[1,\"#276419\"]]},\"xaxis\":{\"gridcolor\":\"white\",\"linecolor\":\"white\",\"ticks\":\"\",\"title\":{\"standoff\":15},\"zerolinecolor\":\"white\",\"automargin\":true,\"zerolinewidth\":2},\"yaxis\":{\"gridcolor\":\"white\",\"linecolor\":\"white\",\"ticks\":\"\",\"title\":{\"standoff\":15},\"zerolinecolor\":\"white\",\"automargin\":true,\"zerolinewidth\":2},\"scene\":{\"xaxis\":{\"backgroundcolor\":\"#E5ECF6\",\"gridcolor\":\"white\",\"linecolor\":\"white\",\"showbackground\":true,\"ticks\":\"\",\"zerolinecolor\":\"white\",\"gridwidth\":2},\"yaxis\":{\"backgroundcolor\":\"#E5ECF6\",\"gridcolor\":\"white\",\"linecolor\":\"white\",\"showbackground\":true,\"ticks\":\"\",\"zerolinecolor\":\"white\",\"gridwidth\":2},\"zaxis\":{\"backgroundcolor\":\"#E5ECF6\",\"gridcolor\":\"white\",\"linecolor\":\"white\",\"showbackground\":true,\"ticks\":\"\",\"zerolinecolor\":\"white\",\"gridwidth\":2}},\"shapedefaults\":{\"line\":{\"color\":\"#2a3f5f\"}},\"annotationdefaults\":{\"arrowcolor\":\"#2a3f5f\",\"arrowhead\":0,\"arrowwidth\":1},\"geo\":{\"bgcolor\":\"white\",\"landcolor\":\"#E5ECF6\",\"subunitcolor\":\"white\",\"showland\":true,\"showlakes\":true,\"lakecolor\":\"white\"},\"title\":{\"x\":0.05},\"mapbox\":{\"style\":\"light\"}}},\"xaxis\":{\"anchor\":\"y\",\"domain\":[0.0,1.0],\"title\":{\"text\":\"Salary lower bound (USD)\"}},\"yaxis\":{\"anchor\":\"x\",\"domain\":[0.0,1.0],\"title\":{\"text\":\"Salary upper bound (USD)\"}},\"legend\":{\"title\":{\"text\":\"Company\"},\"tracegroupgap\":0,\"itemsizing\":\"constant\"},\"title\":{\"text\":\"Salary distribution and number of open positions in different companies\"}},                        {\"responsive\": true}                    ).then(function(){\n",
       "                            \n",
       "var gd = document.getElementById('bd1b5b22-40b6-43a1-ac18-d9697981b758');\n",
       "var x = new MutationObserver(function (mutations, observer) {{\n",
       "        var display = window.getComputedStyle(gd).display;\n",
       "        if (!display || display === 'none') {{\n",
       "            console.log([gd, 'removed!']);\n",
       "            Plotly.purge(gd);\n",
       "            observer.disconnect();\n",
       "        }}\n",
       "}});\n",
       "\n",
       "// Listen for the removal of the full notebook cells\n",
       "var notebookContainer = gd.closest('#notebook-container');\n",
       "if (notebookContainer) {{\n",
       "    x.observe(notebookContainer, {childList: true});\n",
       "}}\n",
       "\n",
       "// Listen for the clearing of the current output cell\n",
       "var outputEl = gd.closest('.output');\n",
       "if (outputEl) {{\n",
       "    x.observe(outputEl, {childList: true});\n",
       "}}\n",
       "\n",
       "                        })                };                });            </script>        </div>"
      ]
     },
     "metadata": {},
     "output_type": "display_data"
    }
   ],
   "source": [
    "#| output: true\n",
    "#| fig-cap: Figure 3. Bubble plot for salary lower and upper bound and number of open positions of different companies. <br>The x-axis and y-axis represent the salary lower and upper bound respectively. The size of the bubbles means the number of open positions for a company. The color means companies that have no less than five opening positions.\n",
    "\n",
    "fig = px.scatter(comp_salary, \n",
    "                 x=\"salary_lower_bound\", y=\"salary_upper_bound\",\n",
    "                 size=\"count\", size_max=30,\n",
    "                 color=\"company_name\",\n",
    "                 labels={\n",
    "                     \"salary_lower_bound\": \"Salary lower bound (USD)\",\n",
    "                     \"salary_upper_bound\": \"Salary upper bound (USD)\",\n",
    "                     \"company_name\": \"Company\"\n",
    "                 },\n",
    "                title=\"Salary distribution and number of open positions in different companies\")\n",
    "fig.show()"
   ]
  },
  {
   "attachments": {},
   "cell_type": "markdown",
   "metadata": {},
   "source": [
    "<br>\n",
    "The company `Upwork` has 56 opening positions, which is the most. The salary lower bound of the majority of positions provided by Upwork is around $100K per year, while the difference range for the upper bound is large, and the highest annual salary is up to $1.2M. As for all the other companies, in terms of salary lower bound, there are relatively obvious differences ranging from $14K to $230K, but it is common that the salary upper bound does not exceed 500K."
   ]
  },
  {
   "attachments": {},
   "cell_type": "markdown",
   "metadata": {},
   "source": [
    "## What qualifications do job seekers need to have?"
   ]
  },
  {
   "attachments": {},
   "cell_type": "markdown",
   "metadata": {},
   "source": [
    "One of the most efficient ways to improve professional skills and experiences is to compare ourselves to the 'Qualifications' described by posted jobs. Within the 'Qualifications' tabs, all the skills that are supposed to be mastered for the jobs are listed, and this is the most straightforward tip to help get this job."
   ]
  },
  {
   "cell_type": "code",
   "execution_count": 12,
   "metadata": {},
   "outputs": [
    {
     "data": {
      "image/png": "[encoded data removed]",
      "text/plain": [
       "<Figure size 1000x500 with 1 Axes>"
      ]
     },
     "metadata": {},
     "output_type": "display_data"
    }
   ],
   "source": [
    "#| output: true\n",
    "#| fig-cap: Figure 4. Wordcloud for job qualifications.\n",
    "\n",
    "stopwords1 = STOPWORDS\n",
    "stopwords1.update([\"including\",\"related\",\"required\",\"must\",\"ability\",\"year\",\"years\",\"etc\",\"field\",\"e.g\",\"skill\",\"skills\",\"tool\",\"using\",\"data\",\"one\"])\n",
    "\n",
    "text = df.loc[df[\"Qualifications\"].isna()==False,\"Qualifications\"].tolist() \n",
    "text = ' '.join(text).lower()\n",
    "\n",
    "#create the wordcloud object\n",
    "wordcloud1 = WordCloud(stopwords = stopwords1,\n",
    "                      collocations=True,\n",
    "                      max_words=100,\n",
    "                      background_color=\"white\",\n",
    "                      width=1000, height=500).generate(text)\n",
    "\n",
    "#plot the wordcloud object\n",
    "plt.figure( figsize=(10,5), facecolor='k')\n",
    "plt.imshow(wordcloud1, interpolation='bilInear')\n",
    "plt.axis('off')\n",
    "plt.tight_layout(pad=0)\n",
    "plt.show()"
   ]
  },
  {
   "attachments": {},
   "cell_type": "markdown",
   "metadata": {},
   "source": [
    "<br>\n",
    "According to the graph above, among all the words appearing in the qualifications, 'experience' is the word that occurs the most frequently, from which we can learn that it is important to have sufficient practical experience. Because some technical words like 'machine learning', 'deep learning', etc. are used as keywords, their frequent occurrences are not surprising. Disregarding these words, some words including 'programming', 'database', etc. are shown apparently, which indicates again the importance of hands-on skills. At the meanwhile, 'team', 'proficiency', and 'problem solving' present a personal competence requirement beyond technology."
   ]
  },
  {
   "attachments": {},
   "cell_type": "markdown",
   "metadata": {},
   "source": [
    "## What are the general duties of the jobs？"
   ]
  },
  {
   "cell_type": "code",
   "execution_count": 23,
   "metadata": {},
   "outputs": [
    {
     "data": {
      "image/png": "[encoded data removed]",
      "text/plain": [
       "<Figure size 1000x500 with 1 Axes>"
      ]
     },
     "metadata": {},
     "output_type": "display_data"
    }
   ],
   "source": [
    "#| output: true\n",
    "#| fig-cap: Figure 5. Wordcloud for job responsibilities.\n",
    "\n",
    "stopwords2 = STOPWORDS\n",
    "stopwords2.update([\"new\",\"need\",\"use\",\"working\"])\n",
    "\n",
    "text = df.loc[df[\"Responsibilities\"].isna()==False,\"Responsibilities\"].tolist() \n",
    "text = ' '.join(text).lower()\n",
    "\n",
    "#create the wordcloud object\n",
    "wordcloud2 = WordCloud(stopwords = stopwords2,\n",
    "                      collocations=True,\n",
    "                      max_words=100,\n",
    "                      background_color=\"white\",\n",
    "                      width=1000, height=500).generate(text)\n",
    "\n",
    "#plot the wordcloud object\n",
    "plt.figure(figsize=(10,5), facecolor='k')\n",
    "plt.imshow(wordcloud2, interpolation='bilInear')\n",
    "plt.axis('off')\n",
    "plt.tight_layout(pad=0)\n",
    "plt.show()"
   ]
  },
  {
   "attachments": {},
   "cell_type": "markdown",
   "metadata": {},
   "source": [
    "<br>\n",
    "There are several words that are eye-catching like 'team', 'solution', 'customer', 'product', 'business'. They are something indicating a higher level of specific business-related content, and these are specific problems to be solved on the basis of technology that is mentioned in qualifications."
   ]
  },
  {
   "cell_type": "code",
   "execution_count": null,
   "metadata": {},
   "outputs": [],
   "source": []
  }
 ],
 "metadata": {
  "kernelspec": {
   "display_name": "anly503",
   "language": "python",
   "name": "anly503"
  },
  "language_info": {
   "codemirror_mode": {
    "name": "ipython",
    "version": 3
   },
   "file_extension": ".py",
   "mimetype": "text/x-python",
   "name": "python",
   "nbconvert_exporter": "python",
   "pygments_lexer": "ipython3",
   "version": "3.10.8"
  },
  "orig_nbformat": 4
 },
 "nbformat": 4,
 "nbformat_minor": 2
}
