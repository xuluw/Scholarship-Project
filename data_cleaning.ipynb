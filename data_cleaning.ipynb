{
 "cells": [
  {
   "cell_type": "code",
   "execution_count": 1,
   "metadata": {},
   "outputs": [],
   "source": [
    "import numpy as np\n",
    "import pandas as pd\n",
    "import os\n",
    "import json\n",
    "import re\n",
    "import nltk\n",
    "import string\n",
    "from nltk.corpus import stopwords\n",
    "from nltk.stem import WordNetLemmatizer\n"
   ]
  },
  {
   "attachments": {},
   "cell_type": "markdown",
   "metadata": {},
   "source": [
    "# Read from json files into csv files"
   ]
  },
  {
   "cell_type": "code",
   "execution_count": 2,
   "metadata": {},
   "outputs": [
    {
     "name": "stdout",
     "output_type": "stream",
     "text": [
      "(372, 16)\n",
      "(464, 15)\n"
     ]
    }
   ],
   "source": [
    "# folder Path\n",
    "path_dc = 'Dataset/2023-04-14-job-search/2023-04-14-job-search-location-DC/'\n",
    "path_usa = 'Dataset/2023-04-14-job-search/2023-04-14-job-search-location-USA/'\n",
    "\n",
    "# get all JSON file names as a list\n",
    "# dc\n",
    "json_files = [filename for filename in os.listdir(path_dc) if filename.endswith('.json')]\n",
    "\n",
    "data_dc=pd.DataFrame()\n",
    "for file_name in json_files:\n",
    "    with open(os.path.join(path_dc, file_name)) as json_file:\n",
    "        json_text = json.load(json_file)\n",
    "        try:\n",
    "            temp = pd.json_normalize(json_text, record_path=[\"jobs_results\"], meta=[\"search_metadata\", \"search_parameters\"])\n",
    "        except:\n",
    "            pass\n",
    "        data_dc = pd.concat([data_dc, temp], axis=0)\n",
    "print(data_dc.shape)\n",
    "data_dc.to_csv(\"Dataset/csv_from_json/dc_results.csv\", index=False)\n",
    "\n",
    "\n",
    "# # usa\n",
    "json_files = [filename for filename in os.listdir(path_usa) if filename.endswith('.json')]\n",
    "\n",
    "data_usa=pd.DataFrame()\n",
    "for file_name in json_files:\n",
    "    with open(os.path.join(path_usa, file_name)) as json_file:\n",
    "        json_text = json.load(json_file)\n",
    "        try:\n",
    "            temp = pd.json_normalize(json_text, record_path=[\"jobs_results\"], meta=[\"search_metadata\", \"search_parameters\"])\n",
    "        except:\n",
    "            pass\n",
    "        data_usa = pd.concat([data_usa, temp], axis=0)\n",
    "print(data_usa.shape)\n",
    "data_usa.to_csv(\"Dataset/csv_from_json/usa_results.csv\", index=False)"
   ]
  },
  {
   "attachments": {},
   "cell_type": "markdown",
   "metadata": {},
   "source": [
    "Check and delete duplicates for results of dc and usa respectively:"
   ]
  },
  {
   "cell_type": "code",
   "execution_count": 3,
   "metadata": {},
   "outputs": [
    {
     "name": "stdout",
     "output_type": "stream",
     "text": [
      "6\n",
      "7\n"
     ]
    }
   ],
   "source": [
    "dc = pd.read_csv(\"./Dataset/csv_from_json/dc_results.csv\")\n",
    "usa = pd.read_csv(\"./Dataset/csv_from_json/usa_results.csv\")\n",
    "print(dc.duplicated().sum())\n",
    "print(usa.duplicated().sum())"
   ]
  },
  {
   "cell_type": "code",
   "execution_count": 4,
   "metadata": {},
   "outputs": [
    {
     "name": "stdout",
     "output_type": "stream",
     "text": [
      "(366, 16)\n",
      "(457, 15)\n"
     ]
    }
   ],
   "source": [
    "dc.drop_duplicates(ignore_index=True, inplace=True)\n",
    "usa.drop_duplicates(ignore_index=True, inplace=True)\n",
    "print(dc.shape)\n",
    "print(usa.shape)"
   ]
  },
  {
   "cell_type": "code",
   "execution_count": 5,
   "metadata": {},
   "outputs": [],
   "source": [
    "dc.to_csv(\"./Dataset/cleaned/dc_results.csv\", index=False)\n",
    "usa.to_csv(\"./Dataset/cleaned/usa_results.csv\", index=False)"
   ]
  },
  {
   "attachments": {},
   "cell_type": "markdown",
   "metadata": {},
   "source": [
    "Combine all records from dc and usa:"
   ]
  },
  {
   "cell_type": "code",
   "execution_count": 6,
   "metadata": {},
   "outputs": [
    {
     "name": "stdout",
     "output_type": "stream",
     "text": [
      "0\n",
      "(823, 16)\n"
     ]
    }
   ],
   "source": [
    "all_res = pd.concat([dc, usa], ignore_index=True)\n",
    "print(all_res.duplicated().sum())\n",
    "all_res.drop_duplicates(ignore_index=True, inplace=True)\n",
    "print(all_res.shape)\n",
    "all_res.to_csv(\"./Dataset/cleaned/all_results.csv\", index=False)"
   ]
  },
  {
   "cell_type": "code",
   "execution_count": 6,
   "metadata": {},
   "outputs": [
    {
     "name": "stdout",
     "output_type": "stream",
     "text": [
      "Index(['title', 'company_name', 'location', 'via', 'description',\n",
      "       'job_highlights', 'related_links', 'extensions', 'job_id',\n",
      "       'detected_extensions.schedule_type', 'detected_extensions.salary',\n",
      "       'detected_extensions.posted_at', 'search_metadata', 'search_parameters',\n",
      "       'detected_extensions.work_from_home',\n",
      "       'detected_extensions.commute_time'],\n",
      "      dtype='object')\n",
      "Index(['title', 'company_name', 'location', 'via', 'description',\n",
      "       'job_highlights', 'related_links', 'extensions', 'job_id',\n",
      "       'detected_extensions.posted_at', 'detected_extensions.schedule_type',\n",
      "       'detected_extensions.salary', 'search_metadata', 'search_parameters',\n",
      "       'detected_extensions.work_from_home'],\n",
      "      dtype='object')\n"
     ]
    }
   ],
   "source": [
    "print(dc.columns)\n",
    "print(usa.columns)"
   ]
  },
  {
   "attachments": {},
   "cell_type": "markdown",
   "metadata": {},
   "source": [
    "# Cleaning"
   ]
  },
  {
   "cell_type": "code",
   "execution_count": 110,
   "metadata": {},
   "outputs": [
    {
     "data": {
      "text/html": [
       "<div>\n",
       "<style scoped>\n",
       "    .dataframe tbody tr th:only-of-type {\n",
       "        vertical-align: middle;\n",
       "    }\n",
       "\n",
       "    .dataframe tbody tr th {\n",
       "        vertical-align: top;\n",
       "    }\n",
       "\n",
       "    .dataframe thead th {\n",
       "        text-align: right;\n",
       "    }\n",
       "</style>\n",
       "<table border=\"1\" class=\"dataframe\">\n",
       "  <thead>\n",
       "    <tr style=\"text-align: right;\">\n",
       "      <th></th>\n",
       "      <th>title</th>\n",
       "      <th>company_name</th>\n",
       "      <th>location</th>\n",
       "      <th>via</th>\n",
       "      <th>description</th>\n",
       "      <th>job_highlights</th>\n",
       "      <th>related_links</th>\n",
       "      <th>extensions</th>\n",
       "      <th>job_id</th>\n",
       "      <th>detected_extensions.schedule_type</th>\n",
       "      <th>detected_extensions.salary</th>\n",
       "      <th>detected_extensions.posted_at</th>\n",
       "      <th>search_metadata</th>\n",
       "      <th>search_parameters</th>\n",
       "      <th>detected_extensions.work_from_home</th>\n",
       "      <th>detected_extensions.commute_time</th>\n",
       "    </tr>\n",
       "  </thead>\n",
       "  <tbody>\n",
       "    <tr>\n",
       "      <th>0</th>\n",
       "      <td>Cloud Consultant, Big Data and Analytics, Goog...</td>\n",
       "      <td>Google</td>\n",
       "      <td>Reston, VA</td>\n",
       "      <td>via Karkidi</td>\n",
       "      <td>Minimum qualifications:\\n• Bachelor’s degree i...</td>\n",
       "      <td>[{'title': 'Qualifications', 'items': ['Bachel...</td>\n",
       "      <td>[{'link': 'http://www.google.com/', 'text': 'g...</td>\n",
       "      <td>['120K–190K a year', 'Full-time']</td>\n",
       "      <td>eyJqb2JfdGl0bGUiOiJDbG91ZCBDb25zdWx0YW50LCBCaW...</td>\n",
       "      <td>Full-time</td>\n",
       "      <td>120K–190K a year</td>\n",
       "      <td>NaN</td>\n",
       "      <td>{'id': '643dbb162fe3026efeedbf03', 'status': '...</td>\n",
       "      <td>{'q': 'big data and cloud computing', 'engine'...</td>\n",
       "      <td>NaN</td>\n",
       "      <td>NaN</td>\n",
       "    </tr>\n",
       "    <tr>\n",
       "      <th>1</th>\n",
       "      <td>Big Data Architect</td>\n",
       "      <td>Johnson Technology Systems Inc.</td>\n",
       "      <td>Washington, DC</td>\n",
       "      <td>via Ladders</td>\n",
       "      <td>We are hiring for Big Data Architect candidate...</td>\n",
       "      <td>[{'title': 'Qualifications', 'items': ['Minimu...</td>\n",
       "      <td>[{'link': 'http://www.jtsusa.com/', 'text': 'j...</td>\n",
       "      <td>['4 days ago', 'Full-time', 'No degree mention...</td>\n",
       "      <td>eyJqb2JfdGl0bGUiOiJCaWcgRGF0YSBBcmNoaXRlY3QiLC...</td>\n",
       "      <td>Full-time</td>\n",
       "      <td>NaN</td>\n",
       "      <td>4 days ago</td>\n",
       "      <td>{'id': '643dbb162fe3026efeedbf03', 'status': '...</td>\n",
       "      <td>{'q': 'big data and cloud computing', 'engine'...</td>\n",
       "      <td>NaN</td>\n",
       "      <td>NaN</td>\n",
       "    </tr>\n",
       "  </tbody>\n",
       "</table>\n",
       "</div>"
      ],
      "text/plain": [
       "                                               title  \\\n",
       "0  Cloud Consultant, Big Data and Analytics, Goog...   \n",
       "1                                 Big Data Architect   \n",
       "\n",
       "                      company_name             location          via  \\\n",
       "0                           Google        Reston, VA     via Karkidi   \n",
       "1  Johnson Technology Systems Inc.    Washington, DC     via Ladders   \n",
       "\n",
       "                                         description  \\\n",
       "0  Minimum qualifications:\\n• Bachelor’s degree i...   \n",
       "1  We are hiring for Big Data Architect candidate...   \n",
       "\n",
       "                                      job_highlights  \\\n",
       "0  [{'title': 'Qualifications', 'items': ['Bachel...   \n",
       "1  [{'title': 'Qualifications', 'items': ['Minimu...   \n",
       "\n",
       "                                       related_links  \\\n",
       "0  [{'link': 'http://www.google.com/', 'text': 'g...   \n",
       "1  [{'link': 'http://www.jtsusa.com/', 'text': 'j...   \n",
       "\n",
       "                                          extensions  \\\n",
       "0                  ['120K–190K a year', 'Full-time']   \n",
       "1  ['4 days ago', 'Full-time', 'No degree mention...   \n",
       "\n",
       "                                              job_id  \\\n",
       "0  eyJqb2JfdGl0bGUiOiJDbG91ZCBDb25zdWx0YW50LCBCaW...   \n",
       "1  eyJqb2JfdGl0bGUiOiJCaWcgRGF0YSBBcmNoaXRlY3QiLC...   \n",
       "\n",
       "  detected_extensions.schedule_type detected_extensions.salary  \\\n",
       "0                         Full-time           120K–190K a year   \n",
       "1                         Full-time                        NaN   \n",
       "\n",
       "  detected_extensions.posted_at  \\\n",
       "0                           NaN   \n",
       "1                    4 days ago   \n",
       "\n",
       "                                     search_metadata  \\\n",
       "0  {'id': '643dbb162fe3026efeedbf03', 'status': '...   \n",
       "1  {'id': '643dbb162fe3026efeedbf03', 'status': '...   \n",
       "\n",
       "                                   search_parameters  \\\n",
       "0  {'q': 'big data and cloud computing', 'engine'...   \n",
       "1  {'q': 'big data and cloud computing', 'engine'...   \n",
       "\n",
       "  detected_extensions.work_from_home detected_extensions.commute_time  \n",
       "0                                NaN                              NaN  \n",
       "1                                NaN                              NaN  "
      ]
     },
     "execution_count": 110,
     "metadata": {},
     "output_type": "execute_result"
    }
   ],
   "source": [
    "data = pd.read_csv(\"./Dataset/csv_from_json/all_results.csv\")\n",
    "data.head(2)"
   ]
  },
  {
   "cell_type": "code",
   "execution_count": 112,
   "metadata": {},
   "outputs": [
    {
     "data": {
      "text/plain": [
       "0"
      ]
     },
     "execution_count": 112,
     "metadata": {},
     "output_type": "execute_result"
    }
   ],
   "source": [
    "data[\"job_id\"].duplicated().sum()"
   ]
  },
  {
   "cell_type": "code",
   "execution_count": 3,
   "metadata": {},
   "outputs": [
    {
     "data": {
      "text/plain": [
       "Index(['title', 'company_name', 'location', 'via', 'description',\n",
       "       'job_highlights', 'related_links', 'extensions', 'job_id',\n",
       "       'detected_extensions.schedule_type', 'detected_extensions.salary',\n",
       "       'detected_extensions.posted_at', 'search_metadata', 'search_parameters',\n",
       "       'detected_extensions.work_from_home',\n",
       "       'detected_extensions.commute_time'],\n",
       "      dtype='object')"
      ]
     },
     "execution_count": 3,
     "metadata": {},
     "output_type": "execute_result"
    }
   ],
   "source": [
    "data.columns"
   ]
  },
  {
   "cell_type": "code",
   "execution_count": 4,
   "metadata": {},
   "outputs": [],
   "source": [
    "# rename some columns\n",
    "data.rename(columns={\"detected_extensions.schedule_type\":\"schedule_type\", \"detected_extensions.salary\":\"salary\", \n",
    "                     \"detected_extensions.posted_at\":\"posted_at\", \"detected_extensions.work_from_home\":\"work_from_home\",\n",
    "                     \"detected_extensions.commute_time\":\"commute_time\"}, inplace=True)"
   ]
  },
  {
   "attachments": {},
   "cell_type": "markdown",
   "metadata": {},
   "source": [
    "### Extract search query:"
   ]
  },
  {
   "cell_type": "code",
   "execution_count": 5,
   "metadata": {},
   "outputs": [],
   "source": [
    "start = \"{'q': \"\n",
    "end = \", 'engine'\"\n",
    "search_query = []\n",
    "for i in data[\"search_parameters\"]:\n",
    "    q = re.search(f\"{start}(.*){end}\", i)\n",
    "    try:\n",
    "        q = q.group(1).strip().strip(\"'\")\n",
    "    except:\n",
    "        q = \"\"\n",
    "    search_query.append(q)\n",
    "data[\"search_query\"] = search_query"
   ]
  },
  {
   "cell_type": "code",
   "execution_count": 6,
   "metadata": {},
   "outputs": [
    {
     "data": {
      "text/plain": [
       "Index(['title', 'company_name', 'location', 'via', 'description',\n",
       "       'job_highlights', 'related_links', 'extensions', 'job_id',\n",
       "       'schedule_type', 'salary', 'posted_at', 'search_metadata',\n",
       "       'search_parameters', 'work_from_home', 'commute_time', 'search_query'],\n",
       "      dtype='object')"
      ]
     },
     "execution_count": 6,
     "metadata": {},
     "output_type": "execute_result"
    }
   ],
   "source": [
    "data.columns"
   ]
  },
  {
   "cell_type": "code",
   "execution_count": 7,
   "metadata": {},
   "outputs": [],
   "source": [
    "data.drop(columns=[\"search_metadata\",\"search_parameters\",\"related_links\",\"job_id\",\"extensions\",\"posted_at\", \"commute_time\"], inplace=True)"
   ]
  },
  {
   "cell_type": "code",
   "execution_count": 8,
   "metadata": {},
   "outputs": [
    {
     "data": {
      "text/html": [
       "<div>\n",
       "<style scoped>\n",
       "    .dataframe tbody tr th:only-of-type {\n",
       "        vertical-align: middle;\n",
       "    }\n",
       "\n",
       "    .dataframe tbody tr th {\n",
       "        vertical-align: top;\n",
       "    }\n",
       "\n",
       "    .dataframe thead th {\n",
       "        text-align: right;\n",
       "    }\n",
       "</style>\n",
       "<table border=\"1\" class=\"dataframe\">\n",
       "  <thead>\n",
       "    <tr style=\"text-align: right;\">\n",
       "      <th></th>\n",
       "      <th>title</th>\n",
       "      <th>company_name</th>\n",
       "      <th>location</th>\n",
       "      <th>via</th>\n",
       "      <th>description</th>\n",
       "      <th>job_highlights</th>\n",
       "      <th>schedule_type</th>\n",
       "      <th>salary</th>\n",
       "      <th>work_from_home</th>\n",
       "      <th>search_query</th>\n",
       "    </tr>\n",
       "  </thead>\n",
       "  <tbody>\n",
       "    <tr>\n",
       "      <th>0</th>\n",
       "      <td>Cloud Consultant, Big Data and Analytics, Goog...</td>\n",
       "      <td>Google</td>\n",
       "      <td>Reston, VA</td>\n",
       "      <td>via Karkidi</td>\n",
       "      <td>Minimum qualifications:\\n• Bachelor’s degree i...</td>\n",
       "      <td>[{'title': 'Qualifications', 'items': ['Bachel...</td>\n",
       "      <td>Full-time</td>\n",
       "      <td>120K–190K a year</td>\n",
       "      <td>NaN</td>\n",
       "      <td>big data and cloud computing</td>\n",
       "    </tr>\n",
       "    <tr>\n",
       "      <th>1</th>\n",
       "      <td>Big Data Architect</td>\n",
       "      <td>Johnson Technology Systems Inc.</td>\n",
       "      <td>Washington, DC</td>\n",
       "      <td>via Ladders</td>\n",
       "      <td>We are hiring for Big Data Architect candidate...</td>\n",
       "      <td>[{'title': 'Qualifications', 'items': ['Minimu...</td>\n",
       "      <td>Full-time</td>\n",
       "      <td>NaN</td>\n",
       "      <td>NaN</td>\n",
       "      <td>big data and cloud computing</td>\n",
       "    </tr>\n",
       "  </tbody>\n",
       "</table>\n",
       "</div>"
      ],
      "text/plain": [
       "                                               title  \\\n",
       "0  Cloud Consultant, Big Data and Analytics, Goog...   \n",
       "1                                 Big Data Architect   \n",
       "\n",
       "                      company_name             location          via  \\\n",
       "0                           Google        Reston, VA     via Karkidi   \n",
       "1  Johnson Technology Systems Inc.    Washington, DC     via Ladders   \n",
       "\n",
       "                                         description  \\\n",
       "0  Minimum qualifications:\\n• Bachelor’s degree i...   \n",
       "1  We are hiring for Big Data Architect candidate...   \n",
       "\n",
       "                                      job_highlights schedule_type  \\\n",
       "0  [{'title': 'Qualifications', 'items': ['Bachel...     Full-time   \n",
       "1  [{'title': 'Qualifications', 'items': ['Minimu...     Full-time   \n",
       "\n",
       "             salary work_from_home                  search_query  \n",
       "0  120K–190K a year            NaN  big data and cloud computing  \n",
       "1               NaN            NaN  big data and cloud computing  "
      ]
     },
     "execution_count": 8,
     "metadata": {},
     "output_type": "execute_result"
    }
   ],
   "source": [
    "data.head(2)"
   ]
  },
  {
   "attachments": {},
   "cell_type": "markdown",
   "metadata": {},
   "source": [
    "### clean column 'via'"
   ]
  },
  {
   "cell_type": "code",
   "execution_count": 9,
   "metadata": {},
   "outputs": [],
   "source": [
    "platform = []\n",
    "for i in data[\"via\"]:\n",
    "    i = i.replace(\"via \", \"\").strip()\n",
    "    platform.append(i)\n",
    "data[\"platform\"] = platform\n",
    "\n",
    "data.drop(columns=[\"via\"], inplace=True)"
   ]
  },
  {
   "cell_type": "code",
   "execution_count": 10,
   "metadata": {},
   "outputs": [],
   "source": [
    "for i in range(len(data[\"platform\"])):\n",
    "    if len(data.loc[i, \"platform\"].split(\"-\"))>1:\n",
    "        data.loc[i, \"platform\"] = data.loc[i, \"platform\"].split(\"-\")[-1].strip(\" \")"
   ]
  },
  {
   "attachments": {},
   "cell_type": "markdown",
   "metadata": {},
   "source": [
    "### clean column \"job_highlights\""
   ]
  },
  {
   "cell_type": "code",
   "execution_count": 11,
   "metadata": {},
   "outputs": [
    {
     "data": {
      "text/html": [
       "<div>\n",
       "<style scoped>\n",
       "    .dataframe tbody tr th:only-of-type {\n",
       "        vertical-align: middle;\n",
       "    }\n",
       "\n",
       "    .dataframe tbody tr th {\n",
       "        vertical-align: top;\n",
       "    }\n",
       "\n",
       "    .dataframe thead th {\n",
       "        text-align: right;\n",
       "    }\n",
       "</style>\n",
       "<table border=\"1\" class=\"dataframe\">\n",
       "  <thead>\n",
       "    <tr style=\"text-align: right;\">\n",
       "      <th></th>\n",
       "      <th>title</th>\n",
       "      <th>company_name</th>\n",
       "      <th>location</th>\n",
       "      <th>description</th>\n",
       "      <th>job_highlights</th>\n",
       "      <th>schedule_type</th>\n",
       "      <th>salary</th>\n",
       "      <th>work_from_home</th>\n",
       "      <th>search_query</th>\n",
       "      <th>platform</th>\n",
       "    </tr>\n",
       "  </thead>\n",
       "  <tbody>\n",
       "    <tr>\n",
       "      <th>0</th>\n",
       "      <td>Cloud Consultant, Big Data and Analytics, Goog...</td>\n",
       "      <td>Google</td>\n",
       "      <td>Reston, VA</td>\n",
       "      <td>Minimum qualifications:\\n• Bachelor’s degree i...</td>\n",
       "      <td>[{\"title\": \"Qualifications\", \"items\": [\"Bachel...</td>\n",
       "      <td>Full-time</td>\n",
       "      <td>120K–190K a year</td>\n",
       "      <td>NaN</td>\n",
       "      <td>big data and cloud computing</td>\n",
       "      <td>Karkidi</td>\n",
       "    </tr>\n",
       "    <tr>\n",
       "      <th>1</th>\n",
       "      <td>Big Data Architect</td>\n",
       "      <td>Johnson Technology Systems Inc.</td>\n",
       "      <td>Washington, DC</td>\n",
       "      <td>We are hiring for Big Data Architect candidate...</td>\n",
       "      <td>[{\"title\": \"Qualifications\", \"items\": [\"Minimu...</td>\n",
       "      <td>Full-time</td>\n",
       "      <td>NaN</td>\n",
       "      <td>NaN</td>\n",
       "      <td>big data and cloud computing</td>\n",
       "      <td>Ladders</td>\n",
       "    </tr>\n",
       "    <tr>\n",
       "      <th>2</th>\n",
       "      <td>Data Architect</td>\n",
       "      <td>Applied Information Sciences</td>\n",
       "      <td>Reston, VA</td>\n",
       "      <td>As a Data Architect, you will use cutting-edge...</td>\n",
       "      <td>[{\"title\": \"Qualifications\", \"items\": [\"Minimu...</td>\n",
       "      <td>Full-time</td>\n",
       "      <td>NaN</td>\n",
       "      <td>NaN</td>\n",
       "      <td>big data and cloud computing</td>\n",
       "      <td>Applied Information Sciences</td>\n",
       "    </tr>\n",
       "  </tbody>\n",
       "</table>\n",
       "</div>"
      ],
      "text/plain": [
       "                                               title  \\\n",
       "0  Cloud Consultant, Big Data and Analytics, Goog...   \n",
       "1                                 Big Data Architect   \n",
       "2                                     Data Architect   \n",
       "\n",
       "                      company_name             location  \\\n",
       "0                           Google        Reston, VA      \n",
       "1  Johnson Technology Systems Inc.    Washington, DC      \n",
       "2     Applied Information Sciences        Reston, VA      \n",
       "\n",
       "                                         description  \\\n",
       "0  Minimum qualifications:\\n• Bachelor’s degree i...   \n",
       "1  We are hiring for Big Data Architect candidate...   \n",
       "2  As a Data Architect, you will use cutting-edge...   \n",
       "\n",
       "                                      job_highlights schedule_type  \\\n",
       "0  [{\"title\": \"Qualifications\", \"items\": [\"Bachel...     Full-time   \n",
       "1  [{\"title\": \"Qualifications\", \"items\": [\"Minimu...     Full-time   \n",
       "2  [{\"title\": \"Qualifications\", \"items\": [\"Minimu...     Full-time   \n",
       "\n",
       "             salary work_from_home                  search_query  \\\n",
       "0  120K–190K a year            NaN  big data and cloud computing   \n",
       "1               NaN            NaN  big data and cloud computing   \n",
       "2               NaN            NaN  big data and cloud computing   \n",
       "\n",
       "                       platform  \n",
       "0                       Karkidi  \n",
       "1                       Ladders  \n",
       "2  Applied Information Sciences  "
      ]
     },
     "execution_count": 11,
     "metadata": {},
     "output_type": "execute_result"
    }
   ],
   "source": [
    "highlights=[]\n",
    "for i in data[\"job_highlights\"]:\n",
    "    i = i.replace(\"'\", \"\\\"\")\n",
    "    highlights.append(i)\n",
    "\n",
    "data[\"job_highlights\"] = highlights\n",
    "data.head(3)"
   ]
  },
  {
   "cell_type": "code",
   "execution_count": 12,
   "metadata": {},
   "outputs": [
    {
     "data": {
      "text/html": [
       "<div>\n",
       "<style scoped>\n",
       "    .dataframe tbody tr th:only-of-type {\n",
       "        vertical-align: middle;\n",
       "    }\n",
       "\n",
       "    .dataframe tbody tr th {\n",
       "        vertical-align: top;\n",
       "    }\n",
       "\n",
       "    .dataframe thead th {\n",
       "        text-align: right;\n",
       "    }\n",
       "</style>\n",
       "<table border=\"1\" class=\"dataframe\">\n",
       "  <thead>\n",
       "    <tr style=\"text-align: right;\">\n",
       "      <th></th>\n",
       "      <th>Qualifications</th>\n",
       "      <th>Responsibilities</th>\n",
       "      <th>Benefits</th>\n",
       "    </tr>\n",
       "  </thead>\n",
       "  <tbody>\n",
       "    <tr>\n",
       "      <th>0</th>\n",
       "      <td>[Bachelor’s degree in Computer Science, Engine...</td>\n",
       "      <td>[As a Big Data and Analytics Cloud Consultant,...</td>\n",
       "      <td>NaN</td>\n",
       "    </tr>\n",
       "    <tr>\n",
       "      <th>1</th>\n",
       "      <td>[Minimum 8-12 years of experience in Data Mode...</td>\n",
       "      <td>[A Big Data Architect is responsible for desig...</td>\n",
       "      <td>NaN</td>\n",
       "    </tr>\n",
       "    <tr>\n",
       "      <th>2</th>\n",
       "      <td>[Minimum ten years of relational data backgrou...</td>\n",
       "      <td>[Work in a team with other smart AIS employees...</td>\n",
       "      <td>NaN</td>\n",
       "    </tr>\n",
       "  </tbody>\n",
       "</table>\n",
       "</div>"
      ],
      "text/plain": [
       "                                      Qualifications  \\\n",
       "0  [Bachelor’s degree in Computer Science, Engine...   \n",
       "1  [Minimum 8-12 years of experience in Data Mode...   \n",
       "2  [Minimum ten years of relational data backgrou...   \n",
       "\n",
       "                                    Responsibilities Benefits  \n",
       "0  [As a Big Data and Analytics Cloud Consultant,...      NaN  \n",
       "1  [A Big Data Architect is responsible for desig...      NaN  \n",
       "2  [Work in a team with other smart AIS employees...      NaN  "
      ]
     },
     "execution_count": 12,
     "metadata": {},
     "output_type": "execute_result"
    }
   ],
   "source": [
    "job_highlights = pd.DataFrame()\n",
    "for i in range(len(data[\"job_highlights\"])):\n",
    "    try:\n",
    "        temp = pd.DataFrame(json.loads(f'{data[\"job_highlights\"][i]}')).transpose().reset_index().loc[:,[0,1]]\n",
    "        #set column names equal to values in row index position 0\n",
    "        temp.columns = temp.iloc[0]\n",
    "        #remove first row from DataFrame\n",
    "        temp = temp.iloc[1:,[-2,-1]]\n",
    "    except:\n",
    "        temp = pd.DataFrame({\"Qualifications\":[\"\"],\"Responsibilities\":[\"\"],\"Benefits\":[\"\"]})\n",
    "    job_highlights = pd.concat([job_highlights, temp], axis=0)\n",
    "job_highlights.reset_index(inplace=True)\n",
    "job_highlights = job_highlights.iloc[:,1:]\n",
    "job_highlights.head(3)\n"
   ]
  },
  {
   "cell_type": "code",
   "execution_count": 13,
   "metadata": {},
   "outputs": [
    {
     "name": "stdout",
     "output_type": "stream",
     "text": [
      "(823, 3)\n"
     ]
    }
   ],
   "source": [
    "print(job_highlights.shape)"
   ]
  },
  {
   "cell_type": "code",
   "execution_count": 14,
   "metadata": {},
   "outputs": [
    {
     "name": "stdout",
     "output_type": "stream",
     "text": [
      "Index(['title', 'company_name', 'location', 'description', 'job_highlights',\n",
      "       'schedule_type', 'salary', 'work_from_home', 'search_query', 'platform',\n",
      "       'Qualifications', 'Responsibilities', 'Benefits'],\n",
      "      dtype='object')\n"
     ]
    }
   ],
   "source": [
    "data = pd.concat([data, job_highlights], axis=1)\n",
    "print(data.columns)"
   ]
  },
  {
   "cell_type": "code",
   "execution_count": 15,
   "metadata": {},
   "outputs": [
    {
     "data": {
      "text/html": [
       "<div>\n",
       "<style scoped>\n",
       "    .dataframe tbody tr th:only-of-type {\n",
       "        vertical-align: middle;\n",
       "    }\n",
       "\n",
       "    .dataframe tbody tr th {\n",
       "        vertical-align: top;\n",
       "    }\n",
       "\n",
       "    .dataframe thead th {\n",
       "        text-align: right;\n",
       "    }\n",
       "</style>\n",
       "<table border=\"1\" class=\"dataframe\">\n",
       "  <thead>\n",
       "    <tr style=\"text-align: right;\">\n",
       "      <th></th>\n",
       "      <th>title</th>\n",
       "      <th>company_name</th>\n",
       "      <th>location</th>\n",
       "      <th>description</th>\n",
       "      <th>job_highlights</th>\n",
       "      <th>schedule_type</th>\n",
       "      <th>salary</th>\n",
       "      <th>work_from_home</th>\n",
       "      <th>search_query</th>\n",
       "      <th>platform</th>\n",
       "      <th>Qualifications</th>\n",
       "      <th>Responsibilities</th>\n",
       "      <th>Benefits</th>\n",
       "    </tr>\n",
       "  </thead>\n",
       "  <tbody>\n",
       "    <tr>\n",
       "      <th>0</th>\n",
       "      <td>Cloud Consultant, Big Data and Analytics, Goog...</td>\n",
       "      <td>Google</td>\n",
       "      <td>Reston, VA</td>\n",
       "      <td>Minimum qualifications:\\n• Bachelor’s degree i...</td>\n",
       "      <td>[{\"title\": \"Qualifications\", \"items\": [\"Bachel...</td>\n",
       "      <td>Full-time</td>\n",
       "      <td>120K–190K a year</td>\n",
       "      <td>NaN</td>\n",
       "      <td>big data and cloud computing</td>\n",
       "      <td>Karkidi</td>\n",
       "      <td>[Bachelor’s degree in Computer Science, Engine...</td>\n",
       "      <td>[As a Big Data and Analytics Cloud Consultant,...</td>\n",
       "      <td>NaN</td>\n",
       "    </tr>\n",
       "    <tr>\n",
       "      <th>1</th>\n",
       "      <td>Big Data Architect</td>\n",
       "      <td>Johnson Technology Systems Inc.</td>\n",
       "      <td>Washington, DC</td>\n",
       "      <td>We are hiring for Big Data Architect candidate...</td>\n",
       "      <td>[{\"title\": \"Qualifications\", \"items\": [\"Minimu...</td>\n",
       "      <td>Full-time</td>\n",
       "      <td>NaN</td>\n",
       "      <td>NaN</td>\n",
       "      <td>big data and cloud computing</td>\n",
       "      <td>Ladders</td>\n",
       "      <td>[Minimum 8-12 years of experience in Data Mode...</td>\n",
       "      <td>[A Big Data Architect is responsible for desig...</td>\n",
       "      <td>NaN</td>\n",
       "    </tr>\n",
       "  </tbody>\n",
       "</table>\n",
       "</div>"
      ],
      "text/plain": [
       "                                               title  \\\n",
       "0  Cloud Consultant, Big Data and Analytics, Goog...   \n",
       "1                                 Big Data Architect   \n",
       "\n",
       "                      company_name             location  \\\n",
       "0                           Google        Reston, VA      \n",
       "1  Johnson Technology Systems Inc.    Washington, DC      \n",
       "\n",
       "                                         description  \\\n",
       "0  Minimum qualifications:\\n• Bachelor’s degree i...   \n",
       "1  We are hiring for Big Data Architect candidate...   \n",
       "\n",
       "                                      job_highlights schedule_type  \\\n",
       "0  [{\"title\": \"Qualifications\", \"items\": [\"Bachel...     Full-time   \n",
       "1  [{\"title\": \"Qualifications\", \"items\": [\"Minimu...     Full-time   \n",
       "\n",
       "             salary work_from_home                  search_query platform  \\\n",
       "0  120K–190K a year            NaN  big data and cloud computing  Karkidi   \n",
       "1               NaN            NaN  big data and cloud computing  Ladders   \n",
       "\n",
       "                                      Qualifications  \\\n",
       "0  [Bachelor’s degree in Computer Science, Engine...   \n",
       "1  [Minimum 8-12 years of experience in Data Mode...   \n",
       "\n",
       "                                    Responsibilities Benefits  \n",
       "0  [As a Big Data and Analytics Cloud Consultant,...      NaN  \n",
       "1  [A Big Data Architect is responsible for desig...      NaN  "
      ]
     },
     "execution_count": 15,
     "metadata": {},
     "output_type": "execute_result"
    }
   ],
   "source": [
    "data.head(2)"
   ]
  },
  {
   "cell_type": "code",
   "execution_count": 16,
   "metadata": {},
   "outputs": [
    {
     "data": {
      "text/plain": [
       "title                 0\n",
       "company_name          0\n",
       "location              0\n",
       "description           0\n",
       "job_highlights        0\n",
       "schedule_type         1\n",
       "salary              690\n",
       "work_from_home      646\n",
       "search_query          0\n",
       "platform              0\n",
       "Qualifications       12\n",
       "Responsibilities     25\n",
       "Benefits            393\n",
       "dtype: int64"
      ]
     },
     "execution_count": 16,
     "metadata": {},
     "output_type": "execute_result"
    }
   ],
   "source": [
    "data.isna().sum()"
   ]
  },
  {
   "cell_type": "code",
   "execution_count": 17,
   "metadata": {},
   "outputs": [],
   "source": [
    "data.drop(columns=[\"job_highlights\"], inplace=True)"
   ]
  },
  {
   "cell_type": "code",
   "execution_count": 18,
   "metadata": {},
   "outputs": [
    {
     "data": {
      "text/plain": [
       "title                 0\n",
       "company_name          0\n",
       "location              0\n",
       "description           0\n",
       "schedule_type         1\n",
       "salary              690\n",
       "work_from_home      646\n",
       "search_query          0\n",
       "platform              0\n",
       "Qualifications       12\n",
       "Responsibilities     25\n",
       "Benefits            393\n",
       "dtype: int64"
      ]
     },
     "execution_count": 18,
     "metadata": {},
     "output_type": "execute_result"
    }
   ],
   "source": [
    "data.isna().sum()"
   ]
  },
  {
   "cell_type": "code",
   "execution_count": 19,
   "metadata": {},
   "outputs": [
    {
     "data": {
      "text/html": [
       "<div>\n",
       "<style scoped>\n",
       "    .dataframe tbody tr th:only-of-type {\n",
       "        vertical-align: middle;\n",
       "    }\n",
       "\n",
       "    .dataframe tbody tr th {\n",
       "        vertical-align: top;\n",
       "    }\n",
       "\n",
       "    .dataframe thead th {\n",
       "        text-align: right;\n",
       "    }\n",
       "</style>\n",
       "<table border=\"1\" class=\"dataframe\">\n",
       "  <thead>\n",
       "    <tr style=\"text-align: right;\">\n",
       "      <th></th>\n",
       "      <th>title</th>\n",
       "      <th>company_name</th>\n",
       "      <th>location</th>\n",
       "      <th>description</th>\n",
       "      <th>schedule_type</th>\n",
       "      <th>salary</th>\n",
       "      <th>work_from_home</th>\n",
       "      <th>search_query</th>\n",
       "      <th>platform</th>\n",
       "      <th>Qualifications</th>\n",
       "      <th>Responsibilities</th>\n",
       "      <th>Benefits</th>\n",
       "    </tr>\n",
       "  </thead>\n",
       "  <tbody>\n",
       "    <tr>\n",
       "      <th>count</th>\n",
       "      <td>823</td>\n",
       "      <td>823</td>\n",
       "      <td>823</td>\n",
       "      <td>823</td>\n",
       "      <td>822</td>\n",
       "      <td>133</td>\n",
       "      <td>177</td>\n",
       "      <td>823</td>\n",
       "      <td>823</td>\n",
       "      <td>811</td>\n",
       "      <td>798</td>\n",
       "      <td>430</td>\n",
       "    </tr>\n",
       "    <tr>\n",
       "      <th>unique</th>\n",
       "      <td>458</td>\n",
       "      <td>425</td>\n",
       "      <td>170</td>\n",
       "      <td>579</td>\n",
       "      <td>4</td>\n",
       "      <td>62</td>\n",
       "      <td>1</td>\n",
       "      <td>11</td>\n",
       "      <td>188</td>\n",
       "      <td>283</td>\n",
       "      <td>272</td>\n",
       "      <td>20</td>\n",
       "    </tr>\n",
       "    <tr>\n",
       "      <th>top</th>\n",
       "      <td>Data Analyst</td>\n",
       "      <td>Upwork</td>\n",
       "      <td>Anywhere</td>\n",
       "      <td>First, The Data!\\n• Over 1 million unique chat...</td>\n",
       "      <td>Full-time</td>\n",
       "      <td>20–28 an hour</td>\n",
       "      <td>True</td>\n",
       "      <td>big data and cloud computing</td>\n",
       "      <td>LinkedIn</td>\n",
       "      <td></td>\n",
       "      <td></td>\n",
       "      <td></td>\n",
       "    </tr>\n",
       "    <tr>\n",
       "      <th>freq</th>\n",
       "      <td>21</td>\n",
       "      <td>56</td>\n",
       "      <td>177</td>\n",
       "      <td>6</td>\n",
       "      <td>719</td>\n",
       "      <td>32</td>\n",
       "      <td>177</td>\n",
       "      <td>90</td>\n",
       "      <td>66</td>\n",
       "      <td>393</td>\n",
       "      <td>393</td>\n",
       "      <td>393</td>\n",
       "    </tr>\n",
       "  </tbody>\n",
       "</table>\n",
       "</div>"
      ],
      "text/plain": [
       "               title company_name    location  \\\n",
       "count            823          823         823   \n",
       "unique           458          425         170   \n",
       "top     Data Analyst       Upwork   Anywhere    \n",
       "freq              21           56         177   \n",
       "\n",
       "                                              description schedule_type  \\\n",
       "count                                                 823           822   \n",
       "unique                                                579             4   \n",
       "top     First, The Data!\\n• Over 1 million unique chat...     Full-time   \n",
       "freq                                                    6           719   \n",
       "\n",
       "               salary work_from_home                  search_query  platform  \\\n",
       "count             133            177                           823       823   \n",
       "unique             62              1                            11       188   \n",
       "top     20–28 an hour           True  big data and cloud computing  LinkedIn   \n",
       "freq               32            177                            90        66   \n",
       "\n",
       "       Qualifications Responsibilities Benefits  \n",
       "count             811              798      430  \n",
       "unique            283              272       20  \n",
       "top                                              \n",
       "freq              393              393      393  "
      ]
     },
     "execution_count": 19,
     "metadata": {},
     "output_type": "execute_result"
    }
   ],
   "source": [
    "data.describe()"
   ]
  },
  {
   "attachments": {},
   "cell_type": "markdown",
   "metadata": {},
   "source": [
    "### clean column \"Benefits\""
   ]
  },
  {
   "cell_type": "code",
   "execution_count": 20,
   "metadata": {},
   "outputs": [],
   "source": [
    "data.loc[data[\"Benefits\"]==\"\",\"Benefits\"]=None\n",
    "data.loc[data[\"Qualifications\"]==\"\",\"Qualifications\"]=None\n",
    "data.loc[data[\"Responsibilities\"]==\"\",\"Responsibilities\"]=None"
   ]
  },
  {
   "cell_type": "code",
   "execution_count": 21,
   "metadata": {},
   "outputs": [
    {
     "data": {
      "text/plain": [
       "title                 0\n",
       "company_name          0\n",
       "location              0\n",
       "description           0\n",
       "schedule_type         1\n",
       "salary              690\n",
       "work_from_home      646\n",
       "search_query          0\n",
       "platform              0\n",
       "Qualifications      405\n",
       "Responsibilities    418\n",
       "Benefits            786\n",
       "dtype: int64"
      ]
     },
     "execution_count": 21,
     "metadata": {},
     "output_type": "execute_result"
    }
   ],
   "source": [
    "data.isna().sum()"
   ]
  },
  {
   "cell_type": "code",
   "execution_count": 22,
   "metadata": {},
   "outputs": [
    {
     "data": {
      "text/plain": [
       "Int64Index([ 15,  21,  34,  46, 133, 185, 208, 209, 210, 228, 236, 249, 286,\n",
       "            289, 302, 305, 314, 363, 366, 367, 372, 497, 564, 565, 578, 582,\n",
       "            628, 631, 640, 672, 684, 728, 733, 736, 743, 747, 816],\n",
       "           dtype='int64')"
      ]
     },
     "execution_count": 22,
     "metadata": {},
     "output_type": "execute_result"
    }
   ],
   "source": [
    "data.loc[data[\"Benefits\"].isna()==False,\"Benefits\"].index"
   ]
  },
  {
   "cell_type": "code",
   "execution_count": 189,
   "metadata": {},
   "outputs": [],
   "source": [
    "# keywords2 = ['\\$', \"per hour\", \"per year\"]\n",
    "# pattern2 = re.compile('|'.join(keywords2))\n",
    "\n",
    "# sentences = re.split(r'(?<=\\.)\\s', \" \".join(data[\"Benefits\"][816]))\n",
    "\n",
    "# res = str([s for s in sentences if pattern2.search(s)])[2:-2]\n",
    "# res"
   ]
  },
  {
   "attachments": {},
   "cell_type": "markdown",
   "metadata": {},
   "source": [
    "### clean column 'salary'"
   ]
  },
  {
   "attachments": {},
   "cell_type": "markdown",
   "metadata": {},
   "source": [
    "Some information about salary/salary range are in column 'description' and \"Benefits\", so extract the salary in these two columns."
   ]
  },
  {
   "cell_type": "code",
   "execution_count": 23,
   "metadata": {},
   "outputs": [],
   "source": [
    "desc_salary = data[\"description\"].str.contains(\"$\",regex=True).values\n",
    "benefit_salary = data[\"Benefits\"].str.contains(\"$\",regex=True).values\n",
    "salary_isnull = data[\"salary\"].isnull().values\n",
    "salary_sentence = []\n",
    "\n",
    "keywords1 = ['\\$']\n",
    "keywords2 = ['\\$', \"per hour\", \"per year\"]\n",
    "pattern1 = re.compile('|'.join(keywords1))\n",
    "pattern2 = re.compile('|'.join(keywords2))\n",
    "\n",
    "for i in range(len(desc_salary)):\n",
    "    if (desc_salary[i]==True) and salary_isnull[i]==True:\n",
    "        sentences = re.split(r'(?<=\\.)\\s', data[\"description\"][i])\n",
    "        matching_sentences = str([s for s in sentences if pattern1.search(s)])[2:-2]\n",
    "        salary_sentence.append(matching_sentences)\n",
    "    elif benefit_salary[i]==True and salary_isnull[i]==True:\n",
    "        sentences = re.split(r'(?<=\\.)\\s', \" \".join(data[\"Benefits\"][i]))\n",
    "        matching_sentences = str([s for s in sentences if pattern2.search(s)])[2:-2]\n",
    "        salary_sentence.append(matching_sentences)\n",
    "    else:\n",
    "        salary_sentence.append(None)\n",
    "\n",
    "data[\"salary_sentence\"] = salary_sentence\n"
   ]
  },
  {
   "cell_type": "code",
   "execution_count": 24,
   "metadata": {},
   "outputs": [
    {
     "data": {
      "text/plain": [
       "545"
      ]
     },
     "execution_count": 24,
     "metadata": {},
     "output_type": "execute_result"
    }
   ],
   "source": [
    "data.loc[data[\"salary_sentence\"]==\"\",\"salary_sentence\"]=None\n",
    "data[\"salary_sentence\"].isna().sum()"
   ]
  },
  {
   "cell_type": "code",
   "execution_count": 25,
   "metadata": {},
   "outputs": [],
   "source": [
    "salary_lower_bound = [None]*len(data[\"salary_sentence\"])\n",
    "salary_upper_bound = [None]*len(data[\"salary_sentence\"])\n",
    "\n",
    "# Regular expression to extract the substrings in the form of \"$95,100.00-$218,700.00\" or \"$146,300 to $271,700\"\n",
    "pattern = r\"\\$([\\d,]+(\\.\\d*)?)K*\\s*(?:-|to|--|and)\\s*\\$([\\d,]+(\\.\\d*)?)K*\"\n",
    "\n",
    "for i in range(len(data[\"salary_sentence\"])):\n",
    "    if data[\"salary_sentence\"][i] :\n",
    "        try:\n",
    "            match = re.search(pattern, data[\"salary_sentence\"][i])\n",
    "            salary_lower_bound[i] = float(match.group(1).replace(\",\",\"\"))\n",
    "            salary_upper_bound[i] = float(match.group(3).replace(\",\",\"\"))\n",
    "        except:\n",
    "            pass\n",
    "\n",
    "data[\"salary_lower_bound\"] = salary_lower_bound\n",
    "data[\"salary_upper_bound\"] = salary_upper_bound"
   ]
  },
  {
   "cell_type": "code",
   "execution_count": 26,
   "metadata": {},
   "outputs": [
    {
     "data": {
      "text/plain": [
       "651"
      ]
     },
     "execution_count": 26,
     "metadata": {},
     "output_type": "execute_result"
    }
   ],
   "source": [
    "data[\"salary_upper_bound\"].isnull().sum()"
   ]
  },
  {
   "cell_type": "code",
   "execution_count": 27,
   "metadata": {},
   "outputs": [
    {
     "data": {
      "text/plain": [
       "array([        nan, 8.18000e+04, 1.31000e+05, 1.18000e+05, 3.00000e+01,\n",
       "       1.05200e+05, 1.46300e+05, 9.24000e+04, 1.70000e+05, 5.84000e+04,\n",
       "       7.80000e+04, 1.18300e+05, 9.10000e+04, 1.01200e+05, 9.33000e+04,\n",
       "       7.31000e+04, 5.00000e+04, 1.37000e+05, 1.00000e+05, 1.10574e+05,\n",
       "       9.91380e+04, 1.05900e+05, 2.00800e+05, 2.25000e+05, 8.60000e+04,\n",
       "       8.64250e+04, 1.00900e+05, 1.50000e+05, 1.76000e+05, 1.40000e+05,\n",
       "       1.30000e+05, 1.37300e+05, 1.96000e+05, 2.17350e+05, 0.00000e+00,\n",
       "       1.12000e+05, 1.97400e+05, 6.59000e+04, 1.65000e+05, 1.42350e+05,\n",
       "       1.51800e+05, 1.17545e+05, 4.00000e+01, 1.40000e+04, 1.50500e+05,\n",
       "       1.16000e+05, 1.13500e+05, 5.09000e+03, 1.61000e+05, 1.28000e+05,\n",
       "       1.60000e+05, 1.39000e+05, 1.09200e+05, 8.26000e+04, 1.02000e+05,\n",
       "       1.05000e+05, 9.70000e+04, 8.50000e+04, 6.00000e+04, 5.81610e+04,\n",
       "       8.90000e+04, 9.00000e+04, 7.71200e+04, 9.18960e+04, 9.95200e+04,\n",
       "       6.60000e+04, 1.69000e+05, 1.20000e+02, 1.26750e+05, 1.17500e+05,\n",
       "       6.10460e+04, 8.15000e+04, 1.44000e+05, 4.70000e+01, 8.00000e+04,\n",
       "       2.29000e+05, 1.08600e+05, 1.48308e+05, 2.08000e+05, 2.30000e+05,\n",
       "       1.23960e+05, 8.27000e+04, 1.33000e+05, 5.20000e+04, 9.51000e+04,\n",
       "       1.20640e+05])"
      ]
     },
     "execution_count": 27,
     "metadata": {},
     "output_type": "execute_result"
    }
   ],
   "source": [
    "data[\"salary_lower_bound\"].unique()"
   ]
  },
  {
   "cell_type": "code",
   "execution_count": 28,
   "metadata": {},
   "outputs": [
    {
     "data": {
      "text/plain": [
       "array([          nan, 1.8600000e+05, 1.4000000e+05, 1.7700000e+05,\n",
       "       3.5000000e+01, 1.6840000e+05, 2.7170000e+05, 2.0460000e+05,\n",
       "       1.9000000e+05, 1.3300000e+05, 1.2000000e+05, 1.8200000e+05,\n",
       "       1.8400000e+05, 1.9880000e+05, 2.1200000e+05, 1.6600000e+05,\n",
       "       7.5000000e+04, 1.4500000e+05, 1.8797600e+05, 1.2737700e+05,\n",
       "       2.5100000e+05, 2.4760000e+05, 1.3800000e+05, 1.5916500e+05,\n",
       "       1.9330000e+05, 2.0000000e+05, 3.3350000e+05, 1.6000000e+05,\n",
       "       2.4200000e+05, 2.5510000e+05, 2.8000000e+04, 3.4709000e+05,\n",
       "       0.0000000e+00, 1.7900000e+05, 2.2530000e+05, 1.0410000e+05,\n",
       "       2.2000000e+05, 2.1900000e+05, 2.1000000e+05, 1.5574400e+05,\n",
       "       5.0000000e+01, 3.0000000e+05, 2.2550000e+05, 3.6000000e+05,\n",
       "       2.0700000e+05, 1.0120000e+04, 2.7800000e+05, 1.5600000e+05,\n",
       "       2.1300000e+05, 7.0000000e+05, 2.0280000e+05, 1.5340000e+05,\n",
       "       1.4200000e+05, 1.2900000e+05, 7.1000000e+04, 1.0500000e+05,\n",
       "       9.8873000e+04, 1.6900000e+05, 1.1000000e+05, 1.5844500e+05,\n",
       "       1.3784400e+05, 1.4928000e+05, 1.9200000e+05, 1.2500000e+05,\n",
       "       1.0600000e+05, 2.7100000e+05, 1.5000000e+02, 2.3375000e+05,\n",
       "       1.9580000e+05, 1.3290666e+05, 1.4260000e+05, 2.7025000e+05,\n",
       "       5.5000000e+01, 2.5000000e+05, 1.9500000e+05, 3.4350000e+05,\n",
       "       1.2672000e+05, 2.0065200e+05, 3.0600000e+05, 3.3500000e+05,\n",
       "       1.6699200e+05, 1.5850000e+05, 5.9000000e+04, 2.1870000e+05,\n",
       "       1.4976000e+05])"
      ]
     },
     "execution_count": 28,
     "metadata": {},
     "output_type": "execute_result"
    }
   ],
   "source": [
    "data[\"salary_upper_bound\"].unique()"
   ]
  },
  {
   "attachments": {},
   "cell_type": "markdown",
   "metadata": {},
   "source": [
    "Some information about salary/salary range has been recorded in the column 'salary', so salary lower/upper bound are extracted from this column. "
   ]
  },
  {
   "cell_type": "code",
   "execution_count": 29,
   "metadata": {},
   "outputs": [
    {
     "data": {
      "text/plain": [
       "array(['120K–190K a year', nan, '20–28 an hour', '50K–100K a year',\n",
       "       '10–30 an hour', '100K–200K a year', '150K–200K a year',\n",
       "       '136K–146K a year', '60K–70K a year', '100K–500K a year',\n",
       "       '100–120 an hour', '384,458 a year', '132,368 a year',\n",
       "       '35–70 an hour', '30–60 an hour', '95K–115K a year',\n",
       "       '93.8K–174K a year', '196K–335K a year', '53.3K–111K a year',\n",
       "       '110K–159K a year', '130K–180K a year', '100K–150K a year',\n",
       "       '35–50 an hour', '80–100 an hour', '10–80 an hour',\n",
       "       '140K–160K a year', '80K–120K a year', '100K–140K a year',\n",
       "       '130K–185K a year', '10–25 an hour', '15–20 an hour',\n",
       "       '80K–140K a year', '140K–200K a year', '150K–250K a year',\n",
       "       '75K–95K a year', '17.21 an hour', '60K–90K a year',\n",
       "       '6,151.93–12,187.25 a month', '49,916–56,155 a year',\n",
       "       '8,413–14,201 a month', '121K a year', '184K–275K a year',\n",
       "       '98.9K–175K a year', '100K–125K a year', '130K–200K a year',\n",
       "       '163K–245K a year', '125K–170K a year', '75–80 an hour',\n",
       "       '182K–262K a year', '206K a year', '221K–374K a year',\n",
       "       '90K–140K a year', '82 an hour', '12–30 an hour',\n",
       "       '110K–150K a year', '160K–250K a year', '40–60 an hour',\n",
       "       '25–100 an hour', '12–40 an hour', '280K a year',\n",
       "       '160K–200K a year', '60–80 an hour', '80K–100K a year'],\n",
       "      dtype=object)"
      ]
     },
     "execution_count": 29,
     "metadata": {},
     "output_type": "execute_result"
    }
   ],
   "source": [
    "data[\"salary\"].unique()"
   ]
  },
  {
   "cell_type": "code",
   "execution_count": 30,
   "metadata": {},
   "outputs": [
    {
     "data": {
      "text/plain": [
       "0      190000.0\n",
       "1           NaN\n",
       "2           NaN\n",
       "3           NaN\n",
       "4           NaN\n",
       "         ...   \n",
       "818    100000.0\n",
       "819    291200.0\n",
       "820         NaN\n",
       "821         NaN\n",
       "822         NaN\n",
       "Name: salary_upper_bound, Length: 823, dtype: float64"
      ]
     },
     "execution_count": 30,
     "metadata": {},
     "output_type": "execute_result"
    }
   ],
   "source": [
    "for i in range(len(data[\"salary\"])):\n",
    "    if salary_isnull[i]==False:\n",
    "        if \"a year\" in str(data[\"salary\"][i]):\n",
    "            try:\n",
    "                match = re.search(r\"(\\d+\\W\\d+)\\D*–(\\d+\\W\\d+)\", data[\"salary\"][i])  # like \"49,916–56,155 a year\"\n",
    "                if match:\n",
    "                    data.loc[i,\"salary_lower_bound\"] = float(match.group(1).replace(\",\",\"\")) * 1000\n",
    "                    data.loc[i,\"salary_upper_bound\"] = float(match.group(2).replace(\",\",\"\")) * 1000\n",
    "            except:\n",
    "                pass\n",
    "\n",
    "            try:\n",
    "                match = re.search(r\"(\\d+\\W*\\d+)K–(\\d+\\W*\\d+)K\", data[\"salary\"][i])  # like '120K–190K a year'\n",
    "                if match:\n",
    "                    data.loc[i,\"salary_lower_bound\"] = float(match.group(1)) * 1000\n",
    "                    data.loc[i,\"salary_upper_bound\"] = float(match.group(2)) * 1000\n",
    "            except:\n",
    "                pass\n",
    "\n",
    "            try:\n",
    "                match = re.search(r\"(\\d+\\W\\d+)\", data[\"salary\"][i])  # like '132,368 a year'\n",
    "                if match:\n",
    "                    data.loc[i,\"salary_lower_bound\"] = None\n",
    "                    data.loc[i,\"salary_upper_bound\"] = float(match.group().replace(\",\",\"\"))\n",
    "            except:\n",
    "                pass\n",
    "            \n",
    "        elif \"an hour\" in str(data[\"salary\"][i]):\n",
    "            try:\n",
    "                match = re.search(r\"(\\d+)–(\\d+)\", data[\"salary\"][i])  # like \"20–28 an hour\"\n",
    "                if match:\n",
    "                    data.loc[i,\"salary_lower_bound\"] = float(match.group(1)) * 10400\n",
    "                    data.loc[i,\"salary_upper_bound\"] = float(match.group(2)) * 10400\n",
    "            except:\n",
    "                pass\n",
    "\n",
    "            try:\n",
    "                match = re.search(r\"(\\d+\\W*\\d+)\", data[\"salary\"][i])  # like \"82 an hour\"\n",
    "                if match:\n",
    "                    data.loc[i,\"salary_lower_bound\"] = None\n",
    "                    data.loc[i,\"salary_upper_bound\"] = float(match.group(2)) * 10400\n",
    "            except:\n",
    "                pass\n",
    "\n",
    "        elif \"a month\" in str(data[\"salary\"][i]):\n",
    "            try:\n",
    "                match = re.search(r\"(\\d+\\W*\\d+)\\D*–(\\d+\\W*\\d+)\", data[\"salary\"][i])  # like \"8,413–14,201 a month\"\n",
    "                if match:\n",
    "                    data.loc[i,\"salary_lower_bound\"] = float(match.group(1).replace(\",\",\"\")) * 12\n",
    "                    data.loc[i,\"salary_upper_bound\"] = float(match.group(2).replace(\",\",\"\")) * 12\n",
    "            except:\n",
    "                pass\n",
    "\n",
    "data[\"salary_lower_bound\"].astype(float)\n",
    "data[\"salary_upper_bound\"].astype(float)"
   ]
  },
  {
   "cell_type": "code",
   "execution_count": 31,
   "metadata": {},
   "outputs": [],
   "source": [
    "data.drop(columns=[\"salary\",\"salary_sentence\",\"description\"], inplace=True)"
   ]
  },
  {
   "cell_type": "code",
   "execution_count": 32,
   "metadata": {},
   "outputs": [
    {
     "data": {
      "text/plain": [
       "title                   0\n",
       "company_name            0\n",
       "location                0\n",
       "schedule_type           1\n",
       "work_from_home        646\n",
       "search_query            0\n",
       "platform                0\n",
       "Qualifications        405\n",
       "Responsibilities      418\n",
       "Benefits              786\n",
       "salary_lower_bound    591\n",
       "salary_upper_bound    526\n",
       "dtype: int64"
      ]
     },
     "execution_count": 32,
     "metadata": {},
     "output_type": "execute_result"
    }
   ],
   "source": [
    "data.isna().sum()"
   ]
  },
  {
   "cell_type": "code",
   "execution_count": 33,
   "metadata": {},
   "outputs": [],
   "source": [
    "data.to_csv(\"./Dataset/cleaned/temp.csv\",index=False)\n"
   ]
  },
  {
   "cell_type": "code",
   "execution_count": 108,
   "metadata": {},
   "outputs": [
    {
     "data": {
      "text/plain": [
       "title                   0\n",
       "company_name            0\n",
       "location                0\n",
       "schedule_type           1\n",
       "work_from_home        646\n",
       "search_query            0\n",
       "platform                0\n",
       "Qualifications        405\n",
       "Responsibilities      418\n",
       "salary_lower_bound    586\n",
       "salary_upper_bound    524\n",
       "dtype: int64"
      ]
     },
     "execution_count": 108,
     "metadata": {},
     "output_type": "execute_result"
    }
   ],
   "source": [
    "data = pd.read_csv(\"./Dataset/cleaned/temp.csv\")\n",
    "data.drop(columns=\"Benefits\", inplace=True)\n",
    "data.isna().sum()"
   ]
  },
  {
   "attachments": {},
   "cell_type": "markdown",
   "metadata": {},
   "source": [
    "#### fill in the missing values in columns 'salary_lower_bound' and 'salary_upper_bound'"
   ]
  },
  {
   "cell_type": "code",
   "execution_count": 109,
   "metadata": {},
   "outputs": [],
   "source": [
    "# Filling nan values with mean\n",
    "data['salary_lower_bound'] = data.groupby(\"search_query\")['salary_lower_bound'].transform(lambda x: x.fillna(x.mean()))\n",
    "data['salary_upper_bound'] = data.groupby(\"search_query\")['salary_upper_bound'].transform(lambda x: x.fillna(x.mean()))"
   ]
  },
  {
   "cell_type": "code",
   "execution_count": 89,
   "metadata": {},
   "outputs": [
    {
     "data": {
      "text/plain": [
       "title                   0\n",
       "company_name            0\n",
       "location                0\n",
       "schedule_type           1\n",
       "work_from_home        646\n",
       "search_query            0\n",
       "platform                0\n",
       "Qualifications        405\n",
       "Responsibilities      418\n",
       "salary_lower_bound      6\n",
       "salary_upper_bound      0\n",
       "dtype: int64"
      ]
     },
     "execution_count": 89,
     "metadata": {},
     "output_type": "execute_result"
    }
   ],
   "source": [
    "data.isna().sum()"
   ]
  },
  {
   "attachments": {},
   "cell_type": "markdown",
   "metadata": {},
   "source": [
    "### clean column \"location\""
   ]
  },
  {
   "cell_type": "code",
   "execution_count": 90,
   "metadata": {},
   "outputs": [],
   "source": [
    "cities = [None]*len(data[\"location\"])\n",
    "states = [None]*len(data[\"location\"])\n",
    "\n",
    "for i in range(len(data[\"location\"])):\n",
    "    data.loc[i,\"location\"] = data.loc[i,\"location\"].split(\"(\")[0]\n",
    "    if ('United States' not in data.loc[i,\"location\"]) and (\"Anywhere\" not in data.loc[i,\"location\"]) and (len(data.loc[i,\"location\"].split(\",\"))>1):\n",
    "        try:\n",
    "            cities[i] = data.loc[i,\"location\"].split(\",\")[0].strip()\n",
    "            states[i] = data.loc[i,\"location\"].split(\",\")[1].split(\" \")[1].strip()\n",
    "        except:\n",
    "            pass\n",
    "    elif ('United States' in data.loc[i,\"location\"]) or (\"Anywhere\" in data.loc[i,\"location\"]):\n",
    "        cities[i] = \"Anywhere\"\n",
    "        states[i] = \"Anywhere\"\n",
    "    elif \"other\" in data.loc[i,\"location\"]:\n",
    "        cities[i] = \"Anywhere\"\n",
    "        states[i] = data.loc[i,\"location\"].split(\" \")[1].strip()\n",
    "    elif data.loc[i,\"location\"].strip(\" \") == \"Maryland\":\n",
    "        states[i] = \"MD\"\n",
    "    elif data.loc[i,\"location\"].strip(\" \") == \"California\":\n",
    "        states[i] = \"CA\"\n",
    "    elif data.loc[i,\"location\"].strip(\" \") == \"New York\":\n",
    "        states[i] = \"NY\"\n",
    "    elif data.loc[i,\"location\"].strip(\" \") == \"Missouri\":\n",
    "        states[i] = \"MO\"\n",
    "    elif data.loc[i,\"location\"].strip(\" \") == \"Illinois\":\n",
    "        states[i] = \"IL\"\n",
    "    elif data.loc[i,\"location\"].strip(\" \") == \"Texas\":\n",
    "        states[i] = \"TX\"\n",
    "    elif data.loc[i,\"location\"].strip(\" \") == \"Washington\":\n",
    "        states[i] = \"WA\"\n",
    "    elif data.loc[i,\"location\"].strip(\" \") == \"Ohio\":\n",
    "        states[i] = \"OH\"\n",
    "\n",
    "data[\"city\"] = cities\n",
    "data[\"state\"] = states\n",
    "\n",
    "data.loc[data[\"city\"].isna()==True,\"city\"]=\"Anywhere\""
   ]
  },
  {
   "cell_type": "code",
   "execution_count": 91,
   "metadata": {},
   "outputs": [],
   "source": [
    "data.drop(columns=\"location\", inplace=True)"
   ]
  },
  {
   "cell_type": "code",
   "execution_count": 92,
   "metadata": {},
   "outputs": [
    {
     "data": {
      "text/plain": [
       "array(['Reston', 'Washington', 'Chantilly', 'Laurel', 'Catonsville',\n",
       "       'Annapolis', 'Hanover', 'Fort Meade', 'Columbia', 'Anywhere',\n",
       "       'Annapolis Junction', 'Herndon', 'Baltimore', 'Wilmington',\n",
       "       'Edison', 'Moline', 'Arlington', 'Manassas', 'Fairfax',\n",
       "       'Rockville', 'New York', 'Seattle', 'San Francisco', 'Durham',\n",
       "       'San Jose', 'Pittsburgh', 'Chicago', 'Alexandria', 'McLean',\n",
       "       'Bethesda', 'Chevy Chase', 'Falls Church', 'Silver Spring',\n",
       "       'Springfield', 'Beltsville', 'Germantown', 'Bowie', 'Takoma Park',\n",
       "       'Wheaton-Glenmont', 'Fort Belvoir', 'Vienna', 'Sterling',\n",
       "       'Suffolk', 'Bridgeport', 'Cupertino', 'Dallas',\n",
       "       'South San Francisco', 'Honolulu', 'Livermore', 'Fremont',\n",
       "       'Menlo Park', 'College Park', 'Kirkland', 'Culver City', 'Boston',\n",
       "       'Cincinnati', 'Oak Ridge', 'Montreal', 'Brooklyn', 'Los Altos',\n",
       "       'Columbus', 'Sunnyvale', 'Sacramento', 'Atlanta', 'Madrid',\n",
       "       'Palo Alto', 'Los Angeles', 'Covington', 'San Diego', 'Bethune',\n",
       "       'Phoenix', 'Somerville', 'West Columbia', 'Santa Clara', 'Ruston',\n",
       "       'Newton', 'Dayton', 'Lexington', 'Marlborough', 'Waltham',\n",
       "       'Salt Lake City', 'White Plains', 'Los Gatos', 'Dearing',\n",
       "       'Crownsville', 'San Mateo', 'Weehawken', 'Miami', 'Irving',\n",
       "       'Mechanicsburg', 'Boulder', 'Sausalito', 'Las Vegas', 'Austin',\n",
       "       'Olathe', 'Bentonville', 'Rogers', 'Beatrice', 'Oklahoma City',\n",
       "       'Edmond', 'Kansas City', 'Roxton', 'Jefferson City', 'Topeka',\n",
       "       'Lenexa', 'Madison', 'Illinois City', 'Evanston', 'Deerfield',\n",
       "       'Arden Hills', 'Eagan', 'North Chicago', 'Schererville',\n",
       "       'Huntsville', 'Houston', 'Colorado Springs', 'St Paul',\n",
       "       'Downers Grove', 'Clayton', 'Milwaukee', 'Redwood City', 'Natick',\n",
       "       'Trenton', 'Teaneck', 'Boerne', 'Redmond', 'Cary', 'Littleton',\n",
       "       'Mountain View', 'Cambridge', 'Lincolnshire', 'Plano', 'Bolinas',\n",
       "       'Woburn', 'Mesquite', 'Emeryville', 'Grand Rapids', 'Ann Arbor',\n",
       "       'Minneapolis', 'Irvine', 'Charlotte', 'Pleasanton', 'Princeton',\n",
       "       'Champaign', 'Southborough', 'Berkeley', 'North Reading',\n",
       "       'Milpitas', 'Westborough', 'Pasadena'], dtype=object)"
      ]
     },
     "execution_count": 92,
     "metadata": {},
     "output_type": "execute_result"
    }
   ],
   "source": [
    "data[\"city\"].unique()"
   ]
  },
  {
   "cell_type": "code",
   "execution_count": 93,
   "metadata": {},
   "outputs": [
    {
     "data": {
      "text/plain": [
       "array(['VA', 'DC', 'MD', 'OH', 'Anywhere', 'DE', 'NJ', 'IL', 'NY', 'WA',\n",
       "       'CA', 'NC', 'PA', 'WV', 'TX', 'HI', 'MA', 'TN', 'MO', 'GA', 'AL',\n",
       "       'KY', 'SC', 'AZ', 'LA', 'UT', 'KS', 'FL', 'CO', 'NV', 'AR', 'NE',\n",
       "       'OK', 'WI', 'MN', 'IN', 'MI'], dtype=object)"
      ]
     },
     "execution_count": 93,
     "metadata": {},
     "output_type": "execute_result"
    }
   ],
   "source": [
    "data[\"state\"].unique()"
   ]
  },
  {
   "cell_type": "code",
   "execution_count": 94,
   "metadata": {},
   "outputs": [
    {
     "data": {
      "text/plain": [
       "title                   0\n",
       "company_name            0\n",
       "schedule_type           1\n",
       "work_from_home        646\n",
       "search_query            0\n",
       "platform                0\n",
       "Qualifications        405\n",
       "Responsibilities      418\n",
       "salary_lower_bound      6\n",
       "salary_upper_bound      0\n",
       "city                    0\n",
       "state                   0\n",
       "dtype: int64"
      ]
     },
     "execution_count": 94,
     "metadata": {},
     "output_type": "execute_result"
    }
   ],
   "source": [
    "data.isna().sum()"
   ]
  },
  {
   "attachments": {},
   "cell_type": "markdown",
   "metadata": {},
   "source": [
    "### clean columns \"Qualifications\" and \"Responsibilities\""
   ]
  },
  {
   "cell_type": "code",
   "execution_count": 95,
   "metadata": {},
   "outputs": [
    {
     "name": "stdout",
     "output_type": "stream",
     "text": [
      "['Bachelor’s degree in Computer Science, Engineering, technical field or equivalent practical experience', '3 years of experience project managing and delivering technical solutions', 'Experience in systems design and architecting or communicating systems interactions, including data flows, interfaces, APIs, and methods', 'Experience with architecting, developing, or maintaining technical solutions in virtualized environments']\n",
      "<class 'str'>\n"
     ]
    }
   ],
   "source": [
    "print(data.loc[0,\"Qualifications\"])\n",
    "print(type(data.loc[0,\"Qualifications\"]))"
   ]
  },
  {
   "cell_type": "code",
   "execution_count": 96,
   "metadata": {},
   "outputs": [
    {
     "name": "stdout",
     "output_type": "stream",
     "text": [
      "Bachelor’s degree in Computer Science, Engineering, technical field or equivalent practical experience 3 years of experience project managing and delivering technical solutions Experience in systems design and architecting or communicating systems interactions, including data flows, interfaces, APIs, and methods Experience with architecting, developing, or maintaining technical solutions in virtualized environments\n",
      "<class 'str'>\n"
     ]
    }
   ],
   "source": [
    "temp = ' '.join(x for x in eval(data.loc[0,\"Qualifications\"]))\n",
    "print(temp)\n",
    "print(type(temp))"
   ]
  },
  {
   "cell_type": "code",
   "execution_count": 97,
   "metadata": {},
   "outputs": [],
   "source": [
    "for i in range(data.shape[0]):\n",
    "    if not data[\"Qualifications\"].isna()[i]:\n",
    "        data.loc[i, \"Qualifications\"] = ' '.join(x for x in eval(data.loc[i,\"Qualifications\"]))\n",
    "    if not data[\"Responsibilities\"].isna()[i]:\n",
    "        data.loc[i, \"Responsibilities\"] = ' '.join(x for x in eval(data.loc[i, \"Responsibilities\"]))"
   ]
  },
  {
   "cell_type": "code",
   "execution_count": 98,
   "metadata": {},
   "outputs": [],
   "source": [
    "# define stopwords\n",
    "stopwords_en = stopwords.words('english')\n",
    "# add=['rt','wa','u']\n",
    "# for sp in add: stopwords_en.append(sp)\n",
    "\n",
    "# Cleaning column 'Qualifications' row by row\n",
    "cleaned_qualifications =[]\n",
    "\n",
    "for each_row in data[\"Qualifications\"]:\n",
    "\ttry:\n",
    "\t\ttmp=''\n",
    "\t\t# Removing hashtags and mentions\n",
    "\t\ttmp = re.sub(\"^RT\\s@[A-Za-z0-9_]+:\",\"\", each_row)\n",
    "\t\ttmp = re.sub(\"@[A-Za-z0-9_]+\",\"\", tmp)\n",
    "\t\ttmp = re.sub(\"#[A-Za-z0-9_]+\",\"\", tmp)\n",
    "\n",
    "\t\t# Removing '\\n'\n",
    "\t\ttmp = re.sub(\"\\n\",\"\", tmp)\n",
    "\n",
    "\t\t# Removing links\n",
    "\t\ttmp = re.sub(r\"http\\S+\", \"\", tmp)\n",
    "\t\ttmp = re.sub(r\"www.\\S+\", \"\", tmp)\n",
    "\t\n",
    "\t\t# only keep char in string.printable\n",
    "\t\ttmp = \"\".join(filter(lambda x: x in string.printable, tmp))\n",
    "\n",
    "\t\t# Lowercasing all the letters\n",
    "\t\ttmp = tmp.lower()\n",
    "\n",
    "\t\t#BREAK INTO CHUNKS (SENTANCES OR OTHERWISE)\n",
    "\t\tsentences = nltk.tokenize.sent_tokenize(tmp)  #SENTENCES\n",
    "\n",
    "\t\t# CLEAN AND LEMMATIZE\n",
    "\t\tkeep='0123456789abcdefghijklmnopqrstuvwxy'\n",
    "\n",
    "\t\tnew_qualifications=''\n",
    "\t\tfor sentence in sentences:\n",
    "\t\t\tnew_sentence=''\n",
    "\n",
    "\t\t\t# REBUILD LEMITIZED SENTENCE\n",
    "\t\t\tfor word in sentence.split():\n",
    "\t\t\t\n",
    "\t\t\t\t# ONLY KEEP CHAR IN \"keep\"\n",
    "\t\t\t\ttmp2=''\n",
    "\t\t\t\tfor char in word: \n",
    "\t\t\t\t\tif(char in keep): \n",
    "\t\t\t\t\t\ttmp2=tmp2+char\n",
    "\t\t\t\t\telse:\n",
    "\t\t\t\t\t\ttmp2=tmp2+' '\n",
    "\t\t\t\tword=tmp2\n",
    "\n",
    "\t\t\t\t#-----------------------\n",
    "\t\t\t\t# LEMMATIZE THE WORDS\n",
    "\t\t\t\tlemmatizer = WordNetLemmatizer()\n",
    "\t\t\t\tnew_word = lemmatizer.lemmatize(word)\n",
    "\t\t\t\t#-----------------------\n",
    "\n",
    "\t\t\t\t# REMOVE WHITE SPACES\n",
    "\t\t\t\tnew_word=new_word.replace(' ', '')\n",
    "\n",
    "\t\t\t\t# BUILD NEW SENTANCE BACK UP\n",
    "\t\t\t\tif(new_word not in stopwords_en):\n",
    "\t\t\t\t\tif(new_sentence==''):\n",
    "\t\t\t\t\t\tnew_sentence=new_word\n",
    "\t\t\t\t\telse:\n",
    "\t\t\t\t\t\tnew_sentence=new_sentence+' '+new_word\n",
    "\n",
    "\t\t\t# SAVE\n",
    "\t\t\tif(new_qualifications==''):\n",
    "\t\t\t\tnew_qualifications=new_sentence\n",
    "\t\t\telse:\n",
    "\t\t\t\tnew_qualifications=new_qualifications+' '+new_sentence\n",
    "\n",
    "\t\tcleaned_qualifications.append(new_qualifications)\n",
    "\n",
    "\texcept:\n",
    "\t\tcleaned_qualifications.append(None)\n",
    "\n"
   ]
  },
  {
   "cell_type": "code",
   "execution_count": 99,
   "metadata": {},
   "outputs": [],
   "source": [
    "# Cleaning reviews row by row\n",
    "cleaned_responsibilities = []\n",
    "\n",
    "for each_row in data[\"Responsibilities\"]:\n",
    "\ttry:\n",
    "\t\ttmp=''\n",
    "\t\t# Removing hashtags and mentions\n",
    "\t\ttmp = re.sub(\"^RT\\s@[A-Za-z0-9_]+:\",\"\", each_row)\n",
    "\t\t# tmp = re.sub(\"@[A-Za-z0-9_]+\",\"\", tmp)\n",
    "\t\t# tmp = re.sub(\"#[A-Za-z0-9_]+\",\"\", tmp)\n",
    "\n",
    "\t\t# Removing '\\n'\n",
    "\t\ttmp = re.sub(\"\\n\",\"\", tmp)\n",
    "\n",
    "\t\t# Removing links\n",
    "\t\ttmp = re.sub(r\"http\\S+\", \"\", tmp)\n",
    "\t\ttmp = re.sub(r\"www.\\S+\", \"\", tmp)\n",
    "\t\n",
    "\t\t# only keep char in string.printable\n",
    "\t\ttmp = \"\".join(filter(lambda x: x in string.printable, tmp))\n",
    "\n",
    "\t\t# Lowercasing all the letters\n",
    "\t\ttmp = tmp.lower()\n",
    "\n",
    "\t\t#BREAK INTO CHUNKS (SENTANCES OR OTHERWISE)\n",
    "\t\tsentences = nltk.tokenize.sent_tokenize(tmp)  #SENTENCES\n",
    "\n",
    "\t\t# CLEAN AND LEMMATIZE\n",
    "\t\tkeep='0123456789abcdefghijklmnopqrstuvwxy'\n",
    "\n",
    "\t\tnew_responsibilities=''\n",
    "\t\tfor sentence in sentences:\n",
    "\t\t\tnew_sentence=''\n",
    "\n",
    "\t\t\t# REBUILD LEMITIZED SENTENCE\n",
    "\t\t\tfor word in sentence.split():\n",
    "\t\t\t\n",
    "\t\t\t\t# ONLY KEEP CHAR IN \"keep\"\n",
    "\t\t\t\ttmp2=''\n",
    "\t\t\t\tfor char in word: \n",
    "\t\t\t\t\tif(char in keep): \n",
    "\t\t\t\t\t\ttmp2=tmp2+char\n",
    "\t\t\t\t\telse:\n",
    "\t\t\t\t\t\ttmp2=tmp2+' '\n",
    "\t\t\t\tword=tmp2\n",
    "\n",
    "\t\t\t\t#-----------------------\n",
    "\t\t\t\t# LEMMATIZE THE WORDS\n",
    "\t\t\t\tlemmatizer = WordNetLemmatizer()\n",
    "\t\t\t\tnew_word = lemmatizer.lemmatize(word)\n",
    "\t\t\t\t#-----------------------\n",
    "\n",
    "\t\t\t\t# REMOVE WHITE SPACES\n",
    "\t\t\t\tnew_word=new_word.replace(' ', '')\n",
    "\n",
    "\t\t\t\t# BUILD NEW SENTANCE BACK UP\n",
    "\t\t\t\tif(new_word not in stopwords_en):\n",
    "\t\t\t\t\tif(new_sentence==''):\n",
    "\t\t\t\t\t\tnew_sentence=new_word\n",
    "\t\t\t\t\telse:\n",
    "\t\t\t\t\t\tnew_sentence=new_sentence+' '+new_word\n",
    "\n",
    "\t\t\t# SAVE\n",
    "\t\t\tif(new_responsibilities==''):\n",
    "\t\t\t\tnew_responsibilities=new_sentence\n",
    "\t\t\telse:\n",
    "\t\t\t\tnew_responsibilities=new_responsibilities+' '+new_sentence\n",
    "\n",
    "\t\tcleaned_responsibilities.append(new_responsibilities)\n",
    "\texcept:\n",
    "\t\tcleaned_responsibilities.append(None)\n",
    "\n",
    "data[\"Responsibilities\"] = cleaned_responsibilities"
   ]
  },
  {
   "cell_type": "code",
   "execution_count": 100,
   "metadata": {},
   "outputs": [
    {
     "data": {
      "text/html": [
       "<div>\n",
       "<style scoped>\n",
       "    .dataframe tbody tr th:only-of-type {\n",
       "        vertical-align: middle;\n",
       "    }\n",
       "\n",
       "    .dataframe tbody tr th {\n",
       "        vertical-align: top;\n",
       "    }\n",
       "\n",
       "    .dataframe thead th {\n",
       "        text-align: right;\n",
       "    }\n",
       "</style>\n",
       "<table border=\"1\" class=\"dataframe\">\n",
       "  <thead>\n",
       "    <tr style=\"text-align: right;\">\n",
       "      <th></th>\n",
       "      <th>title</th>\n",
       "      <th>company_name</th>\n",
       "      <th>schedule_type</th>\n",
       "      <th>work_from_home</th>\n",
       "      <th>search_query</th>\n",
       "      <th>platform</th>\n",
       "      <th>Qualifications</th>\n",
       "      <th>Responsibilities</th>\n",
       "      <th>salary_lower_bound</th>\n",
       "      <th>salary_upper_bound</th>\n",
       "      <th>city</th>\n",
       "      <th>state</th>\n",
       "    </tr>\n",
       "  </thead>\n",
       "  <tbody>\n",
       "    <tr>\n",
       "      <th>0</th>\n",
       "      <td>Cloud Consultant, Big Data and Analytics, Goog...</td>\n",
       "      <td>Google</td>\n",
       "      <td>Full-time</td>\n",
       "      <td>NaN</td>\n",
       "      <td>big data and cloud computing</td>\n",
       "      <td>Karkidi</td>\n",
       "      <td>Bachelor’s degree in Computer Science, Enginee...</td>\n",
       "      <td>big data analytics cloud consultant work direc...</td>\n",
       "      <td>120000.000000</td>\n",
       "      <td>190000.000000</td>\n",
       "      <td>Reston</td>\n",
       "      <td>VA</td>\n",
       "    </tr>\n",
       "    <tr>\n",
       "      <th>1</th>\n",
       "      <td>Big Data Architect</td>\n",
       "      <td>Johnson Technology Systems Inc.</td>\n",
       "      <td>Full-time</td>\n",
       "      <td>NaN</td>\n",
       "      <td>big data and cloud computing</td>\n",
       "      <td>Ladders</td>\n",
       "      <td>Minimum 8-12 years of experience in Data Model...</td>\n",
       "      <td>big data architect responsible designing imple...</td>\n",
       "      <td>176890.555556</td>\n",
       "      <td>275471.086957</td>\n",
       "      <td>Washington</td>\n",
       "      <td>DC</td>\n",
       "    </tr>\n",
       "    <tr>\n",
       "      <th>2</th>\n",
       "      <td>Data Architect</td>\n",
       "      <td>Applied Information Sciences</td>\n",
       "      <td>Full-time</td>\n",
       "      <td>NaN</td>\n",
       "      <td>big data and cloud computing</td>\n",
       "      <td>Applied Information Sciences</td>\n",
       "      <td>Minimum ten years of relational data backgroun...</td>\n",
       "      <td>work team smart ai employee use cuttingedge te...</td>\n",
       "      <td>176890.555556</td>\n",
       "      <td>275471.086957</td>\n",
       "      <td>Reston</td>\n",
       "      <td>VA</td>\n",
       "    </tr>\n",
       "    <tr>\n",
       "      <th>3</th>\n",
       "      <td>Senior Cloud Solutions Architect Secret Clearance</td>\n",
       "      <td>inforeliance</td>\n",
       "      <td>Full-time</td>\n",
       "      <td>NaN</td>\n",
       "      <td>big data and cloud computing</td>\n",
       "      <td>WayUp</td>\n",
       "      <td>NaN</td>\n",
       "      <td>None</td>\n",
       "      <td>176890.555556</td>\n",
       "      <td>275471.086957</td>\n",
       "      <td>Washington</td>\n",
       "      <td>DC</td>\n",
       "    </tr>\n",
       "    <tr>\n",
       "      <th>4</th>\n",
       "      <td>Cloud Software Engineer</td>\n",
       "      <td>WayUp</td>\n",
       "      <td>Full-time</td>\n",
       "      <td>NaN</td>\n",
       "      <td>big data and cloud computing</td>\n",
       "      <td>JobLeads</td>\n",
       "      <td>NaN</td>\n",
       "      <td>None</td>\n",
       "      <td>176890.555556</td>\n",
       "      <td>275471.086957</td>\n",
       "      <td>Washington</td>\n",
       "      <td>DC</td>\n",
       "    </tr>\n",
       "  </tbody>\n",
       "</table>\n",
       "</div>"
      ],
      "text/plain": [
       "                                               title  \\\n",
       "0  Cloud Consultant, Big Data and Analytics, Goog...   \n",
       "1                                 Big Data Architect   \n",
       "2                                     Data Architect   \n",
       "3  Senior Cloud Solutions Architect Secret Clearance   \n",
       "4                            Cloud Software Engineer   \n",
       "\n",
       "                      company_name schedule_type work_from_home  \\\n",
       "0                           Google     Full-time            NaN   \n",
       "1  Johnson Technology Systems Inc.     Full-time            NaN   \n",
       "2     Applied Information Sciences     Full-time            NaN   \n",
       "3                     inforeliance     Full-time            NaN   \n",
       "4                            WayUp     Full-time            NaN   \n",
       "\n",
       "                   search_query                      platform  \\\n",
       "0  big data and cloud computing                       Karkidi   \n",
       "1  big data and cloud computing                       Ladders   \n",
       "2  big data and cloud computing  Applied Information Sciences   \n",
       "3  big data and cloud computing                         WayUp   \n",
       "4  big data and cloud computing                      JobLeads   \n",
       "\n",
       "                                      Qualifications  \\\n",
       "0  Bachelor’s degree in Computer Science, Enginee...   \n",
       "1  Minimum 8-12 years of experience in Data Model...   \n",
       "2  Minimum ten years of relational data backgroun...   \n",
       "3                                                NaN   \n",
       "4                                                NaN   \n",
       "\n",
       "                                    Responsibilities  salary_lower_bound  \\\n",
       "0  big data analytics cloud consultant work direc...       120000.000000   \n",
       "1  big data architect responsible designing imple...       176890.555556   \n",
       "2  work team smart ai employee use cuttingedge te...       176890.555556   \n",
       "3                                               None       176890.555556   \n",
       "4                                               None       176890.555556   \n",
       "\n",
       "   salary_upper_bound        city state  \n",
       "0       190000.000000      Reston    VA  \n",
       "1       275471.086957  Washington    DC  \n",
       "2       275471.086957      Reston    VA  \n",
       "3       275471.086957  Washington    DC  \n",
       "4       275471.086957  Washington    DC  "
      ]
     },
     "execution_count": 100,
     "metadata": {},
     "output_type": "execute_result"
    }
   ],
   "source": [
    "data.head()"
   ]
  },
  {
   "cell_type": "code",
   "execution_count": 101,
   "metadata": {},
   "outputs": [],
   "source": [
    "data.to_csv(\"./Dataset/cleaned/all.csv\",index=False)"
   ]
  }
 ],
 "metadata": {
  "kernelspec": {
   "display_name": "anly503",
   "language": "python",
   "name": "anly503"
  },
  "language_info": {
   "codemirror_mode": {
    "name": "ipython",
    "version": 3
   },
   "file_extension": ".py",
   "mimetype": "text/x-python",
   "name": "python",
   "nbconvert_exporter": "python",
   "pygments_lexer": "ipython3",
   "version": "3.10.8"
  },
  "orig_nbformat": 4
 },
 "nbformat": 4,
 "nbformat_minor": 2
}
